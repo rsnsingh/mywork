{
 "cells": [
  {
   "cell_type": "markdown",
   "metadata": {
    "colab_type": "text",
    "id": "NXdvvep3n8GN"
   },
   "source": [
    "# DSCI 511: Data acquisition and pre-processing<br>Chapter 1: Introduction, process, and getting started with data\n",
    "## Exercises\n",
    "Note: numberings refer to the main notes."
   ]
  },
  {
   "cell_type": "code",
   "execution_count": 3,
   "metadata": {},
   "outputs": [
    {
     "name": "stdout",
     "output_type": "stream",
     "text": [
      "1\n",
      "Body\n",
      "2\n",
      "Body\n",
      "-1\n",
      "Done.\n"
     ]
    }
   ],
   "source": [
    "user_num = int(input())\n",
    "while(user_num > 0 ):\n",
    "    print('Body')\n",
    "    user_num = int(input())\n",
    "\n",
    "print('Done.')\n"
   ]
  },
  {
   "cell_type": "code",
   "execution_count": 15,
   "metadata": {},
   "outputs": [
    {
     "name": "stdout",
     "output_type": "stream",
     "text": [
      "Enter month name : dec\n",
      "Enter Day of Month : 10\n",
      "Autumn\n"
     ]
    }
   ],
   "source": [
    "month = input('Enter month name : ')\n",
    "day   = int(input('Enter Day of Month : '))\n",
    "months = ['jan','feb','march','april','may','june','july','august','sep','oct','nov','dec']\n",
    "\n",
    "Spring = ['march','april','may','june']\n",
    "Summer = ['june','july','august','sep']\n",
    "Autumn = ['sep','oct','nov','dec']\n",
    "Winter = ['dec','jan','feb','march']\n",
    "\n",
    "if month in months:   \n",
    "    if day > 0 and day <=31:\n",
    "        if month in Spring:\n",
    "            if (Spring.index(month)==0 and day >=20 ) or (Spring.index(month)==3 and day <=20):  \n",
    "                season =\"Spring\"\n",
    "            else:\n",
    "                season = \"Spring\"\n",
    "        else:        \n",
    "            if month in Summer:\n",
    "                if (Summer.index(month)==0 and day >=21 ) or (Summer.index(month)==3 and day <=21):\n",
    "                    season =\"Summer\"\n",
    "                else:\n",
    "                    season = \"Summer\"\n",
    "            else:\n",
    "                if month in Autumn:\n",
    "                    if (Autumn.index(month)==0 and day >=22 ) or (Autumn.index(month)==3 and day <=20):\n",
    "                        season =\"Autumn\"\n",
    "                    else:\n",
    "                        season =\"Autumn\"\n",
    "                else:\n",
    "                    if month in Winter:\n",
    "                        if (Winter.index(month)==0 and day >=21 ) or (Winter.index(month)==3 and day <=19):\n",
    "                            season =\"Winter\"\n",
    "                        else:\n",
    "                            season =\"Winter\"\n",
    "    else:\n",
    "        season = \"Invalid\"\n",
    "else:\n",
    "    season = \"Invalid\"\n",
    "print(season)"
   ]
  },
  {
   "cell_type": "code",
   "execution_count": 20,
   "metadata": {},
   "outputs": [
    {
     "name": "stdout",
     "output_type": "stream",
     "text": [
      " Input r g b  values \n",
      "130\n",
      "50\n",
      "130\n",
      " Original Color : [130, 50, 130]\n",
      "Gray value in color : 50\n",
      "Color without Gray :  [80, 0, 80]\n"
     ]
    }
   ],
   "source": [
    "color_rgb =[]\n",
    "color_new =[]\n",
    "print(\" Input r g b  values \")\n",
    "color_rgb.append(int(input())) # red value\n",
    "color_rgb.append(int(input())) # green value\n",
    "color_rgb.append(int(input())) # blue value\n",
    "print(\"Original Color :\",color_rgb)\n",
    "\n",
    "gray = min(color_rgb) # minimum from list, gray color factor\n",
    "\n",
    "print(\"Gray value in color :\",gray)  # Generate New color list without gray \n",
    "color_new.append(color_rgb[0] - gray) # subtract gray from red color\n",
    "color_new.append(color_rgb[1] - gray) # subtract gray from green color\n",
    "color_new.append(color_rgb[2] - gray) # subtract gray from blue color\n",
    "\n",
    "print(\"Color without Gray : \", color_new)\n"
   ]
  },
  {
   "cell_type": "code",
   "execution_count": 21,
   "metadata": {},
   "outputs": [
    {
     "name": "stdout",
     "output_type": "stream",
     "text": [
      "I'll bid $10!\n",
      "Continue bidding ? y\n",
      "I'll bid $15!\n",
      "Continue bidding ? y\n",
      "I'll bid $21!\n",
      "Continue bidding ? y\n",
      "I'll bid $30!\n",
      "Continue bidding ? n\n"
     ]
    }
   ],
   "source": [
    "# 6.3.2\n",
    "#==========================\n",
    "import random\n",
    "random.seed(5)\n",
    "keep_bidding = '-'\n",
    "next_bid = 0\n",
    "while keep_bidding != 'n':\n",
    "    next_bid = next_bid+ random.randint(1,10)\n",
    "    print(f'I\\'ll bid ${next_bid}!')\n",
    "    print('Continue bidding ?',end=' ')\n",
    "    keep_bidding = input()\n"
   ]
  },
  {
   "cell_type": "code",
   "execution_count": 2,
   "metadata": {},
   "outputs": [
    {
     "name": "stdout",
     "output_type": "stream",
     "text": [
      "RRGBRYYBGY\n",
      "RRGBBRYBGY\n",
      "\n",
      " user score is :  4\n"
     ]
    }
   ],
   "source": [
    "user_score = 0\n",
    "simon_pattern = input()\n",
    "user_pattern = input()\n",
    "i=0\n",
    "while(simon_pattern[i]==user_pattern[i]):\n",
    "    user_score = user_score + 1\n",
    "    i = i + 1\n",
    "print(\"\\n user score is : \",user_score)\n",
    "        "
   ]
  },
  {
   "cell_type": "code",
   "execution_count": null,
   "metadata": {},
   "outputs": [],
   "source": []
  },
  {
   "cell_type": "markdown",
   "metadata": {
    "colab_type": "text",
    "id": "d0_YJVl1n8GP"
   },
   "source": [
    "#### 1.4.2.3 Exercise: Loading data from a JSON file\n",
    "Load the example JSON file (`colors.json`) containing some data about colors. Use Python's `json` module to load the file ([source](https://github.com/corysimmons/colors.json/blob/master/colors.json)), and use the name of a color, e.g., `name = 'magenta'` as a _key_ to the dictionary (more on these in Chapter 2) result, e.g., `result[name]` to see the RGB intensities that mix to make the color."
   ]
  },
  {
   "cell_type": "code",
   "execution_count": null,
   "metadata": {
    "colab": {
     "base_uri": "https://localhost:8080/",
     "height": 34
    },
    "colab_type": "code",
    "executionInfo": {
     "elapsed": 303,
     "status": "ok",
     "timestamp": 1600729815017,
     "user": {
      "displayName": "Dr. Jake",
      "photoUrl": "",
      "userId": "10996578946780976051"
     },
     "user_tz": 240
    },
    "id": "cTv-N4S7n8GS",
    "outputId": "bcbabe25-eb8f-4e8e-8a99-af0b2b8e7da5"
   },
   "outputs": [],
   "source": [
    "## code here"
   ]
  },
  {
   "cell_type": "markdown",
   "metadata": {
    "colab_type": "text",
    "id": "TufvjtHKn8Ge"
   },
   "source": [
    "#### 1.4.2.5 Exercise: XML\n",
    "Load an [example XML file](https://gist.github.com/sghael/2930380) of colors (`colors.xml`) and extract a single color of your choosing from the result."
   ]
  },
  {
   "cell_type": "code",
   "execution_count": null,
   "metadata": {
    "colab": {},
    "colab_type": "code",
    "id": "yuIEBRuzn8Gh"
   },
   "outputs": [],
   "source": [
    "## code here"
   ]
  },
  {
   "cell_type": "markdown",
   "metadata": {
    "colab_type": "text",
    "id": "zVw4Lz7Un8Gt"
   },
   "source": [
    "#### 1.4.2.7 Exercise: load a csv with a header\n",
    "Use the `csv.reader()` function to the load the `APPL.csv` stock prices spreadsheet. Print the first 10 rows and infer what the columns mean from the header. Note: Stock history for APPL were retrieved from [Yahoo](https://finance.yahoo.com/quote/AAPL/history?p=AAPL). How would you utilize the header information separately in a data structure to ease access to columns?"
   ]
  },
  {
   "cell_type": "code",
   "execution_count": null,
   "metadata": {
    "colab": {},
    "colab_type": "code",
    "id": "VQ7VYm8Gn8Gu"
   },
   "outputs": [],
   "source": [
    "## code here"
   ]
  },
  {
   "cell_type": "markdown",
   "metadata": {
    "colab_type": "text",
    "id": "54y4P3-_stsP"
   },
   "source": [
    "## Additional In-depth Exercises\n",
    "### A. Set up Google Collaboratory on your browser and connect Google Drive\n",
    "\n",
    "\n",
    "1. Create a Gmail/Google account\n",
    "2. Log into Google Drive\n",
    "3. Create a Directory for your Collaboratory (Jupyter) notebooks\n",
    "4. Navigate the drop-down menu: new > more > connect more apps\n",
    "5. Search of Collaboratory app and Google-authorize its installation (make Colab the default app for files it can open)\n",
    "6. To create a new notebook, navigate the drop-down menu: new>more>Google Collaboratory\n",
    "7. To upload/open an existing notebook, navigate the drop-down menu:  \n",
    "  - new > File Upload or \n",
    "  - new > Folder Upload\n"
   ]
  },
  {
   "cell_type": "markdown",
   "metadata": {
    "colab_type": "text",
    "id": "SA0xQg_xP8g5"
   },
   "source": [
    "### B. Set up Google Collaboratory on you browser and connect Google Drive\n",
    "\n",
    "1. To work with data, you'll have to have a copy in your own drive:\n",
    "  ```\n",
    "  from google.colab import drive\n",
    "  drive.mount('/content/gdrive')\n",
    "  ```\n",
    "2. when executing for the first time, follow google's dialogue to connect the Google Drive File Stream (don't forget to copy the provided code into the colab notebook where you're working)\n",
    "3. load your data, read from: `/content/gdrive/My Drive/path/to/data`"
   ]
  },
  {
   "cell_type": "markdown",
   "metadata": {
    "colab_type": "text",
    "id": "Y3iSzoEG0jU-"
   },
   "source": [
    "### C. Find some data and load it into your Google Drive/Colab"
   ]
  },
  {
   "cell_type": "code",
   "execution_count": null,
   "metadata": {
    "colab": {},
    "colab_type": "code",
    "id": "FmSh33VpsuYu"
   },
   "outputs": [],
   "source": []
  }
 ],
 "metadata": {
  "colab": {
   "collapsed_sections": [],
   "name": "exercises.ipynb",
   "provenance": []
  },
  "kernelspec": {
   "display_name": "Python 3 (ipykernel)",
   "language": "python",
   "name": "python3"
  },
  "language_info": {
   "codemirror_mode": {
    "name": "ipython",
    "version": 3
   },
   "file_extension": ".py",
   "mimetype": "text/x-python",
   "name": "python",
   "nbconvert_exporter": "python",
   "pygments_lexer": "ipython3",
   "version": "3.10.8"
  }
 },
 "nbformat": 4,
 "nbformat_minor": 4
}
