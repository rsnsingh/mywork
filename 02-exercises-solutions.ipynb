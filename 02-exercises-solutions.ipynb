{
 "cells": [
  {
   "cell_type": "markdown",
   "metadata": {
    "id": "Ho4RbyZfsQXL"
   },
   "source": [
    "# DSCI 511: Data acquisition and pre-processing<br>Chapter 2: Working with Python's data types\n",
    "## Exercises\n",
    "Note: numberings refer to the main notes."
   ]
  },
  {
   "cell_type": "markdown",
   "metadata": {
    "id": "MgVyWSVosQXN"
   },
   "source": [
    "#### 2.1.1.6 Exercise: trace of a matrix\n",
    "\n",
    "The trace of a (square) matrix (list of lists) is the sum of it's diagonal elements.\n",
    "Loop over the matrix's rows and add up the diagonal values for the trace. We'll be working with the simple 3 x 3 matrix:\n",
    "```\n",
    "[[1, 2, 3],   \n",
    " [4, 5, 6],  \n",
    " [7, 8, 9]]\n",
    "```\n",
    "\n",
    "#### Discussion: using `enumerate()` to manage indices\n",
    "Here, it's very helpful to know the index of each element (both row and column). To gather these in our loop, we can unpack tuples from the `enumerate()` function, which provides index-value tuples through a generator. When the row and column index are equal, we have a diagonal element and add it onto the `trace`'s running tally."
   ]
  },
  {
   "cell_type": "code",
   "execution_count": null,
   "metadata": {
    "id": "SZMbrJfysQXP",
    "outputId": "135d3a48-2ed2-431a-cefe-7b3b62db55ba"
   },
   "outputs": [
    {
     "name": "stdout",
     "output_type": "stream",
     "text": [
      "13\n"
     ]
    }
   ],
   "source": [
    "matrix = [[4, 8, 4], [3, 2, 6], [5, 3, 7]] # print this matrix\n",
    "# Hint: You'll need for loops!\n",
    "trace = 0\n",
    "for i, row in enumerate(matrix):\n",
    "    for j, val in enumerate(row):\n",
    "        if i == j:\n",
    "            trace += val\n",
    "print(trace)"
   ]
  },
  {
   "cell_type": "markdown",
   "metadata": {
    "id": "qsyiPtu4sQXa"
   },
   "source": [
    "#### 2.1.1.8 Exercise: Sorting lists\n",
    "\n",
    "You might have noticed that the list `y` is a list containing the first 14 numbers in the Fibonacci sequence, i.e., any number can be calculated from the sum of the previous two numbers. \n",
    "\n",
    "Now, use a `for` loop to calculate the next 10 Fibonacci numbers and append them to list `y`. \n",
    "\n",
    "#### Discussion: Reverse indexing and slicing\n",
    "We can easily get 10 passes through a loop by iterating over `range(10)` (__Note__: we dont actually use `i`!). However, accessing the last two elements of the current running list could be tricky if we ad to ,e.g., check how long the list was and pull out values by explicit index. Instead, we can _slice_ out the last two elements using negative indexing. the `-2` index refers to the second from last, and by leaving a blank on the other side of the `:`, colon slice operator we're telling Python to gather the elements from that (`-2`) point through the list's end. From there, `sum()` nicely handles the summation on the list slice, and we can then use the `.append()` method."
   ]
  },
  {
   "cell_type": "code",
   "execution_count": 5,
   "metadata": {
    "colab": {
     "base_uri": "https://localhost:8080/",
     "height": 416
    },
    "executionInfo": {
     "elapsed": 537,
     "status": "ok",
     "timestamp": 1601330755395,
     "user": {
      "displayName": "Dr. Jake",
      "photoUrl": "",
      "userId": "10996578946780976051"
     },
     "user_tz": 240
    },
    "id": "CEzb8yuAsQXc",
    "outputId": "70721116-6ee9-4620-e149-cfed64eb138c"
   },
   "outputs": [
    {
     "data": {
      "text/plain": [
       "[0,\n",
       " 1,\n",
       " 1,\n",
       " 2,\n",
       " 3,\n",
       " 5,\n",
       " 8,\n",
       " 13,\n",
       " 21,\n",
       " 34,\n",
       " 55,\n",
       " 89,\n",
       " 144,\n",
       " 233,\n",
       " 377,\n",
       " 610,\n",
       " 987,\n",
       " 1597,\n",
       " 2584,\n",
       " 4181,\n",
       " 6765,\n",
       " 10946,\n",
       " 17711]"
      ]
     },
     "execution_count": 5,
     "metadata": {
      "tags": []
     },
     "output_type": "execute_result"
    }
   ],
   "source": [
    "y = [0, 1, 1, 2, 3, 5, 8, 13, 21, 34, 55, 89, 144] # These are the first 13 numbers in the sequence\n",
    "# Hint: You'll need to use list indices\n",
    "\n",
    "for i in range(10):\n",
    "    new_fib = sum(y[-2:])\n",
    "    y.append(new_fib)\n",
    "    \n",
    "y"
   ]
  },
  {
   "cell_type": "markdown",
   "metadata": {
    "id": "WWoRPJ5LsQXq"
   },
   "source": [
    "#### 2.1.1.11 Exercise: Flattening a matrix into a list\n",
    "Using either a nested comprehension or a nested for loop, conver the matrix below into a single list of values. Discuss how they become ordered, i.e., by column or row.\n",
    "#### Discussion: unwinding nested objects with comprehensions\n",
    "This is a pretty confusing syntax to see for the first time. As discussed, comprehensions reverse the order of expressions and iteration from loops. However, the order of nesting remains the same!"
   ]
  },
  {
   "cell_type": "code",
   "execution_count": null,
   "metadata": {
    "id": "CEAj54VhsQXr",
    "outputId": "5cdfe345-670b-4e25-fb45-4d0ac6a84048"
   },
   "outputs": [
    {
     "name": "stdout",
     "output_type": "stream",
     "text": [
      "[8, 2, 3, 9, 1, 9, 5, 4, 1]\n",
      "[8, 2, 3, 9, 1, 9, 5, 4, 1]\n"
     ]
    }
   ],
   "source": [
    "## our starting matrix\n",
    "matrix = [[8, 2, 3], [9, 1, 9], [5, 4, 1]]\n",
    "\n",
    "## first try using nested loops\n",
    "flattened_matrix = []\n",
    "for row in matrix:\n",
    "    for element in row:\n",
    "        ## this is the `expression(x)`; it comes last!\n",
    "        flattened_matrix.append(element)\n",
    "print(flattened_matrix)\n",
    "\n",
    "## now try using nested comprehensions\n",
    "## it can help to see the similarity \n",
    "## by blocking out a comprehensions\n",
    "flattened_matrix = [element ## note: the expression(x) comes first\n",
    "                    for row in matrix ## iteration in same order\n",
    "                    for element in row]\n",
    "print(flattened_matrix)"
   ]
  },
  {
   "cell_type": "markdown",
   "metadata": {
    "id": "rywfk_fWsQXw"
   },
   "source": [
    "#### 2.1.2.3 Exercise: tuple unpacking and list transformation\n",
    "Use a list comprehension to create a list of all the author names from the given list of tuples containing title, author, and publication year.\n",
    "\n",
    "#### Discussion: pulling out a column\n",
    "Since both lists and tuples are types of ordered arrays, iteration over `books` in the comprehension `[book[1] for book in books]` provides access to each row/tuple of data. Our expression in the comprehension can be though of as 'get the 1th column', using ordered indexing to get the author.  "
   ]
  },
  {
   "cell_type": "code",
   "execution_count": null,
   "metadata": {
    "id": "j7Hs5NQTsQXy",
    "outputId": "7696d0bb-b4a8-497a-9659-44005873d840"
   },
   "outputs": [
    {
     "data": {
      "text/plain": [
       "['Charles Dickens',\n",
       " 'Fyodor Dostoyevski',\n",
       " 'Joseph Conrad',\n",
       " 'Aldous Huxley',\n",
       " 'Albert Camus']"
      ]
     },
     "execution_count": 7,
     "metadata": {
      "tags": []
     },
     "output_type": "execute_result"
    }
   ],
   "source": [
    "books = [(\"A Tale of Two Cities\", \"Charles Dickens\", 1859), \n",
    "         (\"Crime and Punishment\", \"Fyodor Dostoyevski\", 1866),\n",
    "         (\"Heart of Darkness\", \"Joseph Conrad\", 1899), \n",
    "         (\"Brave New World\", \"Aldous Huxley\", 1932), \n",
    "         (\"The Stranger\", \"Albert Camus\", 1942)]\n",
    "\n",
    "# Dazzle yourself with your list comprehension skills!\n",
    "authors = [book[1] for book in books]\n",
    "authors"
   ]
  },
  {
   "cell_type": "markdown",
   "metadata": {
    "id": "Kpy87UdtsQX3"
   },
   "source": [
    "#### 2.1.4.2 Exercise: functions review\n",
    "Write your own basic version of the built-in `range()` function. It should take only one argument, the number before which the range should stop; and it should return a list containing all integers up to that end point.\n",
    "\n",
    "#### Discussion:  `return` is final, i.e., ends a function\n",
    "The prompt requests list output and this is because a function's `return` is final. This means we can't return each integer from inside of the while loop, but instead have to instantiate a list object (`stop_ints`), load it up with the integers and `return` it at the end."
   ]
  },
  {
   "cell_type": "code",
   "execution_count": null,
   "metadata": {
    "id": "p9sSXuovsQX5",
    "outputId": "7a928281-973a-4015-c35b-e46897544b69"
   },
   "outputs": [
    {
     "data": {
      "text/plain": [
       "[0,\n",
       " 1,\n",
       " 2,\n",
       " 3,\n",
       " 4,\n",
       " 5,\n",
       " 6,\n",
       " 7,\n",
       " 8,\n",
       " 9,\n",
       " 10,\n",
       " 11,\n",
       " 12,\n",
       " 13,\n",
       " 14,\n",
       " 15,\n",
       " 16,\n",
       " 17,\n",
       " 18,\n",
       " 19,\n",
       " 20,\n",
       " 21,\n",
       " 22,\n",
       " 23,\n",
       " 24]"
      ]
     },
     "execution_count": 8,
     "metadata": {
      "tags": []
     },
     "output_type": "execute_result"
    }
   ],
   "source": [
    "# code goes here\n",
    "def my_range(stop):\n",
    "    stop_int = 0\n",
    "    stop_ints = []\n",
    "    while stop_int < stop:\n",
    "        stop_ints.append(stop_int)\n",
    "        stop_int = stop_int + 1\n",
    "    return stop_ints\n",
    "# using the my_range() function, print out the first 25 integers\n",
    "my_range(25)"
   ]
  },
  {
   "cell_type": "markdown",
   "metadata": {
    "id": "epEJc-n-sQX-"
   },
   "source": [
    "#### 2.1.4.4 Exercise: generator functions\n",
    "Rewrite `my_range()` as a generator function and print out the first 25 integers using this generator function.\n",
    "\n",
    "#### Discussion: `yield` is incremental\n",
    "Generators are functions whose output can be iterated over, produced lazily. To make one, instead of ending a function with final output using `return`, any piece of output can be `yield`ed as it is computed. Notice below how the `yield` statement is not being applied to the `stop_int` inside of the loop, and that no list object is being managed or `return`ed. To handle the output, notice that only a function (the generator) is referenced if it is not iterated upon. To receive the full output of the generator it can be iterated upon, or coerced into a list."
   ]
  },
  {
   "cell_type": "code",
   "execution_count": null,
   "metadata": {
    "id": "Ii_lw9_lsQX_",
    "outputId": "48b7beb6-c121-4dd2-851c-1b20cddcb0d9"
   },
   "outputs": [
    {
     "name": "stdout",
     "output_type": "stream",
     "text": [
      "<generator object my_range at 0x1047fede0>\n",
      "1\n",
      "2\n",
      "3\n",
      "4\n",
      "5\n",
      "6\n",
      "7\n",
      "8\n",
      "9\n",
      "10\n",
      "11\n",
      "12\n",
      "13\n",
      "14\n",
      "15\n",
      "16\n",
      "17\n",
      "18\n",
      "19\n",
      "20\n",
      "21\n",
      "22\n",
      "23\n",
      "24\n",
      "25\n",
      "[1, 2, 3, 4, 5, 6, 7, 8, 9, 10, 11, 12, 13, 14, 15, 16, 17, 18, 19, 20, 21, 22, 23, 24, 25]\n"
     ]
    }
   ],
   "source": [
    "# code goes here, this time as a generator function\n",
    "def my_range(stop):\n",
    "    stop_int = 0\n",
    "    while stop_int < stop:\n",
    "        stop_int = stop_int + 1\n",
    "        yield stop_int\n",
    "\n",
    "# using the my_range() generator function, print out the first 25 integers\n",
    "print(my_range(25))\n",
    "for i in my_range(25):\n",
    "    print(i)\n",
    "print(list(my_range(25)))"
   ]
  },
  {
   "cell_type": "markdown",
   "metadata": {
    "id": "Fbv9tcz_sQYC"
   },
   "source": [
    "#### 2.1.4.6 Exercise: lambda function data transformation for a sort\n",
    "Sort this list of books in descending order of year of publication (i.e. the more recently published books should come first) using a lambda function with `sorted()`.\n",
    "\n",
    "#### Discussion: the `lambda` function relies upon an implied schema\n",
    "The sorting key provided to tell `sorted()` to sort by the year, i.e., third column, assumes that there is always a `2`th element of each element (tuple) in the list being sorted:\n",
    "- `key = lambda x: x[2]`\n",
    "\n",
    "This might seem strange at first, but the `x` is a dummy variable that just tells the `sorted()` function which aspect of a piece of data (in the list) to sort by. It says 'given a tuple `x`, sort by the `2`th element, `x[2]`."
   ]
  },
  {
   "cell_type": "code",
   "execution_count": null,
   "metadata": {
    "id": "xIQJErAysQYC",
    "outputId": "393f5182-ba86-4bc3-fc10-cdb67764beba"
   },
   "outputs": [
    {
     "data": {
      "text/plain": [
       "[('The Stranger', 'Albert Camus', 1942),\n",
       " ('Brave New World', 'Aldous Huxley', 1932),\n",
       " ('Heart of Darkness', 'Joseph Conrad', 1899),\n",
       " ('Crime and Punishment', 'Fyodor Dostoyevski', 1866),\n",
       " ('A Tale of Two Cities', 'Charles Dickens', 1859)]"
      ]
     },
     "execution_count": 10,
     "metadata": {
      "tags": []
     },
     "output_type": "execute_result"
    }
   ],
   "source": [
    "books = [(\"A Tale of Two Cities\", \"Charles Dickens\", 1859), \n",
    "         (\"Crime and Punishment\", \"Fyodor Dostoyevski\", 1866),\n",
    "         (\"Heart of Darkness\", \"Joseph Conrad\", 1899), \n",
    "         (\"Brave New World\", \"Aldous Huxley\", 1932), \n",
    "         (\"The Stranger\", \"Albert Camus\", 1942)]\n",
    "\n",
    "## code goes here\n",
    "reverse_books = sorted(books, reverse = True, key = lambda x: x[2])\n",
    "reverse_books"
   ]
  },
  {
   "cell_type": "markdown",
   "metadata": {
    "id": "9OOlV2EHsQYH"
   },
   "source": [
    "#### 2.2.2.4 Exercise: interacting with dictionaries\n",
    "Write code that uses a loop to iterate over `books_dict` and create three separate lists of titles, authors, and years, populated by the correct values.\n",
    "\n",
    "#### Discussion: dictionary iteration defaults to keys\n",
    "However, since we know that each book has a `\"title\"` we can get away with pulling the actual value for a book by the string-key directly. "
   ]
  },
  {
   "cell_type": "code",
   "execution_count": null,
   "metadata": {
    "id": "cSCjSCrysQYH",
    "outputId": "ff0fb84e-7631-4c58-8941-93cdc8126b72"
   },
   "outputs": [
    {
     "name": "stdout",
     "output_type": "stream",
     "text": [
      "['A Tale of Two Cities', 'Crime and Punishment', 'Heart of Darkness', 'Brave New World', 'The Stranger']\n"
     ]
    }
   ],
   "source": [
    "books_dict = {0 : {\"title\" : \"A Tale of Two Cities\",\n",
    "                   \"author\" : \"Charles Dickens\",\n",
    "                   \"year\" : 1859},\n",
    "             1 : {\"title\" : \"Crime and Punishment\",\n",
    "                 \"author\" : \"Fyodor Dostoyevski\",\n",
    "                 \"year\" : 1866},\n",
    "             2 : {\"title\" : \"Heart of Darkness\",\n",
    "                 \"author\" : \"Joseph Conrad\",\n",
    "                 \"year\" : 1899},\n",
    "             3 : {\"title\" : \"Brave New World\",\n",
    "                 \"author\" : \"Aldous Huxley\",\n",
    "                 \"year\" : 1932},\n",
    "             4 : {\"title\" : \"The Stranger\",\n",
    "                 \"author\" : \"Albert Camus\",\n",
    "                 \"year\" : 1942}}\n",
    "\n",
    "titles = []\n",
    "authors = []\n",
    "years = []\n",
    "\n",
    "# Remember, dictionaries iterate over keys by default!\n",
    "for booknum in books_dict:\n",
    "    title = books_dict[booknum][\"title\"]\n",
    "    titles.append(title)\n",
    "print(titles)"
   ]
  },
  {
   "cell_type": "markdown",
   "metadata": {
    "id": "D9xWTNrIsQYK"
   },
   "source": [
    "#### 2.2.2.6 Exercise: Counting with a base Python dictionary\n",
    "Say we have a list of results of soccer games. There are three possibilities: win (W), loss (L), and draw (D). Count the number of wins, losses, and draws using the `counts` dictionary.\n",
    "\n",
    "#### Discussion: infullness implementation\n",
    "The implementation below utilizes the infullness approach, if the boolean value of `result in counts` is `True` we modify (increment) the value present in `counts[result]`, while if the boolean value is `False` we get the value of `counts[value]` started with direct assignment to `1`."
   ]
  },
  {
   "cell_type": "code",
   "execution_count": null,
   "metadata": {
    "id": "R_k6SCLHsQYM",
    "outputId": "d0a4290d-b134-4dea-8ee3-de6ec8177a66"
   },
   "outputs": [
    {
     "data": {
      "text/plain": [
       "{'W': 10, 'L': 6, 'D': 4}"
      ]
     },
     "execution_count": 13,
     "metadata": {
      "tags": []
     },
     "output_type": "execute_result"
    }
   ],
   "source": [
    "results = [\"W\", \"W\", \"L\", \"D\", \"W\", \"L\", \"L\", \"L\", \"W\", \n",
    "           \"D\", \"W\", \"W\", \"D\", \"W\", \"D\", \"L\", \"W\", \"W\", \"L\", \"W\"]\n",
    "counts = {}\n",
    "## loop through results and count the number of times each occurred \n",
    "## use infullness: test to see a value needs to be assigned or modified\n",
    "## use `.setdefault()` to make sure a starting value is assumed, i.e., pre-assigned\n",
    "for result in results:\n",
    "    if result in counts:\n",
    "        counts[result] += 1\n",
    "    else:\n",
    "        counts[result] = 1\n",
    "counts"
   ]
  },
  {
   "cell_type": "markdown",
   "metadata": {
    "id": "JETveYOasQYQ"
   },
   "source": [
    "#### 2.2.2.7 Exercise: sorting a dictionary's keys by value\n",
    "As discussed, default iteration on a dictionary is by key. This means a default `sorted()` call on a dictionary will return a sorting of the dictionary's keys. Use this, and the `key=lambda x: expression(x)` syntax to sort the dictionary from the exercise in __Section 2.2.2.6__ to sort the keys (game result types) of the `counts` dictionary by value, from high to low (`reverse = True`), and use a loop to print out the top 2 most common game result types and their counts.\n",
    "\n",
    "#### Discussion: sorting a dictionary by values\n",
    "Since `sorted()` will operate on the keys, we can provide a lambda function that assumes each key has a corresponding value in `counts`. In other words, the lambda function\n",
    "- `lambda x: counts[x]`\n",
    "\n",
    "says, 'given a key, `x` (input), sort by its value in `counts[x]` (output)'."
   ]
  },
  {
   "cell_type": "code",
   "execution_count": null,
   "metadata": {
    "id": "BV9OboresQYR",
    "outputId": "82bfe72b-e841-4113-d8aa-ba6912779f8c"
   },
   "outputs": [
    {
     "name": "stdout",
     "output_type": "stream",
     "text": [
      "W 10\n",
      "L 6\n"
     ]
    }
   ],
   "source": [
    "## use a lambda function in the `key` argument of sorted()\n",
    "sorted_results = sorted(counts, reverse = True, key = lambda x: counts[x])\n",
    "i = 0\n",
    "for result in sorted_results:\n",
    "    print(result, counts[result])\n",
    "    i += 1\n",
    "    if i == 2:\n",
    "        break"
   ]
  },
  {
   "cell_type": "markdown",
   "metadata": {
    "id": "w96cnIuIsQYV"
   },
   "source": [
    "#### 2.2.2.9 Exercise: counters\n",
    "Count the results and calculate a point tally, where a win equals 3 points, a draw equals 1 point, and a loss equals 0 points.\n",
    "\n",
    "#### Discussion: A solution using weights\n",
    "Here, we used a dictionary of weights. Technically, we could have just started with the `count` `Counter()` already constructed in __Section 2.2.2.7__ and used some `if`/`else` statements inside of the loop to check the different result types (e.g., `\"W\"`) by hand and increment `points` by the appropriate value, but the use of `weights` let's us think ahead about 'metadata' and how it can be used to support a tasks."
   ]
  },
  {
   "cell_type": "code",
   "execution_count": null,
   "metadata": {
    "id": "crcdkevmsQYW",
    "outputId": "4a4efebe-d6c3-4856-e081-0e24e4a4bdaa"
   },
   "outputs": [
    {
     "name": "stdout",
     "output_type": "stream",
     "text": [
      "44\n"
     ]
    }
   ],
   "source": [
    "from collections import Counter\n",
    "\n",
    "results = [\"W\", \"W\", \"L\", \"D\", \"W\", \"L\", \"W\", \"D\", \"W\", \"L\", \"L\", \"W\", \"D\", \"W\", \"W\", \"L\", \"L\", \"W\", \"D\", \"W\", \"D\", \"L\", \"W\", \"W\", \"L\", \"W\"]\n",
    "result_counts = Counter()\n",
    "points = 0\n",
    "\n",
    "## Specify the weights\n",
    "weights = {\n",
    "    \"W\": 3,\n",
    "    \"D\": 1,\n",
    "    \"L\": 0\n",
    "}\n",
    "# Use a loop!\n",
    "count = Counter()\n",
    "for result in results:\n",
    "    count[result] += weights[result]\n",
    "    \n",
    "points = sum(count.values())\n",
    "print(points)"
   ]
  },
  {
   "cell_type": "markdown",
   "metadata": {
    "id": "EjqwlTIOqjQL"
   },
   "source": [
    "## Additional In-depth Exercises\n",
    "\n",
    "### A. Load a csv of your choosing and determine an appropriate data type\n",
    "\n",
    "Load, e.g., `../introduction/data/APPL.csv` and convert to a dictionary of lists, or appropriate data type."
   ]
  },
  {
   "cell_type": "code",
   "execution_count": 20,
   "metadata": {
    "colab": {
     "base_uri": "https://localhost:8080/",
     "height": 53
    },
    "executionInfo": {
     "elapsed": 264,
     "status": "ok",
     "timestamp": 1601334217722,
     "user": {
      "displayName": "Dr. Jake",
      "photoUrl": "",
      "userId": "10996578946780976051"
     },
     "user_tz": 240
    },
    "id": "rs1vCnmO9EwZ",
    "outputId": "e29441d6-66c8-4f46-e620-a6ef27334690"
   },
   "outputs": [
    {
     "name": "stdout",
     "output_type": "stream",
     "text": [
      "APPL.csv    colors.json  example_text_file.txt  pickled_dictionary.p\n",
      "colors.csv  colors.xml   JSONd_dictionary.json  XMLd_dictionary.xml\n"
     ]
    }
   ],
   "source": [
    "%ls ../introduction/data/"
   ]
  },
  {
   "cell_type": "code",
   "execution_count": 39,
   "metadata": {
    "colab": {
     "base_uri": "https://localhost:8080/",
     "height": 73
    },
    "executionInfo": {
     "elapsed": 275,
     "status": "ok",
     "timestamp": 1601335432998,
     "user": {
      "displayName": "Dr. Jake",
      "photoUrl": "",
      "userId": "10996578946780976051"
     },
     "user_tz": 240
    },
    "id": "jewJiJbrqjQM",
    "outputId": "2be47aac-ab40-4e52-ac3e-9103cdfbe9c0"
   },
   "outputs": [
    {
     "name": "stdout",
     "output_type": "stream",
     "text": [
      "dict_keys(['Date', 'Open', 'High', 'Low', 'Close', 'Volume', 'Adj Close']) ['2016-07-13', '2016-07-12', '2016-07-11', '2016-07-08', '2016-07-07', '2016-07-06', '2016-07-05', '2016-07-01', '2016-06-30', '2016-06-29']\n",
      "OrderedDict([('Date', '2016-07-13'), ('Open', '97.410004'), ('High', '97.669998'), ('Low', '96.839996'), ('Close', '96.870003'), ('Volume', '25892200'), ('Adj Close', '95.442123')])\n"
     ]
    }
   ],
   "source": [
    "from collections import defaultdict\n",
    "import csv\n",
    "\n",
    "stock_reader = csv.reader(open(\"../introduction/data/APPL.csv\", \"r\")) \n",
    "\n",
    "# stocks = list(stock_reader)\n",
    "stocks_df = defaultdict(list)\n",
    "header = []\n",
    "for i, row in enumerate(stock_reader):\n",
    "  if i:\n",
    "    for j, x in enumerate(row):\n",
    "      # if header:\n",
    "      stocks_df[header[j]].append(x)\n",
    "  else:\n",
    "    header = list(row)\n",
    "\n",
    "print(stocks_df.keys(), stocks_df[\"Date\"][:10])\n",
    "\n",
    "stock_dicts = csv.DictReader(open(\"../introduction/data/APPL.csv\", \"r\")) \n",
    "for x in stock_dicts:\n",
    "  print(x)\n",
    "  break"
   ]
  },
  {
   "cell_type": "markdown",
   "metadata": {
    "id": "w4Jz7Wy9qjQP"
   },
   "source": [
    "### B. Transform an ordered array\n",
    "Again, load your csv and this time sort by the open-close change in price, and then sorted, multiplying these changes by the volume as a weight."
   ]
  },
  {
   "cell_type": "code",
   "execution_count": null,
   "metadata": {
    "id": "X8HZFMlTqjQQ"
   },
   "outputs": [],
   "source": [
    "## code here"
   ]
  },
  {
   "cell_type": "markdown",
   "metadata": {
    "id": "VSAuInwvqjQT"
   },
   "source": [
    "### C. Sort an associative array\n",
    "Load `../introduction/data/colors.json` and sort colors according to the different RGB 'columns' and confirm if these are indeed heavily shades of blue!"
   ]
  },
  {
   "cell_type": "code",
   "execution_count": null,
   "metadata": {
    "id": "SYF8Tq_JqjQV"
   },
   "outputs": [],
   "source": [
    "## code here"
   ]
  },
  {
   "cell_type": "markdown",
   "metadata": {
    "id": "U7YWMMWpqjQY"
   },
   "source": [
    "### D. Write a function to blend colors\n",
    "Write a function that takes the data in `../introduction/data/colors.json`, and 'blends' colors by averaging the RGB values. The below cell should just let us check our work."
   ]
  },
  {
   "cell_type": "code",
   "execution_count": 41,
   "metadata": {
    "colab": {
     "base_uri": "https://localhost:8080/",
     "height": 233
    },
    "executionInfo": {
     "elapsed": 556,
     "status": "ok",
     "timestamp": 1601336383870,
     "user": {
      "displayName": "Dr. Jake",
      "photoUrl": "",
      "userId": "10996578946780976051"
     },
     "user_tz": 240
    },
    "id": "rpC4I_F2qjQZ",
    "outputId": "324bd82b-6d25-4311-9568-f2bca126e1f8"
   },
   "outputs": [
    {
     "name": "stderr",
     "output_type": "stream",
     "text": [
      "/usr/local/lib/python3.6/dist-packages/skimage/io/_plugins/matplotlib_plugin.py:150: UserWarning: Low image data range; displaying image with stretched contrast.\n",
      "  lo, hi, cmap = _get_display_range(image)\n"
     ]
    },
    {
     "data": {
      "text/plain": [
       "<matplotlib.image.AxesImage at 0x7f8c7b6bde48>"
      ]
     },
     "execution_count": 41,
     "metadata": {
      "tags": []
     },
     "output_type": "execute_result"
    },
    {
     "data": {
      "image/png": "[encoded data removed]",
      "text/plain": [
       "<Figure size 432x288 with 2 Axes>"
      ]
     },
     "metadata": {
      "needs_background": "light",
      "tags": []
     },
     "output_type": "display_data"
    }
   ],
   "source": [
    "%matplotlib inline\n",
    "import numpy as np\n",
    "import matplotlib.pyplot as plt\n",
    "from skimage import io\n",
    "import json\n",
    "\n",
    "with open(\"../introduction/data/colors.json\", \"r\") as f:\n",
    "  colors = json.loads(f.read())\n",
    "\n",
    "def blend_colors(c1, c2):\n",
    "  if (c1 not in colors) or (c2 not in colors):\n",
    "    print(\"at least one color was missing!\")\n",
    "    return([0,0,0])\n",
    "  else:\n",
    "    return([int(0.5 + (colors[c1][i] + colors[c2][i])/2) for i in range(3)])\n",
    "\n",
    "c1 = \"cyan\"\n",
    "c2 = 'yellow'\n",
    "\n",
    "io.imshow(\n",
    "    np.array([\n",
    "        [colors[c1][:3], colors[c2][:3], blend_colors(c1, c2)], \n",
    "    ])\n",
    ")"
   ]
  }
 ],
 "metadata": {
  "colab": {
   "name": "exercises-solutions.ipynb",
   "provenance": []
  },
  "kernelspec": {
   "display_name": "Python 3 (ipykernel)",
   "language": "python",
   "name": "python3"
  },
  "language_info": {
   "codemirror_mode": {
    "name": "ipython",
    "version": 3
   },
   "file_extension": ".py",
   "mimetype": "text/x-python",
   "name": "python",
   "nbconvert_exporter": "python",
   "pygments_lexer": "ipython3",
   "version": "3.9.12"
  }
 },
 "nbformat": 4,
 "nbformat_minor": 4
}
