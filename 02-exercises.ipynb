{
 "cells": [
  {
   "cell_type": "markdown",
   "metadata": {
    "id": "5REh5sZAqjOj"
   },
   "source": [
    "# DSCI 511: Data acquisition and pre-processing<br>Chapter 2: Working with Python's data types\n",
    "## Exercises\n",
    "Note: numberings refer to the main notes."
   ]
  },
  {
   "cell_type": "markdown",
   "metadata": {
    "id": "rVHHV_ZzqjOm"
   },
   "source": [
    "#### 2.1.1.6 Exercise: trace of a matrix\n",
    "\n",
    "The trace of a (square) matrix (list of lists) is the sum of it's diagonal elements.\n",
    "Loop over the matrix's rows and add up the diagonal values for the trace. We'll be working with the simple 3 x 3 matrix:\n",
    "```\n",
    "[[1, 2, 3],   \n",
    " [4, 5, 6],  \n",
    " [7, 8, 9]]\n",
    "```"
   ]
  },
  {
   "cell_type": "code",
   "execution_count": null,
   "metadata": {
    "colab": {
     "base_uri": "https://localhost:8080/",
     "height": 35
    },
    "executionInfo": {
     "elapsed": 248,
     "status": "ok",
     "timestamp": 1601329922326,
     "user": {
      "displayName": "Dr. Jake",
      "photoUrl": "",
      "userId": "10996578946780976051"
     },
     "user_tz": 240
    },
    "id": "4rwQcyeHqjOn",
    "outputId": "ef5c3121-1b8d-41ca-bc65-3beea0be7354"
   },
   "outputs": [],
   "source": [
    "matrix = [[4, 8, 4], \n",
    "          [3, 2, 6], \n",
    "          [5, 3, 7]] # print this matrix\n",
    "# Hint: You'll need for loops!\n",
    "trace = 0\n",
    "\n",
    "## code here\n",
    "\n",
    "print(trace)"
   ]
  },
  {
   "cell_type": "markdown",
   "metadata": {
    "id": "h3I0ACplqjO0"
   },
   "source": [
    "#### 2.1.1.8 Exercise: Sorting lists\n",
    "\n",
    "You might have noticed that the list `y` is a list containing the first 14 numbers in the Fibonacci sequence, i.e., any number can be calculated from the sum of the previous two numbers. \n",
    "\n",
    "Now, use a `for` loop to calculate the next 10 Fibonacci numbers and append them to list `y`. "
   ]
  },
  {
   "cell_type": "code",
   "execution_count": null,
   "metadata": {
    "colab": {
     "base_uri": "https://localhost:8080/",
     "height": 52
    },
    "executionInfo": {
     "elapsed": 192,
     "status": "ok",
     "timestamp": 1599836526553,
     "user": {
      "displayName": "Dr. Jake",
      "photoUrl": "",
      "userId": "10996578946780976051"
     },
     "user_tz": 240
    },
    "id": "YZthrU9qqjPE",
    "outputId": "fffb7a5b-1dbb-45ff-e943-566a4c4ba7a0"
   },
   "outputs": [],
   "source": [
    "y = [0, 1, 1, 2, 3, 5, 8, 13, 21, 34, 55, 89, 144] # These are the first 13 numbers in the sequence\n",
    "# Hint: You'll need to use list indices\n",
    "\n",
    "## code here"
   ]
  },
  {
   "cell_type": "markdown",
   "metadata": {
    "id": "e7Dq-nlhqjPK"
   },
   "source": [
    "#### 2.1.1.11 Exercise: Flattening a matrix into a list\n",
    "Using either a nested comprehension or a nested for loop, conver the matrix below into a single list of values. Discuss how they become ordered, i.e., by column or row."
   ]
  },
  {
   "cell_type": "code",
   "execution_count": null,
   "metadata": {
    "colab": {
     "base_uri": "https://localhost:8080/",
     "height": 52
    },
    "executionInfo": {
     "elapsed": 235,
     "status": "ok",
     "timestamp": 1599836460838,
     "user": {
      "displayName": "Dr. Jake",
      "photoUrl": "",
      "userId": "10996578946780976051"
     },
     "user_tz": 240
    },
    "id": "2ZTHluA2qjPM",
    "outputId": "0b9e36cb-1cf6-49ec-94f6-af1c689bb960"
   },
   "outputs": [],
   "source": [
    "## our starting matrix\n",
    "matrix = [[8, 2, 3], [9, 1, 9], [5, 4, 1]]\n",
    "\n",
    "flattened = []\n",
    "## first try using nested loops\n",
    "print(flattened)\n",
    "\n",
    "## now try using nested comprehensions\n",
    "## it can help to see the similarity \n",
    "## by blocking out a comprehensions\n",
    "flattened = []\n",
    "print(flattened)"
   ]
  },
  {
   "cell_type": "markdown",
   "metadata": {
    "id": "2gJKRT1JqjPX"
   },
   "source": [
    "#### 2.1.2.3 Exercise: tuple unpacking and list transformation\n",
    "Use a list comprehension to create a list of all the author names from the given list of tuples containing title, author, and publication year."
   ]
  },
  {
   "cell_type": "code",
   "execution_count": null,
   "metadata": {
    "id": "PHA-6dWjqjPZ"
   },
   "outputs": [],
   "source": [
    "books = [(\"A Tale of Two Cities\", \"Charles Dickens\", 1859), \n",
    "         (\"Crime and Punishment\", \"Fyodor Dostoyevski\", 1866),\n",
    "         (\"Heart of Darkness\", \"Joseph Conrad\", 1899), \n",
    "         (\"Brave New World\", \"Aldous Huxley\", 1932), \n",
    "         (\"The Stranger\", \"Albert Camus\", 1942)]\n",
    "\n",
    "# Dazzle yourself with your list comprehension skills!"
   ]
  },
  {
   "cell_type": "markdown",
   "metadata": {
    "id": "hFTNaHqPqjPd"
   },
   "source": [
    "#### 2.1.4.2 Exercise: functions review\n",
    "Write your own basic version of the built-in `range()` function. It should take only one argument, the number before which the range should stop; and it should return a list containing all integers up to that end point."
   ]
  },
  {
   "cell_type": "code",
   "execution_count": null,
   "metadata": {
    "id": "l5m6xCtcqjPe"
   },
   "outputs": [],
   "source": [
    "## code here"
   ]
  },
  {
   "cell_type": "markdown",
   "metadata": {
    "id": "ZcZ0R6aWqjPj"
   },
   "source": [
    "#### 2.1.4.4 Exercise: generator functions\n",
    "Rewrite `my_range()` as a generator function and print out the first 25 integers using this generator function."
   ]
  },
  {
   "cell_type": "code",
   "execution_count": null,
   "metadata": {
    "id": "n-0cuuNHqjPl"
   },
   "outputs": [],
   "source": [
    "## code here"
   ]
  },
  {
   "cell_type": "markdown",
   "metadata": {
    "id": "YmJePi1oqjPq"
   },
   "source": [
    "#### 2.1.4.6 Exercise: lambda function data transformation for a sort\n",
    "Sort this list of books in descending order of year of publication (i.e. the more recently published books should come first) using a lambda function with `sorted()`."
   ]
  },
  {
   "cell_type": "code",
   "execution_count": null,
   "metadata": {
    "id": "c8cLUGdiqjPq"
   },
   "outputs": [],
   "source": [
    "books = [(\"A Tale of Two Cities\", \"Charles Dickens\", 1859), \n",
    "         (\"Crime and Punishment\", \"Fyodor Dostoyevski\", 1866),\n",
    "         (\"Heart of Darkness\", \"Joseph Conrad\", 1899), \n",
    "         (\"Brave New World\", \"Aldous Huxley\", 1932), \n",
    "         (\"The Stranger\", \"Albert Camus\", 1942)]\n",
    "\n",
    "## code goes here"
   ]
  },
  {
   "cell_type": "markdown",
   "metadata": {
    "id": "vsCyC-MpqjPv"
   },
   "source": [
    "#### 2.2.2.4 Exercise: interacting with dictionaries\n",
    "Write code that uses a loop to iterate over `books_dict` and create three separate lists of titles, authors, and years, populated by the correct values."
   ]
  },
  {
   "cell_type": "code",
   "execution_count": null,
   "metadata": {
    "id": "UexorP_uqjPw"
   },
   "outputs": [],
   "source": [
    "books_dict = {0 : {\"title\" : \"A Tale of Two Cities\",\n",
    "                   \"author\" : \"Charles Dickens\",\n",
    "                   \"year\" : 1859},\n",
    "             1 : {\"title\" : \"Crime and Punishment\",\n",
    "                 \"author\" : \"Fyodor Dostoyevski\",\n",
    "                 \"year\" : 1866},\n",
    "             2 : {\"title\" : \"Heart of Darkness\",\n",
    "                 \"author\" : \"Joseph Conrad\",\n",
    "                 \"year\" : 1899},\n",
    "             3 : {\"title\" : \"Brave New World\",\n",
    "                 \"author\" : \"Aldous Huxley\",\n",
    "                 \"year\" : 1932},\n",
    "             4 : {\"title\" : \"The Stranger\",\n",
    "                 \"author\" : \"Albert Camus\",\n",
    "                 \"year\" : 1942}}\n",
    "\n",
    "## code here"
   ]
  },
  {
   "cell_type": "markdown",
   "metadata": {
    "id": "bQ37yM0fqjP2"
   },
   "source": [
    "#### 2.2.2.6 Exercise: Counting with a base Python dictionary\n",
    "Say we have a list of results of soccer games. There are three possibilities: win (W), loss (L), and draw (D). Count the number of wins, losses, and draws using the `counts` dictionary."
   ]
  },
  {
   "cell_type": "code",
   "execution_count": null,
   "metadata": {
    "id": "WuM52ZOGqjP3"
   },
   "outputs": [],
   "source": [
    "results = [\"W\", \"W\", \"L\", \"D\", \"W\", \"L\", \"L\", \"L\", \"W\", \n",
    "           \"D\", \"W\", \"W\", \"D\", \"W\", \"D\", \"L\", \"W\", \"W\", \"L\", \"W\"]\n",
    "counts = {}\n",
    "## loop through results and count the number of times each occurred \n",
    "## use infullness: test to see a value needs to be assigned or modified\n",
    "## use `.setdefault()` to make sure a starting value is assumed, i.e., pre-assigned"
   ]
  },
  {
   "cell_type": "markdown",
   "metadata": {
    "id": "wPeXUqUQqjP6"
   },
   "source": [
    "#### 2.2.2.7 Exercise: sorting a dictionary's keys by value\n",
    "As discussed, default iteration on a dictionary is by key. This means a default `sorted()` call on a dictionary will return a sorting of the dictionary's keys. Use this, and the `key=lambda x: expression(x)` syntax to sort the dictionary from the exercise in __Section 2.2.2.6__ to sort the keys (game result types) of the `counts` dictionary by value, from high to low (`reverse = True`), and use a loop to print out the top 2 most common game result types and their counts."
   ]
  },
  {
   "cell_type": "code",
   "execution_count": null,
   "metadata": {
    "id": "Kg5vsS2ZqjQB"
   },
   "outputs": [],
   "source": [
    "## use a lambda function in the `key` argument of sorted()"
   ]
  },
  {
   "cell_type": "markdown",
   "metadata": {
    "id": "DheIdcZxqjQF"
   },
   "source": [
    "#### 2.2.2.9 Exercise: counters\n",
    "Count the results and calculate a point tally, where a win equals 3 points, a draw equals 1 point, and a loss equals 0 points."
   ]
  },
  {
   "cell_type": "code",
   "execution_count": null,
   "metadata": {
    "colab": {
     "base_uri": "https://localhost:8080/",
     "height": 71
    },
    "executionInfo": {
     "elapsed": 299,
     "status": "ok",
     "timestamp": 1601331985660,
     "user": {
      "displayName": "Dr. Jake",
      "photoUrl": "",
      "userId": "10996578946780976051"
     },
     "user_tz": 240
    },
    "id": "ioE99fTwqjQG",
    "outputId": "4edfd7c4-6c44-4fe9-af31-75af75c155a2"
   },
   "outputs": [],
   "source": [
    "from collections import Counter\n",
    "\n",
    "vals = {\"W\": 3, \"L\": 0, \"D\": 1}\n",
    "\n",
    "results = [\"W\", \"W\", \"L\", \"D\", \"W\", \"L\", \"W\", \"D\", \"W\", \"L\", \"L\", \"W\", \"D\", \"W\", \"W\", \"L\", \"L\", \"W\", \"D\", \"W\", \"D\", \"L\", \"W\", \"W\", \"L\", \"W\"]\n",
    "\n",
    "## code here"
   ]
  },
  {
   "cell_type": "markdown",
   "metadata": {
    "id": "EjqwlTIOqjQL"
   },
   "source": [
    "## Additional In-depth Exercises\n",
    "\n",
    "### A. Load a csv of your choosing and determine an appropriate data type\n",
    "\n",
    "Load, e.g., `../introduction/data/APPL.csv` and convert to a dictionary of lists, or appropriate data type."
   ]
  },
  {
   "cell_type": "code",
   "execution_count": null,
   "metadata": {
    "colab": {
     "base_uri": "https://localhost:8080/",
     "height": 73
    },
    "executionInfo": {
     "elapsed": 275,
     "status": "ok",
     "timestamp": 1601335432998,
     "user": {
      "displayName": "Dr. Jake",
      "photoUrl": "",
      "userId": "10996578946780976051"
     },
     "user_tz": 240
    },
    "id": "jewJiJbrqjQM",
    "outputId": "2be47aac-ab40-4e52-ac3e-9103cdfbe9c0"
   },
   "outputs": [],
   "source": [
    "## code here"
   ]
  },
  {
   "cell_type": "markdown",
   "metadata": {
    "id": "w4Jz7Wy9qjQP"
   },
   "source": [
    "### B. Transform an ordered array\n",
    "Again, load your csv and this time sort by the open-close change in price, and then sorted, multiplying these changes by the volume as a weight."
   ]
  },
  {
   "cell_type": "code",
   "execution_count": null,
   "metadata": {
    "id": "X8HZFMlTqjQQ"
   },
   "outputs": [],
   "source": [
    "## code here"
   ]
  },
  {
   "cell_type": "markdown",
   "metadata": {
    "id": "VSAuInwvqjQT"
   },
   "source": [
    "### C. Sort an associative array\n",
    "Load `../introduction/data/colors.json` and sort colors according to the different RGB 'columns' and confirm if these are indeed heavily shades of blue!"
   ]
  },
  {
   "cell_type": "code",
   "execution_count": null,
   "metadata": {
    "id": "SYF8Tq_JqjQV"
   },
   "outputs": [],
   "source": [
    "## code here"
   ]
  },
  {
   "cell_type": "markdown",
   "metadata": {
    "id": "U7YWMMWpqjQY"
   },
   "source": [
    "### D. Write a function to blend colors\n",
    "Write a function that takes the data in `../introduction/data/colors.json`, and 'blends' colors by averaging the RGB values. The below cell should just let us check our work."
   ]
  },
  {
   "cell_type": "code",
   "execution_count": null,
   "metadata": {},
   "outputs": [],
   "source": [
    "## code here"
   ]
  }
 ],
 "metadata": {
  "colab": {
   "collapsed_sections": [],
   "name": "exercises.ipynb",
   "provenance": []
  },
  "kernelspec": {
   "display_name": "Python 3",
   "language": "python",
   "name": "python3"
  },
  "language_info": {
   "codemirror_mode": {
    "name": "ipython",
    "version": 3
   },
   "file_extension": ".py",
   "mimetype": "text/x-python",
   "name": "python",
   "nbconvert_exporter": "python",
   "pygments_lexer": "ipython3",
   "version": "3.8.5"
  }
 },
 "nbformat": 4,
 "nbformat_minor": 4
}
