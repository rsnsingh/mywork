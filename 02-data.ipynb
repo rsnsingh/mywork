{
 "cells": [
  {
   "cell_type": "markdown",
   "metadata": {
    "id": "4_ztcn_yo8WI"
   },
   "source": [
    "# DSCI 511: Data acquisition and pre-processing<br>Chapter 2: Working with Python's data types\n",
    "We addressed some very basic, atomic data types in Chapter 1. While we used containers here and there in the processing fundementals exhibit Python's syntax, we'll take some time here to go in depth, specifically taking a look at the some of the types most frequently-used in data science and explore their methods and properties."
   ]
  },
  {
   "cell_type": "markdown",
   "metadata": {
    "id": "TnCfa9Eno8WK"
   },
   "source": [
    "## 2.1 Ordered data types\n",
    "\n",
    "### 2.1.1 Lists\n",
    "A list is the most basic Python data structure. In some other programming languages, the similar data structure is called an \"array\". A list is simply a sequence of values. They are defined using square braces, like so:"
   ]
  },
  {
   "cell_type": "code",
   "execution_count": null,
   "metadata": {
    "id": "TINKeaBJo8WM"
   },
   "outputs": [],
   "source": [
    "x = [8, 1, 5, 1, 89, 34, 3, 2, 144, 13, 34, 55, 0, 21]"
   ]
  },
  {
   "cell_type": "markdown",
   "metadata": {
    "id": "LHjuAxsMo8WX"
   },
   "source": [
    "In this particular example, we defined a list called \"x\" containing a few integer values. Python lists can contain a mix of data types, for example:"
   ]
  },
  {
   "cell_type": "code",
   "execution_count": null,
   "metadata": {
    "colab": {
     "base_uri": "https://localhost:8080/",
     "height": 36
    },
    "executionInfo": {
     "elapsed": 692,
     "status": "ok",
     "timestamp": 1599835803547,
     "user": {
      "displayName": "Dr. Jake",
      "photoUrl": "",
      "userId": "10996578946780976051"
     },
     "user_tz": 240
    },
    "id": "34izwcK2o8WY",
    "outputId": "bb2f7ea1-9752-42b3-8955-26636507d09f"
   },
   "outputs": [
    {
     "data": {
      "application/vnd.google.colaboratory.intrinsic+json": {
       "type": "string"
      },
      "text/plain": [
       "'two'"
      ]
     },
     "execution_count": 4,
     "metadata": {
      "tags": []
     },
     "output_type": "execute_result"
    }
   ],
   "source": [
    "y = [1, \"two\", 3.0]\n",
    "y[1]"
   ]
  },
  {
   "cell_type": "markdown",
   "metadata": {
    "id": "Sk3YQejJo8Wg"
   },
   "source": [
    "Lists can be nested, meaning we could put lists inside of lists:"
   ]
  },
  {
   "cell_type": "code",
   "execution_count": null,
   "metadata": {
    "colab": {
     "base_uri": "https://localhost:8080/",
     "height": 36
    },
    "executionInfo": {
     "elapsed": 554,
     "status": "ok",
     "timestamp": 1599835804746,
     "user": {
      "displayName": "Dr. Jake",
      "photoUrl": "",
      "userId": "10996578946780976051"
     },
     "user_tz": 240
    },
    "id": "BpurMYX0o8Wg",
    "outputId": "30fbfe7b-6cce-47e1-b4b5-b120979e7fad"
   },
   "outputs": [
    {
     "data": {
      "application/vnd.google.colaboratory.intrinsic+json": {
       "type": "string"
      },
      "text/plain": [
       "'six'"
      ]
     },
     "execution_count": 5,
     "metadata": {
      "tags": []
     },
     "output_type": "execute_result"
    }
   ],
   "source": [
    "list_of_lists = [\n",
    "    [1, 2, 3], \n",
    "    [\"four\", \"five\", \"six\"], \n",
    "    [7.0, \"eight\", 9]\n",
    "]\n",
    "list_of_lists[1][2]"
   ]
  },
  {
   "cell_type": "markdown",
   "metadata": {
    "id": "I7KsVmxDo8Wm"
   },
   "source": [
    "#### 2.1.1.1 Size and truthiness\n",
    "We can quickly look up the length of a list using the `len()` function:"
   ]
  },
  {
   "cell_type": "code",
   "execution_count": null,
   "metadata": {
    "colab": {
     "base_uri": "https://localhost:8080/",
     "height": 34
    },
    "executionInfo": {
     "elapsed": 928,
     "status": "ok",
     "timestamp": 1599835805926,
     "user": {
      "displayName": "Dr. Jake",
      "photoUrl": "",
      "userId": "10996578946780976051"
     },
     "user_tz": 240
    },
    "id": "Gf_jDI3uo8Wo",
    "outputId": "d9e842e1-5650-4c2f-c31e-de3a0a1b456e"
   },
   "outputs": [
    {
     "data": {
      "text/plain": [
       "3"
      ]
     },
     "execution_count": 6,
     "metadata": {
      "tags": []
     },
     "output_type": "execute_result"
    }
   ],
   "source": [
    "len(list_of_lists)"
   ]
  },
  {
   "cell_type": "code",
   "execution_count": null,
   "metadata": {
    "colab": {
     "base_uri": "https://localhost:8080/",
     "height": 34
    },
    "executionInfo": {
     "elapsed": 889,
     "status": "ok",
     "timestamp": 1599835806244,
     "user": {
      "displayName": "Dr. Jake",
      "photoUrl": "",
      "userId": "10996578946780976051"
     },
     "user_tz": 240
    },
    "id": "3QVkxnifo8Wu",
    "outputId": "0dddba92-c2ac-4508-fa71-ca39a47a5341"
   },
   "outputs": [
    {
     "data": {
      "text/plain": [
       "14"
      ]
     },
     "execution_count": 7,
     "metadata": {
      "tags": []
     },
     "output_type": "execute_result"
    }
   ],
   "source": [
    "len(x)"
   ]
  },
  {
   "cell_type": "markdown",
   "metadata": {
    "id": "mpAn4MhXo8W6"
   },
   "source": [
    "All container types can be tested for truth value. When a container is empty, its truth value is `False`, whenever it contains any elements, this value switches to `True`. This truth value can be used with `if` and `while` statements.\n",
    "\n",
    "Empty lists have length 0 and evaluate as `False` in conditional and boolean operations:"
   ]
  },
  {
   "cell_type": "code",
   "execution_count": null,
   "metadata": {
    "colab": {
     "base_uri": "https://localhost:8080/",
     "height": 34
    },
    "executionInfo": {
     "elapsed": 373,
     "status": "ok",
     "timestamp": 1599835807422,
     "user": {
      "displayName": "Dr. Jake",
      "photoUrl": "",
      "userId": "10996578946780976051"
     },
     "user_tz": 240
    },
    "id": "oHONqBOSo8W8",
    "outputId": "c8fd8c91-2ab7-4880-e9b8-95fbfcb162fb"
   },
   "outputs": [
    {
     "data": {
      "text/plain": [
       "0"
      ]
     },
     "execution_count": 8,
     "metadata": {
      "tags": []
     },
     "output_type": "execute_result"
    }
   ],
   "source": [
    "z = []\n",
    "len(z)"
   ]
  },
  {
   "cell_type": "code",
   "execution_count": null,
   "metadata": {
    "colab": {
     "base_uri": "https://localhost:8080/",
     "height": 34
    },
    "executionInfo": {
     "elapsed": 601,
     "status": "ok",
     "timestamp": 1599835808299,
     "user": {
      "displayName": "Dr. Jake",
      "photoUrl": "",
      "userId": "10996578946780976051"
     },
     "user_tz": 240
    },
    "id": "RjQXu-3no8XA",
    "outputId": "53a44bca-5823-4747-8b2f-484fd3cf8275"
   },
   "outputs": [
    {
     "name": "stdout",
     "output_type": "stream",
     "text": [
      "This is empty!\n"
     ]
    }
   ],
   "source": [
    "if z:\n",
    "    print(\"This isn't empty!\")\n",
    "else:\n",
    "    print(\"This is empty!\")"
   ]
  },
  {
   "cell_type": "markdown",
   "metadata": {
    "id": "yIuSAQBuo8XD"
   },
   "source": [
    "#### 2.1.1.2 Nesting and repitition\n",
    "Using nested lists, we might represent matrices of numbers:"
   ]
  },
  {
   "cell_type": "code",
   "execution_count": null,
   "metadata": {
    "id": "vwLiYmvNo8XF"
   },
   "outputs": [],
   "source": [
    "matrix = [\n",
    "    [4, 8, 4], \n",
    "    [3, 2, 6], \n",
    "    [5, 3, 7]\n",
    "] # this is a 3 x 3 matrix"
   ]
  },
  {
   "cell_type": "markdown",
   "metadata": {
    "id": "oLsPq1Tso8XK"
   },
   "source": [
    "For sequential integers there's the `range()` function. Since `range()` is a generator (Section 2.1.4) we'll have to coerce its result to a list to be able to interact with the squence as one."
   ]
  },
  {
   "cell_type": "code",
   "execution_count": null,
   "metadata": {
    "colab": {
     "base_uri": "https://localhost:8080/",
     "height": 34
    },
    "executionInfo": {
     "elapsed": 969,
     "status": "ok",
     "timestamp": 1599835812924,
     "user": {
      "displayName": "Dr. Jake",
      "photoUrl": "",
      "userId": "10996578946780976051"
     },
     "user_tz": 240
    },
    "id": "OsvNAPj7o8XK",
    "outputId": "f6654b42-0b42-437d-d022-be816668223b"
   },
   "outputs": [
    {
     "name": "stdout",
     "output_type": "stream",
     "text": [
      "[0, 1, 2, 3, 4, 5, 6, 7, 8, 9]\n"
     ]
    }
   ],
   "source": [
    "seq = list(range(10))\n",
    "print(seq)"
   ]
  },
  {
   "cell_type": "markdown",
   "metadata": {
    "id": "XyUM6TtMo8XO"
   },
   "source": [
    "There are a lot more ways to define lists:"
   ]
  },
  {
   "cell_type": "code",
   "execution_count": null,
   "metadata": {
    "colab": {
     "base_uri": "https://localhost:8080/",
     "height": 34
    },
    "executionInfo": {
     "elapsed": 533,
     "status": "ok",
     "timestamp": 1599835812925,
     "user": {
      "displayName": "Dr. Jake",
      "photoUrl": "",
      "userId": "10996578946780976051"
     },
     "user_tz": 240
    },
    "id": "CuqWtg7Zo8XP",
    "outputId": "d748107c-dff0-45f9-ecd5-a5e5a1f9b41c"
   },
   "outputs": [
    {
     "name": "stdout",
     "output_type": "stream",
     "text": [
      "[]\n"
     ]
    }
   ],
   "source": [
    "empty_list = []\n",
    "print(empty_list)"
   ]
  },
  {
   "cell_type": "markdown",
   "metadata": {
    "id": "dGR6kjx3o8XT"
   },
   "source": [
    "We can also use the `*` multiplication operator to initialize lists with repeated values:"
   ]
  },
  {
   "cell_type": "code",
   "execution_count": null,
   "metadata": {
    "colab": {
     "base_uri": "https://localhost:8080/",
     "height": 34
    },
    "executionInfo": {
     "elapsed": 1229,
     "status": "ok",
     "timestamp": 1599835815385,
     "user": {
      "displayName": "Dr. Jake",
      "photoUrl": "",
      "userId": "10996578946780976051"
     },
     "user_tz": 240
    },
    "id": "zYdgMOOjo8XU",
    "outputId": "ed73ad96-6deb-4dc3-8346-5a0dd49a80b1"
   },
   "outputs": [
    {
     "name": "stdout",
     "output_type": "stream",
     "text": [
      "[[], [], [], [], []]\n"
     ]
    }
   ],
   "source": [
    "list_of_empty_lists = [[]] * 5\n",
    "print(list_of_empty_lists)"
   ]
  },
  {
   "cell_type": "markdown",
   "metadata": {
    "id": "KixfBpICo8XZ"
   },
   "source": [
    "#### 2.1.1.3 Accessing elements\n",
    "We access elements of lists using their index:"
   ]
  },
  {
   "cell_type": "code",
   "execution_count": null,
   "metadata": {
    "colab": {
     "base_uri": "https://localhost:8080/",
     "height": 34
    },
    "executionInfo": {
     "elapsed": 478,
     "status": "ok",
     "timestamp": 1599835820483,
     "user": {
      "displayName": "Dr. Jake",
      "photoUrl": "",
      "userId": "10996578946780976051"
     },
     "user_tz": 240
    },
    "id": "X5mZCqNNo8XZ",
    "outputId": "3647929e-17fb-4e78-ed8d-4c631e389296"
   },
   "outputs": [
    {
     "data": {
      "text/plain": [
       "[8, 1, 5, 1, 89, 34, 3, 2, 144, 13, 34, 55, 0, 21]"
      ]
     },
     "execution_count": 14,
     "metadata": {
      "tags": []
     },
     "output_type": "execute_result"
    }
   ],
   "source": [
    "x"
   ]
  },
  {
   "cell_type": "code",
   "execution_count": null,
   "metadata": {
    "colab": {
     "base_uri": "https://localhost:8080/",
     "height": 34
    },
    "executionInfo": {
     "elapsed": 346,
     "status": "ok",
     "timestamp": 1599835820732,
     "user": {
      "displayName": "Dr. Jake",
      "photoUrl": "",
      "userId": "10996578946780976051"
     },
     "user_tz": 240
    },
    "id": "fDWcsUayo8Xd",
    "outputId": "32c42350-b1cf-43ab-8ecd-73a2b6dba497"
   },
   "outputs": [
    {
     "data": {
      "text/plain": [
       "8"
      ]
     },
     "execution_count": 15,
     "metadata": {
      "tags": []
     },
     "output_type": "execute_result"
    }
   ],
   "source": [
    "x[0]"
   ]
  },
  {
   "cell_type": "code",
   "execution_count": null,
   "metadata": {
    "colab": {
     "base_uri": "https://localhost:8080/",
     "height": 34
    },
    "executionInfo": {
     "elapsed": 1021,
     "status": "ok",
     "timestamp": 1599835821652,
     "user": {
      "displayName": "Dr. Jake",
      "photoUrl": "",
      "userId": "10996578946780976051"
     },
     "user_tz": 240
    },
    "id": "CM4eGp0Zo8Xi",
    "outputId": "c8792e81-2f36-4a8e-e283-158fd0c639ad"
   },
   "outputs": [
    {
     "data": {
      "text/plain": [
       "1"
      ]
     },
     "execution_count": 16,
     "metadata": {
      "tags": []
     },
     "output_type": "execute_result"
    }
   ],
   "source": [
    "x[3]"
   ]
  },
  {
   "cell_type": "markdown",
   "metadata": {
    "id": "EzZmbSJYo8Xl"
   },
   "source": [
    "It is also possible, and quite convenient, to access elements in the reverse order by simply using a negative sign for the index:"
   ]
  },
  {
   "cell_type": "code",
   "execution_count": null,
   "metadata": {
    "colab": {
     "base_uri": "https://localhost:8080/",
     "height": 34
    },
    "executionInfo": {
     "elapsed": 569,
     "status": "ok",
     "timestamp": 1599835821895,
     "user": {
      "displayName": "Dr. Jake",
      "photoUrl": "",
      "userId": "10996578946780976051"
     },
     "user_tz": 240
    },
    "id": "5KnqyKLao8Xl",
    "outputId": "63923794-c1b8-430f-c9f9-794576430c06"
   },
   "outputs": [
    {
     "data": {
      "text/plain": [
       "21"
      ]
     },
     "execution_count": 17,
     "metadata": {
      "tags": []
     },
     "output_type": "execute_result"
    }
   ],
   "source": [
    "x[-1]"
   ]
  },
  {
   "cell_type": "code",
   "execution_count": null,
   "metadata": {
    "colab": {
     "base_uri": "https://localhost:8080/",
     "height": 34
    },
    "executionInfo": {
     "elapsed": 1023,
     "status": "ok",
     "timestamp": 1599835822562,
     "user": {
      "displayName": "Dr. Jake",
      "photoUrl": "",
      "userId": "10996578946780976051"
     },
     "user_tz": 240
    },
    "id": "8qfZWo86o8Xp",
    "outputId": "1003c544-fa26-453b-c9e8-2dbe2ae2f3f8"
   },
   "outputs": [
    {
     "data": {
      "text/plain": [
       "34"
      ]
     },
     "execution_count": 18,
     "metadata": {
      "tags": []
     },
     "output_type": "execute_result"
    }
   ],
   "source": [
    "x[-4]"
   ]
  },
  {
   "cell_type": "markdown",
   "metadata": {
    "id": "tM0a9u0Xo8Xs"
   },
   "source": [
    "We can also \"slice\" lists, picking out specific sequences of elements by indicating indices:"
   ]
  },
  {
   "cell_type": "code",
   "execution_count": null,
   "metadata": {
    "colab": {
     "base_uri": "https://localhost:8080/",
     "height": 34
    },
    "executionInfo": {
     "elapsed": 935,
     "status": "ok",
     "timestamp": 1599835823005,
     "user": {
      "displayName": "Dr. Jake",
      "photoUrl": "",
      "userId": "10996578946780976051"
     },
     "user_tz": 240
    },
    "id": "7TvBXGewo8Xt",
    "outputId": "ccbdb895-9a5d-43c1-cb49-2c815aeca81e"
   },
   "outputs": [
    {
     "name": "stdout",
     "output_type": "stream",
     "text": [
      "[8, 1, 5, 1, 89, 34, 3, 2, 144, 13, 34, 55, 0, 21]\n"
     ]
    }
   ],
   "source": [
    "print(x)"
   ]
  },
  {
   "cell_type": "code",
   "execution_count": null,
   "metadata": {
    "colab": {
     "base_uri": "https://localhost:8080/",
     "height": 34
    },
    "executionInfo": {
     "elapsed": 606,
     "status": "ok",
     "timestamp": 1599835823007,
     "user": {
      "displayName": "Dr. Jake",
      "photoUrl": "",
      "userId": "10996578946780976051"
     },
     "user_tz": 240
    },
    "id": "OH53a9Plo8Xw",
    "outputId": "78e91d9a-fe80-404b-c26d-333cf68c2a24"
   },
   "outputs": [
    {
     "name": "stdout",
     "output_type": "stream",
     "text": [
      "[89, 34, 3, 2, 144, 13]\n"
     ]
    }
   ],
   "source": [
    "print(x[4:10])"
   ]
  },
  {
   "cell_type": "markdown",
   "metadata": {
    "id": "EmCTbdwlo8Xz"
   },
   "source": [
    "Notice that the slice begins at index 4 (Python indexing starts at 0, so the element at index 4 is actually the 5th element) and ends with index 9, i.e. just before index 10. \n",
    "\n",
    "We can also slice using negative indices. We can perform open-ended slices to grab the rest of the list from a particular index."
   ]
  },
  {
   "cell_type": "code",
   "execution_count": null,
   "metadata": {
    "colab": {
     "base_uri": "https://localhost:8080/",
     "height": 34
    },
    "executionInfo": {
     "elapsed": 816,
     "status": "ok",
     "timestamp": 1599835823751,
     "user": {
      "displayName": "Dr. Jake",
      "photoUrl": "",
      "userId": "10996578946780976051"
     },
     "user_tz": 240
    },
    "id": "2ptxbekoo8Xz",
    "outputId": "70607010-ae53-4b20-fa72-73ec62798d8f"
   },
   "outputs": [
    {
     "name": "stdout",
     "output_type": "stream",
     "text": [
      "[144, 13, 34]\n"
     ]
    }
   ],
   "source": [
    "print(x[-6:-3])"
   ]
  },
  {
   "cell_type": "code",
   "execution_count": null,
   "metadata": {
    "colab": {
     "base_uri": "https://localhost:8080/",
     "height": 34
    },
    "executionInfo": {
     "elapsed": 908,
     "status": "ok",
     "timestamp": 1599835824038,
     "user": {
      "displayName": "Dr. Jake",
      "photoUrl": "",
      "userId": "10996578946780976051"
     },
     "user_tz": 240
    },
    "id": "fdJOvBO2o8X3",
    "outputId": "d5ab1ee9-7b61-452d-fec9-084f89c6b2af"
   },
   "outputs": [
    {
     "name": "stdout",
     "output_type": "stream",
     "text": [
      "[1, 89, 34, 3, 2, 144, 13, 34, 55, 0, 21]\n"
     ]
    }
   ],
   "source": [
    "print(x[3:])"
   ]
  },
  {
   "cell_type": "code",
   "execution_count": null,
   "metadata": {
    "colab": {
     "base_uri": "https://localhost:8080/",
     "height": 34
    },
    "executionInfo": {
     "elapsed": 352,
     "status": "ok",
     "timestamp": 1599835824039,
     "user": {
      "displayName": "Dr. Jake",
      "photoUrl": "",
      "userId": "10996578946780976051"
     },
     "user_tz": 240
    },
    "id": "qr6SzqzXo8X5",
    "outputId": "bd665f89-b04f-4f12-e8d1-072180c03c0e"
   },
   "outputs": [
    {
     "name": "stdout",
     "output_type": "stream",
     "text": [
      "[8, 1, 5, 1, 89, 34]\n"
     ]
    }
   ],
   "source": [
    "print(x[:-8])"
   ]
  },
  {
   "cell_type": "markdown",
   "metadata": {
    "id": "YkyG9HoHo8X9"
   },
   "source": [
    "#### 2.1.1.4 Modifying lists\n",
    "Lists can be modified after being created. This is the hallmark of an important concept called _mutability_. Specifically, a mutable object is one that can be modified without direct re-assignment. Following our discussion on lists we'll move on into immutable ordered arrays, which are referred to as _tuples_.\n",
    "When we want to add new elements to the end of a list, we use `.append()`:"
   ]
  },
  {
   "cell_type": "code",
   "execution_count": null,
   "metadata": {
    "colab": {
     "base_uri": "https://localhost:8080/",
     "height": 34
    },
    "executionInfo": {
     "elapsed": 501,
     "status": "ok",
     "timestamp": 1599835825167,
     "user": {
      "displayName": "Dr. Jake",
      "photoUrl": "",
      "userId": "10996578946780976051"
     },
     "user_tz": 240
    },
    "id": "9JTtLuZ9o8X9",
    "outputId": "c2b9901d-a1f1-4305-cc1b-f7504d1c0e28"
   },
   "outputs": [
    {
     "name": "stdout",
     "output_type": "stream",
     "text": [
      "[0, 1, 2, 3, 4, 5, 6, 7, 8, 9, 10]\n"
     ]
    }
   ],
   "source": [
    "seq.append(10)\n",
    "print(seq)"
   ]
  },
  {
   "cell_type": "markdown",
   "metadata": {
    "id": "-3YSD3BHo8YA"
   },
   "source": [
    "But we have to be careful when appending to lists. Since Python allows multiple data types to be mixed in the same data structure, it is very easy to mistakenly append an unwanted item to a list. For example:"
   ]
  },
  {
   "cell_type": "code",
   "execution_count": null,
   "metadata": {
    "colab": {
     "base_uri": "https://localhost:8080/",
     "height": 34
    },
    "executionInfo": {
     "elapsed": 317,
     "status": "ok",
     "timestamp": 1599835826284,
     "user": {
      "displayName": "Dr. Jake",
      "photoUrl": "",
      "userId": "10996578946780976051"
     },
     "user_tz": 240
    },
    "id": "L77kU6pxo8YD",
    "outputId": "4d225e6f-c9da-490d-f803-a9f7f67ffd13"
   },
   "outputs": [
    {
     "name": "stdout",
     "output_type": "stream",
     "text": [
      "[0, 1, 2, 3, 4, 5, 6, 7, 8, 9, 10, [11]]\n"
     ]
    }
   ],
   "source": [
    "seq.append([11]) # Don't do this!\n",
    "print(seq)"
   ]
  },
  {
   "cell_type": "markdown",
   "metadata": {
    "id": "UfooMAfpo8YH"
   },
   "source": [
    "The use of an extra pair of square braces can lead to list dimensions and types getting messed up. \n",
    "\n",
    "We can delete the unwanted element by specifying its index and using the built-in `del` function:"
   ]
  },
  {
   "cell_type": "code",
   "execution_count": null,
   "metadata": {
    "colab": {
     "base_uri": "https://localhost:8080/",
     "height": 34
    },
    "executionInfo": {
     "elapsed": 527,
     "status": "ok",
     "timestamp": 1599835827791,
     "user": {
      "displayName": "Dr. Jake",
      "photoUrl": "",
      "userId": "10996578946780976051"
     },
     "user_tz": 240
    },
    "id": "58th6RqIo8YI",
    "outputId": "2743080a-f446-485d-bd0b-4b2790b0ae8e"
   },
   "outputs": [
    {
     "name": "stdout",
     "output_type": "stream",
     "text": [
      "[0, 1, 2, 3, 4, 5, 6, 7, 8, 9, 10]\n"
     ]
    }
   ],
   "source": [
    "del(seq[-1])\n",
    "print(seq)"
   ]
  },
  {
   "cell_type": "markdown",
   "metadata": {
    "id": "4Bq2O2pso8YK"
   },
   "source": [
    "As it turns out, there's a different method for the event that we want to 'glue' two lists together. Here's an example of this using `.extend()`:"
   ]
  },
  {
   "cell_type": "code",
   "execution_count": null,
   "metadata": {
    "colab": {
     "base_uri": "https://localhost:8080/",
     "height": 34
    },
    "executionInfo": {
     "elapsed": 381,
     "status": "ok",
     "timestamp": 1599835828657,
     "user": {
      "displayName": "Dr. Jake",
      "photoUrl": "",
      "userId": "10996578946780976051"
     },
     "user_tz": 240
    },
    "id": "nSnGtvzto8YK",
    "outputId": "fabaef5a-5d79-4cac-cdd7-777e43269b0a"
   },
   "outputs": [
    {
     "name": "stdout",
     "output_type": "stream",
     "text": [
      "[0, 1, 2, 3, 4, 5, 6, 7, 8, 9, 10, 11, 12, 13]\n"
     ]
    }
   ],
   "source": [
    "seq.extend([11, 12, 13]) # Do this!\n",
    "print(seq)"
   ]
  },
  {
   "cell_type": "code",
   "execution_count": null,
   "metadata": {
    "colab": {
     "base_uri": "https://localhost:8080/",
     "height": 34
    },
    "executionInfo": {
     "elapsed": 447,
     "status": "ok",
     "timestamp": 1599835829069,
     "user": {
      "displayName": "Dr. Jake",
      "photoUrl": "",
      "userId": "10996578946780976051"
     },
     "user_tz": 240
    },
    "id": "rhn21GIUo8YN",
    "outputId": "12246b39-621a-454f-9dfb-5d7557393aec"
   },
   "outputs": [
    {
     "name": "stdout",
     "output_type": "stream",
     "text": [
      "[0, 1, 2, 3, 4, 5, 6, 7, 8, 9, 10, 11, 12, 13, 99, 88, 77]\n"
     ]
    }
   ],
   "source": [
    "seq = seq + [99,88,77]\n",
    "print(seq)"
   ]
  },
  {
   "cell_type": "markdown",
   "metadata": {
    "id": "HMQD7Os2o8YQ"
   },
   "source": [
    "#### 2.1.1.5 List iteration\n",
    "Iterating over lists in a loop is extremely common. In Python, we don't need to use indices to iterate over lists like other languages. We can use the convenient `in` operator:"
   ]
  },
  {
   "cell_type": "code",
   "execution_count": null,
   "metadata": {
    "colab": {
     "base_uri": "https://localhost:8080/",
     "height": 312
    },
    "executionInfo": {
     "elapsed": 348,
     "status": "ok",
     "timestamp": 1599835829360,
     "user": {
      "displayName": "Dr. Jake",
      "photoUrl": "",
      "userId": "10996578946780976051"
     },
     "user_tz": 240
    },
    "id": "57vMJW-Mo8YQ",
    "outputId": "ae17d93f-3e67-4a55-f3be-f2ca7cb8fc14"
   },
   "outputs": [
    {
     "name": "stdout",
     "output_type": "stream",
     "text": [
      "0\n",
      "1\n",
      "2\n",
      "3\n",
      "4\n",
      "5\n",
      "6\n",
      "7\n",
      "8\n",
      "9\n",
      "10\n",
      "11\n",
      "12\n",
      "13\n",
      "99\n",
      "88\n",
      "77\n"
     ]
    }
   ],
   "source": [
    "for number in seq:\n",
    "    print(number)"
   ]
  },
  {
   "cell_type": "markdown",
   "metadata": {
    "id": "ZbUEPnm0o8YT"
   },
   "source": [
    "We can use nested loops to access nested lists:"
   ]
  },
  {
   "cell_type": "code",
   "execution_count": null,
   "metadata": {
    "colab": {
     "base_uri": "https://localhost:8080/",
     "height": 173
    },
    "executionInfo": {
     "elapsed": 682,
     "status": "ok",
     "timestamp": 1599835831399,
     "user": {
      "displayName": "Dr. Jake",
      "photoUrl": "",
      "userId": "10996578946780976051"
     },
     "user_tz": 240
    },
    "id": "TloflMpco8YU",
    "outputId": "62a1f26e-8400-4eb7-c7c2-d32d6d006910"
   },
   "outputs": [
    {
     "name": "stdout",
     "output_type": "stream",
     "text": [
      "4\n",
      "8\n",
      "4\n",
      "3\n",
      "2\n",
      "6\n",
      "5\n",
      "3\n",
      "7\n"
     ]
    }
   ],
   "source": [
    "for row in matrix:\n",
    "    for item in row:\n",
    "        print(item)"
   ]
  },
  {
   "cell_type": "markdown",
   "metadata": {
    "id": "TcQlv-G8o8YW"
   },
   "source": [
    "The built-in function `enumerate` gives us easy access to the index of the current element inside a loop:"
   ]
  },
  {
   "cell_type": "code",
   "execution_count": null,
   "metadata": {
    "colab": {
     "base_uri": "https://localhost:8080/",
     "height": 225
    },
    "executionInfo": {
     "elapsed": 705,
     "status": "ok",
     "timestamp": 1599835832901,
     "user": {
      "displayName": "Dr. Jake",
      "photoUrl": "",
      "userId": "10996578946780976051"
     },
     "user_tz": 240
    },
    "id": "dWXFmHaEo8YW",
    "outputId": "0b7c702a-aab8-4467-ae24-5a47883cceda"
   },
   "outputs": [
    {
     "name": "stdout",
     "output_type": "stream",
     "text": [
      "Printing row 0\n",
      "Item from column 0: 4\n",
      "Item from column 1: 8\n",
      "Item from column 2: 4\n",
      "Printing row 1\n",
      "Item from column 0: 3\n",
      "Item from column 1: 2\n",
      "Item from column 2: 6\n",
      "Printing row 2\n",
      "Item from column 0: 5\n",
      "Item from column 1: 3\n",
      "Item from column 2: 7\n"
     ]
    }
   ],
   "source": [
    "for m, row in enumerate(matrix):\n",
    "    print(\"Printing row \" + str(m)) # We're using str() to convert the integer variable m to a string, which allows us to concatenate it to the message\n",
    "    for n, item in enumerate(row):\n",
    "        print(\"Item from column \" + str(n) + \": \" + str(item))"
   ]
  },
  {
   "cell_type": "markdown",
   "metadata": {
    "id": "iAKZ_EWZo8YZ"
   },
   "source": [
    "#### 2.1.1.6 Exercise: trace of a matrix\n",
    "\n",
    "The trace of a (square) matrix (list of lists) is the sum of it's diagonal elements.\n",
    "Loop over the matrix's rows and add up the diagonal values for the trace. We'll be working with the simple 3 x 3 matrix:\n",
    "```\n",
    "[[1, 2, 3],   \n",
    " [4, 5, 6],  \n",
    " [7, 8, 9]]\n",
    "```"
   ]
  },
  {
   "cell_type": "code",
   "execution_count": null,
   "metadata": {
    "id": "x79cE0xuo8YZ"
   },
   "outputs": [],
   "source": [
    "## code here"
   ]
  },
  {
   "cell_type": "markdown",
   "metadata": {
    "id": "Sg5ET5TJo8Yc"
   },
   "source": [
    "#### 2.1.1.7 Sorting Lists\n",
    "One of the most useful built-in functionalities of Python is its ability to sort collections. We can rearrange an existing list using the `.sort()` method, or we can create a sorted copy of it using the `sorted()` function, leaving the original list unchanged."
   ]
  },
  {
   "cell_type": "code",
   "execution_count": null,
   "metadata": {
    "colab": {
     "base_uri": "https://localhost:8080/",
     "height": 34
    },
    "executionInfo": {
     "elapsed": 571,
     "status": "ok",
     "timestamp": 1599835845684,
     "user": {
      "displayName": "Dr. Jake",
      "photoUrl": "",
      "userId": "10996578946780976051"
     },
     "user_tz": 240
    },
    "id": "4LLJr9EZo8Yd",
    "outputId": "e9d27fb2-269a-4d98-b093-31d78056dd6d"
   },
   "outputs": [
    {
     "name": "stdout",
     "output_type": "stream",
     "text": [
      "[0, 1, 1, 2, 3, 5, 8, 13, 21, 34, 34, 55, 89, 144]\n"
     ]
    }
   ],
   "source": [
    "x = [8, 1, 5, 1, 89, 34, 3, 2, 144, 13, 34, 55, 0, 21]\n",
    "x.sort()\n",
    "print(x)"
   ]
  },
  {
   "cell_type": "code",
   "execution_count": null,
   "metadata": {
    "colab": {
     "base_uri": "https://localhost:8080/",
     "height": 34
    },
    "executionInfo": {
     "elapsed": 296,
     "status": "ok",
     "timestamp": 1599835845686,
     "user": {
      "displayName": "Dr. Jake",
      "photoUrl": "",
      "userId": "10996578946780976051"
     },
     "user_tz": 240
    },
    "id": "hRt3JmrOo8Yf",
    "outputId": "1621995e-9002-4b00-88ad-191bcaed656f"
   },
   "outputs": [
    {
     "name": "stdout",
     "output_type": "stream",
     "text": [
      "[0, 1, 1, 2, 3, 5, 8, 13, 21, 34, 34, 55, 89, 144]\n"
     ]
    }
   ],
   "source": [
    "x = [8, 1, 5, 1, 89, 34, 3, 2, 144, 13, 34, 55, 0, 21]\n",
    "y = sorted(x)\n",
    "print(y)"
   ]
  },
  {
   "cell_type": "code",
   "execution_count": null,
   "metadata": {
    "colab": {
     "base_uri": "https://localhost:8080/",
     "height": 34
    },
    "executionInfo": {
     "elapsed": 694,
     "status": "ok",
     "timestamp": 1599835846252,
     "user": {
      "displayName": "Dr. Jake",
      "photoUrl": "",
      "userId": "10996578946780976051"
     },
     "user_tz": 240
    },
    "id": "0_66FkPZo8Yi",
    "outputId": "a0a2ceaa-bdb7-4afa-d1ff-7983ee7fbf29"
   },
   "outputs": [
    {
     "name": "stdout",
     "output_type": "stream",
     "text": [
      "[8, 1, 5, 1, 89, 34, 3, 2, 144, 13, 34, 55, 0, 21]\n"
     ]
    }
   ],
   "source": [
    "print(x)"
   ]
  },
  {
   "cell_type": "markdown",
   "metadata": {
    "id": "t2EsvisBo8Yk"
   },
   "source": [
    "We can set the `reverse` flag to `True` to sort a list in descending order:"
   ]
  },
  {
   "cell_type": "code",
   "execution_count": null,
   "metadata": {
    "colab": {
     "base_uri": "https://localhost:8080/",
     "height": 34
    },
    "executionInfo": {
     "elapsed": 835,
     "status": "ok",
     "timestamp": 1599835847190,
     "user": {
      "displayName": "Dr. Jake",
      "photoUrl": "",
      "userId": "10996578946780976051"
     },
     "user_tz": 240
    },
    "id": "55ZWyqF8o8Yl",
    "outputId": "8b2c26b6-5521-4ddf-ac71-f13ddce4531e"
   },
   "outputs": [
    {
     "name": "stdout",
     "output_type": "stream",
     "text": [
      "[144, 89, 55, 34, 34, 21, 13, 8, 5, 3, 2, 1, 1, 0]\n"
     ]
    }
   ],
   "source": [
    "z = sorted(x, reverse = True)\n",
    "print(z)"
   ]
  },
  {
   "cell_type": "markdown",
   "metadata": {
    "id": "PVq-u4TTo8Yn"
   },
   "source": [
    "#### 2.1.1.8 Exercise: Sorting lists\n",
    "\n",
    "You might have noticed that the list `y` is a list containing the first 14 numbers in the Fibonacci sequence, i.e., any number can be calculated from the sum of the previous two numbers. \n",
    "\n",
    "Now, use a `for` loop to calculate the next 10 Fibonacci numbers and append them to list `y`. "
   ]
  },
  {
   "cell_type": "code",
   "execution_count": null,
   "metadata": {
    "id": "yFlY_S2Zo8Yn"
   },
   "outputs": [],
   "source": [
    "y = [0, 1, 1, 2, 3, 5, 8, 13, 21, 34, 55, 89, 144] # These are the first 13 numbers in the sequence\n",
    "# Hint: You'll need to use list indices"
   ]
  },
  {
   "cell_type": "markdown",
   "metadata": {
    "id": "CSJZHGASo8Yq"
   },
   "source": [
    "#### 2.1.1.9 List Comprehensions\n",
    "Say we want to define the first 100 multiples of 7. We would ordinarily write a `for` loop like this:"
   ]
  },
  {
   "cell_type": "code",
   "execution_count": null,
   "metadata": {
    "colab": {
     "base_uri": "https://localhost:8080/",
     "height": 54
    },
    "executionInfo": {
     "elapsed": 621,
     "status": "ok",
     "timestamp": 1599835851573,
     "user": {
      "displayName": "Dr. Jake",
      "photoUrl": "",
      "userId": "10996578946780976051"
     },
     "user_tz": 240
    },
    "id": "65Tt-FHOo8Yq",
    "outputId": "54a10fba-0614-4163-a8fe-6152dbe19353"
   },
   "outputs": [
    {
     "name": "stdout",
     "output_type": "stream",
     "text": [
      "[0, 7, 14, 21, 28, 35, 42, 49, 56, 63, 70, 77, 84, 91, 98, 105, 112, 119, 126, 133, 140, 147, 154, 161, 168, 175, 182, 189, 196, 203, 210, 217, 224, 231, 238, 245, 252, 259, 266, 273, 280, 287, 294, 301, 308, 315, 322, 329, 336, 343, 350, 357, 364, 371, 378, 385, 392, 399, 406, 413, 420, 427, 434, 441, 448, 455, 462, 469, 476, 483, 490, 497, 504, 511, 518, 525, 532, 539, 546, 553, 560, 567, 574, 581, 588, 595, 602, 609, 616, 623, 630, 637, 644, 651, 658, 665, 672, 679, 686, 693, 700]\n"
     ]
    }
   ],
   "source": [
    "mult7 = []\n",
    "for n in range(101): # We're specifying 101 because we want to go up to 100 exactly. The range() function stops right before the specified value.\n",
    "    mult7.append(7 * n)\n",
    "print(mult7)"
   ]
  },
  {
   "cell_type": "markdown",
   "metadata": {
    "id": "-2K8pIXbo8Ys"
   },
   "source": [
    "We could perform exactly the same operation in a single line of code as follows, using a _list comprehension_:"
   ]
  },
  {
   "cell_type": "code",
   "execution_count": null,
   "metadata": {
    "colab": {
     "base_uri": "https://localhost:8080/",
     "height": 54
    },
    "executionInfo": {
     "elapsed": 634,
     "status": "ok",
     "timestamp": 1599835853127,
     "user": {
      "displayName": "Dr. Jake",
      "photoUrl": "",
      "userId": "10996578946780976051"
     },
     "user_tz": 240
    },
    "id": "QDJDmHhoo8Ys",
    "outputId": "452bc5ee-d479-4336-99a5-b3f52c0cb725",
    "scrolled": true
   },
   "outputs": [
    {
     "name": "stdout",
     "output_type": "stream",
     "text": [
      "[0, 7, 14, 21, 28, 35, 42, 49, 56, 63, 70, 77, 84, 91, 98, 105, 112, 119, 126, 133, 140, 147, 154, 161, 168, 175, 182, 189, 196, 203, 210, 217, 224, 231, 238, 245, 252, 259, 266, 273, 280, 287, 294, 301, 308, 315, 322, 329, 336, 343, 350, 357, 364, 371, 378, 385, 392, 399, 406, 413, 420, 427, 434, 441, 448, 455, 462, 469, 476, 483, 490, 497, 504, 511, 518, 525, 532, 539, 546, 553, 560, 567, 574, 581, 588, 595, 602, 609, 616, 623, 630, 637, 644, 651, 658, 665, 672, 679, 686, 693, 700]\n"
     ]
    }
   ],
   "source": [
    "mult7 = [\n",
    "    7 * n \n",
    "    for n in range(101)\n",
    "]\n",
    "print(mult7)"
   ]
  },
  {
   "cell_type": "markdown",
   "metadata": {
    "id": "lxQsMBNNo8Yv"
   },
   "source": [
    "The basic comprehension syntax (which can be used not just with lists, but other container data types as well) consists of brackets containing an expression followed by a `for` clause. It loooks like `[expression(x) for x in iterable]`. In the example above, the expression is a multiplication by 7. Since it is a simple operation, we typed the expression inside the comprehension instead of defining it elsewhere and calling it as a function. The operation can be simple assignment (i.e. copying the value), in which case the syntax is further simplified to `[x for x in iterable]`."
   ]
  },
  {
   "cell_type": "markdown",
   "metadata": {
    "id": "DxjHZiSJo8Yv"
   },
   "source": [
    "Additional `for` and `if` clauses can be incorporated to construct more complex comprehensions. By using additional `for` loops, we can nest comprehensions. For example, we could \"transpose\" (switch columns and rows) a matrix using a nested list comprehension:"
   ]
  },
  {
   "cell_type": "code",
   "execution_count": null,
   "metadata": {
    "colab": {
     "base_uri": "https://localhost:8080/",
     "height": 34
    },
    "executionInfo": {
     "elapsed": 546,
     "status": "ok",
     "timestamp": 1599835855279,
     "user": {
      "displayName": "Dr. Jake",
      "photoUrl": "",
      "userId": "10996578946780976051"
     },
     "user_tz": 240
    },
    "id": "qkulpwuyo8Yw",
    "outputId": "e75701d0-8328-4649-aebd-f9e6711e09be"
   },
   "outputs": [
    {
     "name": "stdout",
     "output_type": "stream",
     "text": [
      "[[8, 9, 5], [2, 1, 4], [3, 9, 1]]\n"
     ]
    }
   ],
   "source": [
    "matrix = [\n",
    "    [8, 2, 3], \n",
    "    [9, 1, 9], \n",
    "    [5, 4, 1]\n",
    "]\n",
    "\n",
    "transposed_matrix = [\n",
    "    [\n",
    "        row[i] \n",
    "        for row in matrix\n",
    "    ] \n",
    "    for i in range(3)\n",
    "] # We generate indices using the range() function\n",
    "print(transposed_matrix)"
   ]
  },
  {
   "cell_type": "markdown",
   "metadata": {
    "id": "YaxYqIOJo8Yy"
   },
   "source": [
    "#### 2.1.1.10 Some more useful list methods\n",
    "To formalize, methods are simply built-in functions that are available as attributes of a data type. For example, we have been using `list.append()` to add elements to a list. This is a method that comes built-in with the list data type. The other list method we've already shown is `list.sort()`. We'll take a look at a few more useful list methods.\n",
    "\n",
    "Let's first define a list."
   ]
  },
  {
   "cell_type": "code",
   "execution_count": null,
   "metadata": {
    "id": "HJ1L7E2xo8Yy"
   },
   "outputs": [],
   "source": [
    "a = [2, 1, 4, 2, 5, 1, 5, 7, 0, 1, 2, 5, 6, 7, 8]"
   ]
  },
  {
   "cell_type": "markdown",
   "metadata": {
    "id": "1_TISV_Mo8Y0"
   },
   "source": [
    "`.index()` returns the index of the first instancce of an item in the list."
   ]
  },
  {
   "cell_type": "code",
   "execution_count": null,
   "metadata": {
    "colab": {
     "base_uri": "https://localhost:8080/",
     "height": 34
    },
    "executionInfo": {
     "elapsed": 459,
     "status": "ok",
     "timestamp": 1599835857796,
     "user": {
      "displayName": "Dr. Jake",
      "photoUrl": "",
      "userId": "10996578946780976051"
     },
     "user_tz": 240
    },
    "id": "Mvc8Lhwjo8Y1",
    "outputId": "1e618273-21eb-418c-b8d5-4f79ad104682"
   },
   "outputs": [
    {
     "name": "stdout",
     "output_type": "stream",
     "text": [
      "2\n"
     ]
    }
   ],
   "source": [
    "print(a.index(4))"
   ]
  },
  {
   "cell_type": "markdown",
   "metadata": {
    "id": "qxqCRCyEo8Y3"
   },
   "source": [
    "`.pop()` removes the last item in the list and returns it."
   ]
  },
  {
   "cell_type": "code",
   "execution_count": null,
   "metadata": {
    "colab": {
     "base_uri": "https://localhost:8080/",
     "height": 52
    },
    "executionInfo": {
     "elapsed": 480,
     "status": "ok",
     "timestamp": 1599835859191,
     "user": {
      "displayName": "Dr. Jake",
      "photoUrl": "",
      "userId": "10996578946780976051"
     },
     "user_tz": 240
    },
    "id": "XYgpPC6do8Y4",
    "outputId": "9b2a4113-2b22-4932-a6b8-7afffd4d05bd"
   },
   "outputs": [
    {
     "name": "stdout",
     "output_type": "stream",
     "text": [
      "8\n",
      "[2, 1, 4, 2, 5, 1, 5, 7, 0, 1, 2, 5, 6, 7]\n"
     ]
    }
   ],
   "source": [
    "last = a.pop()\n",
    "print(last)\n",
    "print(a)"
   ]
  },
  {
   "cell_type": "markdown",
   "metadata": {
    "id": "N6UjZSoqo8Y7"
   },
   "source": [
    "`.count()` returns the number of times an item appears in a list."
   ]
  },
  {
   "cell_type": "code",
   "execution_count": null,
   "metadata": {
    "colab": {
     "base_uri": "https://localhost:8080/",
     "height": 34
    },
    "executionInfo": {
     "elapsed": 587,
     "status": "ok",
     "timestamp": 1599835864318,
     "user": {
      "displayName": "Dr. Jake",
      "photoUrl": "",
      "userId": "10996578946780976051"
     },
     "user_tz": 240
    },
    "id": "Tp1nPCW4o8Y7",
    "outputId": "41dd8794-f026-4ae3-e8ee-bc34c4ae0a4d"
   },
   "outputs": [
    {
     "name": "stdout",
     "output_type": "stream",
     "text": [
      "3\n"
     ]
    }
   ],
   "source": [
    "print(a.count(1))"
   ]
  },
  {
   "cell_type": "markdown",
   "metadata": {
    "id": "2hgbOOrTo8Y9"
   },
   "source": [
    "`.reverse()` reverses the order of the list; note that the list is changed in place!"
   ]
  },
  {
   "cell_type": "code",
   "execution_count": null,
   "metadata": {
    "colab": {
     "base_uri": "https://localhost:8080/",
     "height": 34
    },
    "executionInfo": {
     "elapsed": 433,
     "status": "ok",
     "timestamp": 1599835864709,
     "user": {
      "displayName": "Dr. Jake",
      "photoUrl": "",
      "userId": "10996578946780976051"
     },
     "user_tz": 240
    },
    "id": "H2Pe9mlKo8Y-",
    "outputId": "386f474e-1ae5-4570-cf07-8c88e556c84a"
   },
   "outputs": [
    {
     "name": "stdout",
     "output_type": "stream",
     "text": [
      "[7, 6, 5, 2, 1, 0, 7, 5, 1, 5, 2, 4, 1, 2]\n"
     ]
    }
   ],
   "source": [
    "a.reverse()\n",
    "print(a)"
   ]
  },
  {
   "cell_type": "markdown",
   "metadata": {
    "id": "94rdw0o5o8ZB"
   },
   "source": [
    "If we wanted to create a reverse copy of a list, we would need to use the built-in `reversed()` function, rather than the `list.reverse()` method."
   ]
  },
  {
   "cell_type": "code",
   "execution_count": null,
   "metadata": {
    "colab": {
     "base_uri": "https://localhost:8080/",
     "height": 34
    },
    "executionInfo": {
     "elapsed": 468,
     "status": "ok",
     "timestamp": 1599835866103,
     "user": {
      "displayName": "Dr. Jake",
      "photoUrl": "",
      "userId": "10996578946780976051"
     },
     "user_tz": 240
    },
    "id": "ztRMdrNto8ZB",
    "outputId": "915b2696-0607-4b74-e5c7-7f4ceb81fa9c"
   },
   "outputs": [
    {
     "name": "stdout",
     "output_type": "stream",
     "text": [
      "[2, 1, 4, 2, 5, 1, 5, 7, 0, 1, 2, 5, 6, 7]\n"
     ]
    }
   ],
   "source": [
    "b = list(reversed(a)) # the list() call is necessary because reversed() returns an iterator, not an actual list\n",
    "print(b) "
   ]
  },
  {
   "cell_type": "markdown",
   "metadata": {
    "id": "p5wC2V3Vo8ZD"
   },
   "source": [
    "#### 2.1.1.11 Exercise: Flattening a matrix into a list\n",
    "Using either a nested comprehension or a nested for loop, conver the matrix below into a single list of values. Discuss how they become ordered, i.e., by column or row."
   ]
  },
  {
   "cell_type": "code",
   "execution_count": null,
   "metadata": {
    "colab": {
     "base_uri": "https://localhost:8080/",
     "height": 34
    },
    "executionInfo": {
     "elapsed": 465,
     "status": "ok",
     "timestamp": 1599835878479,
     "user": {
      "displayName": "Dr. Jake",
      "photoUrl": "",
      "userId": "10996578946780976051"
     },
     "user_tz": 240
    },
    "id": "9whHrmCMo8ZE",
    "outputId": "775c8c7d-f247-4a85-b6f1-5c4af381f697"
   },
   "outputs": [
    {
     "name": "stdout",
     "output_type": "stream",
     "text": [
      "[]\n"
     ]
    }
   ],
   "source": [
    "## our starting matrix\n",
    "matrix = [[8, 2, 3], \n",
    "          [9, 1, 9], \n",
    "          [5, 4, 1]]\n",
    "target = [8, 2, 3, 9, 1, 9, 5, 4, 1]\n",
    "\n",
    "## first try using nested loops\n",
    "flattened_matrix = []\n",
    "        \n",
    "print(flattened_matrix)"
   ]
  },
  {
   "cell_type": "markdown",
   "metadata": {
    "id": "sLovTWIwo8ZG"
   },
   "source": [
    "### 2.1.2 Tuples\n",
    "Tuples are similar to lists, but with an important difference: they are `immutable`, meaning tuple objects can't be changed once they've been created (they can only be reassigned). Tuples will often be used in similar ways to lists and can be operated on by many of the same functions as lists, like `sorted()`.\n",
    "#### 2.1.2.1 Basics\n",
    "Tuples are printed with round braces, but can be defined by simply separating values by commas. The round braces are optional for tuple defintion."
   ]
  },
  {
   "cell_type": "code",
   "execution_count": null,
   "metadata": {
    "colab": {
     "base_uri": "https://localhost:8080/",
     "height": 34
    },
    "executionInfo": {
     "elapsed": 626,
     "status": "ok",
     "timestamp": 1599835894989,
     "user": {
      "displayName": "Dr. Jake",
      "photoUrl": "",
      "userId": "10996578946780976051"
     },
     "user_tz": 240
    },
    "id": "1Mtmel-do8ZH",
    "outputId": "013652e9-f8b2-4ba0-b96e-f7427e10d369"
   },
   "outputs": [
    {
     "name": "stdout",
     "output_type": "stream",
     "text": [
      "(4, 2, 3, 1, 2, 4, 4)\n"
     ]
    }
   ],
   "source": [
    "numbers = 4, 2, 3, 1, 2, 4, 4\n",
    "print(numbers)"
   ]
  },
  {
   "cell_type": "markdown",
   "metadata": {
    "id": "Q3BAq2i5o8ZI"
   },
   "source": [
    "Because they can't be changed after definition, we can't append anything to tuples:"
   ]
  },
  {
   "cell_type": "code",
   "execution_count": null,
   "metadata": {
    "colab": {
     "base_uri": "https://localhost:8080/",
     "height": 165
    },
    "executionInfo": {
     "elapsed": 1150,
     "status": "error",
     "timestamp": 1599835897346,
     "user": {
      "displayName": "Dr. Jake",
      "photoUrl": "",
      "userId": "10996578946780976051"
     },
     "user_tz": 240
    },
    "id": "uY5CrNPIo8ZK",
    "outputId": "71f4e246-49b5-42f2-b18b-42f7188ac549"
   },
   "outputs": [
    {
     "ename": "TypeError",
     "evalue": "ignored",
     "output_type": "error",
     "traceback": [
      "\u001b[0;31m---------------------------------------------------------------------------\u001b[0m",
      "\u001b[0;31mTypeError\u001b[0m                                 Traceback (most recent call last)",
      "\u001b[0;32m<ipython-input-49-78af81346f02>\u001b[0m in \u001b[0;36m<module>\u001b[0;34m()\u001b[0m\n\u001b[0;32m----> 1\u001b[0;31m \u001b[0mnumbers\u001b[0m\u001b[0;34m[\u001b[0m\u001b[0;36m7\u001b[0m\u001b[0;34m]\u001b[0m \u001b[0;34m=\u001b[0m \u001b[0;36m3\u001b[0m\u001b[0;34m\u001b[0m\u001b[0;34m\u001b[0m\u001b[0m\n\u001b[0m",
      "\u001b[0;31mTypeError\u001b[0m: 'tuple' object does not support item assignment"
     ]
    }
   ],
   "source": [
    "numbers[7] = 3"
   ]
  },
  {
   "cell_type": "code",
   "execution_count": null,
   "metadata": {
    "colab": {
     "base_uri": "https://localhost:8080/",
     "height": 165
    },
    "executionInfo": {
     "elapsed": 489,
     "status": "error",
     "timestamp": 1599835899596,
     "user": {
      "displayName": "Dr. Jake",
      "photoUrl": "",
      "userId": "10996578946780976051"
     },
     "user_tz": 240
    },
    "id": "mV3XtWFzo8ZL",
    "outputId": "1c8b131b-776f-43d4-ebab-c29cb55cfc3d"
   },
   "outputs": [
    {
     "ename": "TypeError",
     "evalue": "ignored",
     "output_type": "error",
     "traceback": [
      "\u001b[0;31m---------------------------------------------------------------------------\u001b[0m",
      "\u001b[0;31mTypeError\u001b[0m                                 Traceback (most recent call last)",
      "\u001b[0;32m<ipython-input-50-3a4cd3901c46>\u001b[0m in \u001b[0;36m<module>\u001b[0;34m()\u001b[0m\n\u001b[0;32m----> 1\u001b[0;31m \u001b[0mnumbers\u001b[0m\u001b[0;34m[\u001b[0m\u001b[0;36m2\u001b[0m\u001b[0;34m]\u001b[0m \u001b[0;34m=\u001b[0m \u001b[0;36m4\u001b[0m\u001b[0;34m\u001b[0m\u001b[0;34m\u001b[0m\u001b[0m\n\u001b[0m",
      "\u001b[0;31mTypeError\u001b[0m: 'tuple' object does not support item assignment"
     ]
    }
   ],
   "source": [
    "numbers[2] = 4"
   ]
  },
  {
   "cell_type": "code",
   "execution_count": null,
   "metadata": {
    "colab": {
     "base_uri": "https://localhost:8080/",
     "height": 165
    },
    "executionInfo": {
     "elapsed": 644,
     "status": "error",
     "timestamp": 1599835900759,
     "user": {
      "displayName": "Dr. Jake",
      "photoUrl": "",
      "userId": "10996578946780976051"
     },
     "user_tz": 240
    },
    "id": "IFzvmSJCo8ZN",
    "outputId": "e21b1b93-3b93-4ca3-a8e3-db6fd4970ba4"
   },
   "outputs": [
    {
     "ename": "AttributeError",
     "evalue": "ignored",
     "output_type": "error",
     "traceback": [
      "\u001b[0;31m---------------------------------------------------------------------------\u001b[0m",
      "\u001b[0;31mAttributeError\u001b[0m                            Traceback (most recent call last)",
      "\u001b[0;32m<ipython-input-51-a7fbdb0ac869>\u001b[0m in \u001b[0;36m<module>\u001b[0;34m()\u001b[0m\n\u001b[0;32m----> 1\u001b[0;31m \u001b[0mnumbers\u001b[0m\u001b[0;34m.\u001b[0m\u001b[0mappend\u001b[0m\u001b[0;34m(\u001b[0m\u001b[0;36m3\u001b[0m\u001b[0;34m)\u001b[0m\u001b[0;34m\u001b[0m\u001b[0;34m\u001b[0m\u001b[0m\n\u001b[0m",
      "\u001b[0;31mAttributeError\u001b[0m: 'tuple' object has no attribute 'append'"
     ]
    }
   ],
   "source": [
    "numbers.append(3)"
   ]
  },
  {
   "cell_type": "markdown",
   "metadata": {
    "id": "2vi0bu9lo8ZQ"
   },
   "source": [
    "#### 2.1.2.2 Packing\n",
    "Often, tuples are used for \"packing\" and \"unpacking\" data. For example, we can create a tuple to hold information related to a book and unpack that information into separate variables:"
   ]
  },
  {
   "cell_type": "code",
   "execution_count": null,
   "metadata": {
    "colab": {
     "base_uri": "https://localhost:8080/",
     "height": 69
    },
    "executionInfo": {
     "elapsed": 553,
     "status": "ok",
     "timestamp": 1599835905457,
     "user": {
      "displayName": "Dr. Jake",
      "photoUrl": "",
      "userId": "10996578946780976051"
     },
     "user_tz": 240
    },
    "id": "C11m_cqco8ZQ",
    "outputId": "23264872-19ab-4911-d0b5-2f48d9360463"
   },
   "outputs": [
    {
     "name": "stdout",
     "output_type": "stream",
     "text": [
      "A Tale of Two Cities\n",
      "Charles Dickens\n",
      "1859\n"
     ]
    }
   ],
   "source": [
    "book = \"A Tale of Two Cities\", \"Charles Dickens\", 1859\n",
    "\n",
    "title, author, year = book\n",
    "print(title)\n",
    "print(author)\n",
    "print(year)"
   ]
  },
  {
   "cell_type": "markdown",
   "metadata": {
    "id": "lxLybFtwo8ZS"
   },
   "source": [
    "Tuple elements can be accessed using indexes just like lists:"
   ]
  },
  {
   "cell_type": "code",
   "execution_count": null,
   "metadata": {
    "colab": {
     "base_uri": "https://localhost:8080/",
     "height": 34
    },
    "executionInfo": {
     "elapsed": 528,
     "status": "ok",
     "timestamp": 1599835912485,
     "user": {
      "displayName": "Dr. Jake",
      "photoUrl": "",
      "userId": "10996578946780976051"
     },
     "user_tz": 240
    },
    "id": "ZPFSQOKko8ZS",
    "outputId": "418a4c10-72ee-42de-c0ef-7bd38ed229ff"
   },
   "outputs": [
    {
     "name": "stdout",
     "output_type": "stream",
     "text": [
      "Charles Dickens\n"
     ]
    }
   ],
   "source": [
    "print(book[1])"
   ]
  },
  {
   "cell_type": "markdown",
   "metadata": {
    "id": "enHrmd7eo8ZU"
   },
   "source": [
    "#### 2.1.2.3 Exercise: tuple unpacking and list transformation\n",
    "Use a list comprehension to create a list of all the author names from the given list of tuples containing title, author, and publication year."
   ]
  },
  {
   "cell_type": "code",
   "execution_count": null,
   "metadata": {
    "colab": {
     "base_uri": "https://localhost:8080/",
     "height": 34
    },
    "executionInfo": {
     "elapsed": 1327,
     "status": "ok",
     "timestamp": 1599835915491,
     "user": {
      "displayName": "Dr. Jake",
      "photoUrl": "",
      "userId": "10996578946780976051"
     },
     "user_tz": 240
    },
    "id": "s1AMtt23o8ZU",
    "outputId": "e46f20fc-dd4a-43fe-af35-1ebc7102d49e"
   },
   "outputs": [
    {
     "data": {
      "text/plain": [
       "[]"
      ]
     },
     "execution_count": 54,
     "metadata": {
      "tags": []
     },
     "output_type": "execute_result"
    }
   ],
   "source": [
    "books = [(\"A Tale of Two Cities\", \"Charles Dickens\", 1859), \n",
    "         (\"Crime and Punishment\", \"Fyodor Dostoyevski\", 1866),\n",
    "         (\"Heart of Darkness\", \"Joseph Conrad\", 1899), \n",
    "         (\"Brave New World\", \"Aldous Huxley\", 1932), \n",
    "         (\"The Stranger\", \"Albert Camus\", 1942)]\n",
    "\n",
    "## Dazzle yourself with your list comprehension skills!\n",
    "authors = []\n",
    "authors"
   ]
  },
  {
   "cell_type": "markdown",
   "metadata": {
    "id": "kgU4A40Qo8ZX"
   },
   "source": [
    "### 2.1.3 Strings are immutable ordered arrays of characters\n",
    "Interestingly, strings in Python are also sequential (ordered) objects. A string is like a list of characters, but is immutable (like a tuple). More details on strings can be found [here](https://docs.python.org/3/library/stdtypes.html#text-sequence-type-str), and on numeric data types like integers and floats, which are not containers but also have some surprising properties worth learning about, [here](https://docs.python.org/3/library/stdtypes.html#numeric-types-int-float-complex)."
   ]
  },
  {
   "cell_type": "markdown",
   "metadata": {
    "id": "cECAVqvuo8ZX"
   },
   "source": [
    "#### 2.1.3.1 Some helpful string methods\n",
    "Strings also come with many useful methods. For example, `string.split()` can break a string apart on occurrences of any specified character. A common use of `.split()` is to break up sentences into words by splitting by spaces, which is the default for the method."
   ]
  },
  {
   "cell_type": "code",
   "execution_count": 13,
   "metadata": {
    "colab": {
     "base_uri": "https://localhost:8080/",
     "height": 34
    },
    "executionInfo": {
     "elapsed": 549,
     "status": "ok",
     "timestamp": 1601327471379,
     "user": {
      "displayName": "Dr. Jake",
      "photoUrl": "",
      "userId": "10996578946780976051"
     },
     "user_tz": 240
    },
    "id": "wn_EA8Yto8ZX",
    "outputId": "0a10e8ec-1456-41e1-bf69-86fbcd29b08f"
   },
   "outputs": [
    {
     "name": "stdout",
     "output_type": "stream",
     "text": [
      "['I', 'care', 'for', 'no', 'man', 'on', 'earth,', 'and', 'no', 'man', 'on', 'earth', 'cares', 'for', 'me.']\n"
     ]
    }
   ],
   "source": [
    "sentence = \"I care for no man on earth, and no man on earth cares for me.\"\n",
    "words = sentence.split()\n",
    "\n",
    "print(words)"
   ]
  },
  {
   "cell_type": "markdown",
   "metadata": {
    "id": "Om3A1TcSo8ZZ"
   },
   "source": [
    "Custom separators can come in handy with `.split()`:"
   ]
  },
  {
   "cell_type": "code",
   "execution_count": 3,
   "metadata": {
    "colab": {
     "base_uri": "https://localhost:8080/",
     "height": 34
    },
    "executionInfo": {
     "elapsed": 907,
     "status": "ok",
     "timestamp": 1601327397307,
     "user": {
      "displayName": "Dr. Jake",
      "photoUrl": "",
      "userId": "10996578946780976051"
     },
     "user_tz": 240
    },
    "id": "aQ4EPdX2o8ZZ",
    "outputId": "86d14d78-3816-4999-b8f7-d0765ae548a6"
   },
   "outputs": [
    {
     "name": "stdout",
     "output_type": "stream",
     "text": [
      "['unusually', 'long', 'sequence', 'of', 'seemingly', 'related', 'words']\n"
     ]
    }
   ],
   "source": [
    "filename = \"unusually-long-sequence-of-seemingly-related-words\"\n",
    "filename_words = filename.split(\"-\")\n",
    "\n",
    "print(filename_words)"
   ]
  },
  {
   "cell_type": "markdown",
   "metadata": {
    "id": "Kxp02MmHo8Zc"
   },
   "source": [
    "The `.strip()` method can clean up strings by removing leading and trailing whitespace:"
   ]
  },
  {
   "cell_type": "code",
   "execution_count": 14,
   "metadata": {
    "colab": {
     "base_uri": "https://localhost:8080/",
     "height": 52
    },
    "executionInfo": {
     "elapsed": 536,
     "status": "ok",
     "timestamp": 1601327659361,
     "user": {
      "displayName": "Dr. Jake",
      "photoUrl": "",
      "userId": "10996578946780976051"
     },
     "user_tz": 240
    },
    "id": "N6-re_dRo8Zd",
    "outputId": "bacc4c62-bdc2-4b5a-de1f-ed743ff125ca"
   },
   "outputs": [
    {
     "name": "stdout",
     "output_type": "stream",
     "text": [
      "'      There was so much that was wrong with the situation.                          '\n",
      "'There was so much that was wrong with the situation.'\n"
     ]
    }
   ],
   "source": [
    "badly_processed_sentence = \"      There was so much that was wrong with the situation.      \"\n",
    "stripped_sentence = badly_processed_sentence.strip()\n",
    "\n",
    "print(\"'\" + badly_processed_sentence + \"'\")\n",
    "print(\"'\" + stripped_sentence + \"'\")"
   ]
  },
  {
   "cell_type": "markdown",
   "metadata": {
    "id": "TB5apqCJo8Ze"
   },
   "source": [
    "The `.upper()`, `.lower()`, and `.title()` methods can change the case of characters:"
   ]
  },
  {
   "cell_type": "code",
   "execution_count": 5,
   "metadata": {
    "colab": {
     "base_uri": "https://localhost:8080/",
     "height": 34
    },
    "executionInfo": {
     "elapsed": 897,
     "status": "ok",
     "timestamp": 1601327397310,
     "user": {
      "displayName": "Dr. Jake",
      "photoUrl": "",
      "userId": "10996578946780976051"
     },
     "user_tz": 240
    },
    "id": "QERQegfeo8Ze",
    "outputId": "2c0ecf86-d95c-423e-bc4f-26d5b13da023"
   },
   "outputs": [
    {
     "name": "stdout",
     "output_type": "stream",
     "text": [
      "peter parker\n"
     ]
    }
   ],
   "source": [
    "name = \"PETER PARKER\"\n",
    "lower_name = name.lower()\n",
    "print(lower_name)"
   ]
  },
  {
   "cell_type": "code",
   "execution_count": 6,
   "metadata": {
    "colab": {
     "base_uri": "https://localhost:8080/",
     "height": 34
    },
    "executionInfo": {
     "elapsed": 894,
     "status": "ok",
     "timestamp": 1601327397311,
     "user": {
      "displayName": "Dr. Jake",
      "photoUrl": "",
      "userId": "10996578946780976051"
     },
     "user_tz": 240
    },
    "id": "CqY066p1o8Zr",
    "outputId": "6f6205bf-e58e-4e5b-dbb1-879675e485ff"
   },
   "outputs": [
    {
     "name": "stdout",
     "output_type": "stream",
     "text": [
      "PETER PARKER\n"
     ]
    }
   ],
   "source": [
    "upper_name = lower_name.upper()\n",
    "print(upper_name)"
   ]
  },
  {
   "cell_type": "code",
   "execution_count": 7,
   "metadata": {
    "colab": {
     "base_uri": "https://localhost:8080/",
     "height": 34
    },
    "executionInfo": {
     "elapsed": 891,
     "status": "ok",
     "timestamp": 1601327397312,
     "user": {
      "displayName": "Dr. Jake",
      "photoUrl": "",
      "userId": "10996578946780976051"
     },
     "user_tz": 240
    },
    "id": "w-7D4YSJo8Zt",
    "outputId": "6c05d52e-5b87-498f-fdec-7e713d065908"
   },
   "outputs": [
    {
     "name": "stdout",
     "output_type": "stream",
     "text": [
      "Peter Parker\n"
     ]
    }
   ],
   "source": [
    "proper_name = name.title()\n",
    "print(proper_name)"
   ]
  },
  {
   "cell_type": "markdown",
   "metadata": {
    "id": "uev1VZu9o8Zw"
   },
   "source": [
    "Methods like `.isalpha()` and `.isdigit()` are handy ways to check string contents."
   ]
  },
  {
   "cell_type": "code",
   "execution_count": 8,
   "metadata": {
    "colab": {
     "base_uri": "https://localhost:8080/",
     "height": 34
    },
    "executionInfo": {
     "elapsed": 887,
     "status": "ok",
     "timestamp": 1601327397313,
     "user": {
      "displayName": "Dr. Jake",
      "photoUrl": "",
      "userId": "10996578946780976051"
     },
     "user_tz": 240
    },
    "id": "HFrrh0WKo8Zw",
    "outputId": "89963a52-e0cb-46d3-b2da-6b032a483b7c"
   },
   "outputs": [
    {
     "name": "stdout",
     "output_type": "stream",
     "text": [
      "This string only contains alphabetic characters.\n"
     ]
    }
   ],
   "source": [
    "name = \"Peter\"\n",
    "\n",
    "if name.isalpha():\n",
    "    print(\"This string only contains alphabetic characters.\")"
   ]
  },
  {
   "cell_type": "code",
   "execution_count": 9,
   "metadata": {
    "colab": {
     "base_uri": "https://localhost:8080/",
     "height": 34
    },
    "executionInfo": {
     "elapsed": 884,
     "status": "ok",
     "timestamp": 1601327397314,
     "user": {
      "displayName": "Dr. Jake",
      "photoUrl": "",
      "userId": "10996578946780976051"
     },
     "user_tz": 240
    },
    "id": "K3oPjlHNo8Zy",
    "outputId": "8ee96a27-b472-4301-d7cc-eda8b437acb8"
   },
   "outputs": [
    {
     "name": "stdout",
     "output_type": "stream",
     "text": [
      "This string only contains digits.\n"
     ]
    }
   ],
   "source": [
    "number = \"19\"\n",
    "\n",
    "if number.isdigit():\n",
    "    print(\"This string only contains digits.\")"
   ]
  },
  {
   "cell_type": "markdown",
   "metadata": {
    "id": "eSWIER-oo8Z0"
   },
   "source": [
    "`.startswith()` and `.endswith()` can be used to check the beginnings and endings of strings."
   ]
  },
  {
   "cell_type": "code",
   "execution_count": 10,
   "metadata": {
    "colab": {
     "base_uri": "https://localhost:8080/",
     "height": 34
    },
    "executionInfo": {
     "elapsed": 880,
     "status": "ok",
     "timestamp": 1601327397315,
     "user": {
      "displayName": "Dr. Jake",
      "photoUrl": "",
      "userId": "10996578946780976051"
     },
     "user_tz": 240
    },
    "id": "gX485GNwo8Z0",
    "outputId": "3d7ac763-1dc4-499f-b2f8-4408a56ed5e5"
   },
   "outputs": [
    {
     "name": "stdout",
     "output_type": "stream",
     "text": [
      "This looks like a URL.\n"
     ]
    }
   ],
   "source": [
    "url = \"https://www.website.com\"\n",
    "if url.startswith(\"http\"):\n",
    "    print(\"This looks like a URL.\")"
   ]
  },
  {
   "cell_type": "code",
   "execution_count": 11,
   "metadata": {
    "colab": {
     "base_uri": "https://localhost:8080/",
     "height": 34
    },
    "executionInfo": {
     "elapsed": 879,
     "status": "ok",
     "timestamp": 1601327397317,
     "user": {
      "displayName": "Dr. Jake",
      "photoUrl": "",
      "userId": "10996578946780976051"
     },
     "user_tz": 240
    },
    "id": "YmkeGLwNo8Z5",
    "outputId": "0af11401-e53b-49b7-e85c-b55b116d17f2"
   },
   "outputs": [
    {
     "name": "stdout",
     "output_type": "stream",
     "text": [
      "This looks like a document name.\n"
     ]
    }
   ],
   "source": [
    "filename = \"file.pdf\"\n",
    "if filename.endswith(\".pdf\"):\n",
    "    print(\"This looks like a document name.\")"
   ]
  },
  {
   "cell_type": "markdown",
   "metadata": {
    "id": "W0TdpfL2o8Z7"
   },
   "source": [
    "For more detail on methods, check out the [documentaion](https://docs.python.org/3/library/stdtypes.html)!"
   ]
  },
  {
   "cell_type": "markdown",
   "metadata": {
    "id": "B5fByCbGo8Z7"
   },
   "source": [
    "### 2.1.4 Data transformation and traversals using generators and lambda functions\n",
    "While note really a data type, generators are way of containing and traversing what data _will be_. Since generators are really most closely related to the concept of programming lanaguage functions, we'll review.\n",
    "#### 2.1.4.1 Functions review\n",
    "Recall from Chapter 1 that a function is a series of statements that can return one or more values. We define functions when we want to reuse some code at multiple points; i.e., instead of retyping the same statements, we package them in a function and call the function where needed. Functions are defined explicitly using the `def` keyword and can take as many arguments as needed:"
   ]
  },
  {
   "cell_type": "code",
   "execution_count": null,
   "metadata": {
    "id": "R2OTazM-o8Z7"
   },
   "outputs": [],
   "source": [
    "def multiply(x, y): # x and y are arguments\n",
    "    return x * y"
   ]
  },
  {
   "cell_type": "code",
   "execution_count": null,
   "metadata": {
    "colab": {
     "base_uri": "https://localhost:8080/",
     "height": 34
    },
    "executionInfo": {
     "elapsed": 781,
     "status": "ok",
     "timestamp": 1599835957484,
     "user": {
      "displayName": "Dr. Jake",
      "photoUrl": "",
      "userId": "10996578946780976051"
     },
     "user_tz": 240
    },
    "id": "qKhR4-8ko8Z9",
    "outputId": "56bc8ba4-ba44-412c-9acb-48e1657c4c59"
   },
   "outputs": [
    {
     "name": "stdout",
     "output_type": "stream",
     "text": [
      "56\n"
     ]
    }
   ],
   "source": [
    "a = 7\n",
    "b = 8\n",
    "c = multiply(a, b)\n",
    "print(c)"
   ]
  },
  {
   "cell_type": "markdown",
   "metadata": {
    "id": "JiCqiX0no8Z_"
   },
   "source": [
    "Default values for arguments can be set by specifying them in the definition:"
   ]
  },
  {
   "cell_type": "code",
   "execution_count": null,
   "metadata": {
    "id": "N5sYuJlTo8Z_"
   },
   "outputs": [],
   "source": [
    "def raise_to_power(x, n = 2):\n",
    "    y = 1\n",
    "    for i in range(n):\n",
    "        y = y * x\n",
    "    return y"
   ]
  },
  {
   "cell_type": "code",
   "execution_count": null,
   "metadata": {
    "colab": {
     "base_uri": "https://localhost:8080/",
     "height": 34
    },
    "executionInfo": {
     "elapsed": 819,
     "status": "ok",
     "timestamp": 1599835958540,
     "user": {
      "displayName": "Dr. Jake",
      "photoUrl": "",
      "userId": "10996578946780976051"
     },
     "user_tz": 240
    },
    "id": "rBtPyhago8aB",
    "outputId": "84655c2a-d195-4f7e-8327-442c00902549"
   },
   "outputs": [
    {
     "name": "stdout",
     "output_type": "stream",
     "text": [
      "25\n"
     ]
    }
   ],
   "source": [
    "print(raise_to_power(5))"
   ]
  },
  {
   "cell_type": "code",
   "execution_count": null,
   "metadata": {
    "colab": {
     "base_uri": "https://localhost:8080/",
     "height": 34
    },
    "executionInfo": {
     "elapsed": 682,
     "status": "ok",
     "timestamp": 1599835958773,
     "user": {
      "displayName": "Dr. Jake",
      "photoUrl": "",
      "userId": "10996578946780976051"
     },
     "user_tz": 240
    },
    "id": "1q4mAa17o8aC",
    "outputId": "74c6328d-8ec2-4a36-92ad-66d7b7ad009e"
   },
   "outputs": [
    {
     "name": "stdout",
     "output_type": "stream",
     "text": [
      "125\n"
     ]
    }
   ],
   "source": [
    "print(raise_to_power(5, 3))"
   ]
  },
  {
   "cell_type": "markdown",
   "metadata": {
    "id": "6jpygocMo8aD"
   },
   "source": [
    "#### 2.1.4.2 Exercise: functions review\n",
    "Write your own basic version of the built-in `range()` function. It should take only one argument, the number before which the range should stop; and it should return a list containing all integers up to that end point."
   ]
  },
  {
   "cell_type": "code",
   "execution_count": null,
   "metadata": {
    "id": "k8d0KxkZo8aD"
   },
   "outputs": [],
   "source": [
    "## code here"
   ]
  },
  {
   "cell_type": "markdown",
   "metadata": {
    "id": "CZn0dc3oo8aI"
   },
   "source": [
    "#### 2.1.4.3 Generator functions\n",
    "Lists returned by functions need to be stored in the computer's memory. In case of very large lists, this can become a significant problem. A convenient alternative to this is the use of a generator function, which utilizes \"lazy\" evaluation. Essentially, a generator can produce a generator object instead of an actual in-memory list, which is much more memory efficient. Generator objects can be iterated over, and can produce values one by one as needed rather than producing an enitre sequence at once. When defining a generator function, we simply use `yield` instead of `return`.\n",
    "\n",
    "Let's define a generator function to calculate the cubes of a sequence of numbers:"
   ]
  },
  {
   "cell_type": "code",
   "execution_count": null,
   "metadata": {
    "id": "bhni4MBmo8aI"
   },
   "outputs": [],
   "source": [
    "def cube(seq):\n",
    "    for n in seq:\n",
    "        yield n * n * n"
   ]
  },
  {
   "cell_type": "markdown",
   "metadata": {
    "id": "38TTM9a_o8aK"
   },
   "source": [
    "When we call `cube()` by passing it a list, it produces a generator object:"
   ]
  },
  {
   "cell_type": "code",
   "execution_count": null,
   "metadata": {
    "colab": {
     "base_uri": "https://localhost:8080/",
     "height": 34
    },
    "executionInfo": {
     "elapsed": 1058,
     "status": "ok",
     "timestamp": 1599835999424,
     "user": {
      "displayName": "Dr. Jake",
      "photoUrl": "",
      "userId": "10996578946780976051"
     },
     "user_tz": 240
    },
    "id": "eSXQgVjMo8aK",
    "outputId": "69ee7750-5b4b-4620-9d7f-141d7e504110"
   },
   "outputs": [
    {
     "name": "stdout",
     "output_type": "stream",
     "text": [
      "<generator object cube at 0x7fe57897a9e8>\n"
     ]
    }
   ],
   "source": [
    "cubes = cube([1, 2, 3, 4, 5, 6, 7, 8, 9, 10])\n",
    "\n",
    "print(cubes)"
   ]
  },
  {
   "cell_type": "markdown",
   "metadata": {
    "id": "I8Hm6SKso8aM"
   },
   "source": [
    "The generator object can be looped over in the same way we would loop over a list:"
   ]
  },
  {
   "cell_type": "code",
   "execution_count": null,
   "metadata": {
    "colab": {
     "base_uri": "https://localhost:8080/",
     "height": 191
    },
    "executionInfo": {
     "elapsed": 1287,
     "status": "ok",
     "timestamp": 1599836003432,
     "user": {
      "displayName": "Dr. Jake",
      "photoUrl": "",
      "userId": "10996578946780976051"
     },
     "user_tz": 240
    },
    "id": "V7mHdO0no8aM",
    "outputId": "2cb7bc62-1546-40cb-c09c-739a41815a9d"
   },
   "outputs": [
    {
     "name": "stdout",
     "output_type": "stream",
     "text": [
      "1\n",
      "8\n",
      "27\n",
      "64\n",
      "125\n",
      "216\n",
      "343\n",
      "512\n",
      "729\n",
      "1000\n"
     ]
    }
   ],
   "source": [
    "for n in cubes:\n",
    "    print(n)"
   ]
  },
  {
   "cell_type": "markdown",
   "metadata": {
    "id": "Sj3egP6No8aO"
   },
   "source": [
    "Once a generator object has been used to yield all values, it is discarded, so `cubes` is now empty:"
   ]
  },
  {
   "cell_type": "code",
   "execution_count": null,
   "metadata": {
    "colab": {
     "base_uri": "https://localhost:8080/",
     "height": 34
    },
    "executionInfo": {
     "elapsed": 660,
     "status": "ok",
     "timestamp": 1599836005484,
     "user": {
      "displayName": "Dr. Jake",
      "photoUrl": "",
      "userId": "10996578946780976051"
     },
     "user_tz": 240
    },
    "id": "P4A5UJK0o8aO",
    "outputId": "383a2e36-f3d5-4256-9cea-b7aac92c4a75"
   },
   "outputs": [
    {
     "name": "stdout",
     "output_type": "stream",
     "text": [
      "All done!\n"
     ]
    }
   ],
   "source": [
    "for n in cubes:\n",
    "    print(n)\n",
    "print(\"All done!\")"
   ]
  },
  {
   "cell_type": "markdown",
   "metadata": {
    "id": "jzuFUh2io8aR"
   },
   "source": [
    "A full list can be produced from the generator (if the memory cost is acceptable) using `list()`:"
   ]
  },
  {
   "cell_type": "code",
   "execution_count": null,
   "metadata": {
    "colab": {
     "base_uri": "https://localhost:8080/",
     "height": 34
    },
    "executionInfo": {
     "elapsed": 475,
     "status": "ok",
     "timestamp": 1599836007285,
     "user": {
      "displayName": "Dr. Jake",
      "photoUrl": "",
      "userId": "10996578946780976051"
     },
     "user_tz": 240
    },
    "id": "oRsjgKxZo8aR",
    "outputId": "7f071240-862f-4d94-afc5-8f4865fea5cd"
   },
   "outputs": [
    {
     "name": "stdout",
     "output_type": "stream",
     "text": [
      "[1, 8, 27, 64, 125, 216, 343, 512, 729, 1000]\n"
     ]
    }
   ],
   "source": [
    "cubes = cube([1, 2, 3, 4, 5, 6, 7, 8, 9, 10])\n",
    "cubes_list = list(cubes)\n",
    "\n",
    "print(cubes_list)"
   ]
  },
  {
   "cell_type": "markdown",
   "metadata": {
    "id": "8PdfOidfo8aT"
   },
   "source": [
    "#### 2.1.4.4 Exercise: generator functions\n",
    "Rewrite `my_range()` as a generator function and print out the first 25 integers using this generator function."
   ]
  },
  {
   "cell_type": "code",
   "execution_count": null,
   "metadata": {
    "id": "bnXrPFM1o8aT"
   },
   "outputs": [],
   "source": [
    "## code here"
   ]
  },
  {
   "cell_type": "code",
   "execution_count": null,
   "metadata": {
    "id": "H4wgz-y4o8aU"
   },
   "outputs": [],
   "source": [
    "# using the my_range() generator function, print out the first 25 integers"
   ]
  },
  {
   "cell_type": "markdown",
   "metadata": {
    "id": "W7fNBe5Ro8aW"
   },
   "source": [
    "#### 2.1.4.5 transforming data with lambda functions\n",
    "As mentioned in Chapter 1, sometimes we need to write quick functions that don't necessarily need a name or a separate defintion. We can define these anonymous functions using the `lambda` keyword. For example, say we have a list of numbers and want to check which of those numbers from the list that are multiples of 3. We could perform the check with a concise lambda function:"
   ]
  },
  {
   "cell_type": "code",
   "execution_count": null,
   "metadata": {
    "colab": {
     "base_uri": "https://localhost:8080/",
     "height": 104
    },
    "executionInfo": {
     "elapsed": 369,
     "status": "ok",
     "timestamp": 1599836060274,
     "user": {
      "displayName": "Dr. Jake",
      "photoUrl": "",
      "userId": "10996578946780976051"
     },
     "user_tz": 240
    },
    "id": "vbbzc59Io8aW",
    "outputId": "279de50b-c62b-4788-e582-263056dd2288"
   },
   "outputs": [
    {
     "name": "stdout",
     "output_type": "stream",
     "text": [
      "9 is a multiple of 3.\n",
      "21 is a multiple of 3.\n",
      "81 is a multiple of 3.\n",
      "66 is a multiple of 3.\n",
      "90 is a multiple of 3.\n"
     ]
    }
   ],
   "source": [
    "numbers = [5, 9, 21, 14, 81, 31, 66, 43, 90, 1, 10]\n",
    "\n",
    "multiple_of_3 = lambda x : x % 3 == 0\n",
    "\n",
    "for number in numbers:\n",
    "    if multiple_of_3(number):\n",
    "        print(str(number) + \" is a multiple of 3.\")"
   ]
  },
  {
   "cell_type": "code",
   "execution_count": null,
   "metadata": {
    "colab": {
     "base_uri": "https://localhost:8080/",
     "height": 34
    },
    "executionInfo": {
     "elapsed": 906,
     "status": "ok",
     "timestamp": 1599836061018,
     "user": {
      "displayName": "Dr. Jake",
      "photoUrl": "",
      "userId": "10996578946780976051"
     },
     "user_tz": 240
    },
    "id": "licaSuBio8aX",
    "outputId": "e362cc1f-873f-4f11-c96f-a92cd7bfba44"
   },
   "outputs": [
    {
     "data": {
      "text/plain": [
       "78.39999999999999"
      ]
     },
     "execution_count": 81,
     "metadata": {
      "tags": []
     },
     "output_type": "execute_result"
    }
   ],
   "source": [
    "multiply = lambda x, y: x*y\n",
    "multiply(11.2,7)"
   ]
  },
  {
   "cell_type": "markdown",
   "metadata": {
    "id": "KV_D4N7Lo8aZ"
   },
   "source": [
    "The lambda function syntax is essentially `lambda argument : expression`. In the example above, the argument is `x` and the expression is `x % 3 == 0`, which returns a boolean `True` or `False` value after evaluating whether the remiander from dividing x by 3 is 0. \n",
    "\n",
    "A very useful built-in function in Python is `filter()`, which can simply filtering lists when combined with lambda functions. `filter()` takes a function and a list as arguments. If we wanted to collect the multiples of 3 into a new list, we could do this very succinctly. Note: since `filter()` results in a generator we have to coerce to a list as well to see the data and interact with it as a list."
   ]
  },
  {
   "cell_type": "code",
   "execution_count": null,
   "metadata": {
    "colab": {
     "base_uri": "https://localhost:8080/",
     "height": 34
    },
    "executionInfo": {
     "elapsed": 572,
     "status": "ok",
     "timestamp": 1599836063026,
     "user": {
      "displayName": "Dr. Jake",
      "photoUrl": "",
      "userId": "10996578946780976051"
     },
     "user_tz": 240
    },
    "id": "vOaZY9GGo8aa",
    "outputId": "512f2a57-322a-4285-b2cd-a753c140cd57"
   },
   "outputs": [
    {
     "name": "stdout",
     "output_type": "stream",
     "text": [
      "[9, 21, 81, 66, 90]\n"
     ]
    }
   ],
   "source": [
    "multiples = filter(lambda x : x % 3 == 0, numbers)\n",
    "\n",
    "print(list(multiples))"
   ]
  },
  {
   "cell_type": "markdown",
   "metadata": {
    "id": "aydZOlyRo8ae"
   },
   "source": [
    "Lambda functions are useful when sorting lists. They can be used as arguments to the built-in `sorted()` function. For example, say we have a list of tuples, each containing two numbers. By defualt, `sorted()` will sort by the first number:"
   ]
  },
  {
   "cell_type": "code",
   "execution_count": null,
   "metadata": {
    "colab": {
     "base_uri": "https://localhost:8080/",
     "height": 34
    },
    "executionInfo": {
     "elapsed": 593,
     "status": "ok",
     "timestamp": 1599836064597,
     "user": {
      "displayName": "Dr. Jake",
      "photoUrl": "",
      "userId": "10996578946780976051"
     },
     "user_tz": 240
    },
    "id": "Yjn7W4t2o8af",
    "outputId": "91aad487-a303-410b-f172-1ef9de23bae8"
   },
   "outputs": [
    {
     "name": "stdout",
     "output_type": "stream",
     "text": [
      "[(4, 30), (4, 32), (23, 1), (82, 23), (90, 21)]\n"
     ]
    }
   ],
   "source": [
    "pairs = [(4, 30), (23, 1), (4, 32), (90, 21), (82, 23)]\n",
    "ordered_pairs = sorted(pairs)\n",
    "\n",
    "print(ordered_pairs)"
   ]
  },
  {
   "cell_type": "markdown",
   "metadata": {
    "id": "YOjGAKdGo8af"
   },
   "source": [
    "By specifying the `key` argument as a lambda function returning the second element, we can sort using the second number:"
   ]
  },
  {
   "cell_type": "code",
   "execution_count": null,
   "metadata": {
    "colab": {
     "base_uri": "https://localhost:8080/",
     "height": 34
    },
    "executionInfo": {
     "elapsed": 535,
     "status": "ok",
     "timestamp": 1599836066337,
     "user": {
      "displayName": "Dr. Jake",
      "photoUrl": "",
      "userId": "10996578946780976051"
     },
     "user_tz": 240
    },
    "id": "7J0qYL_Ko8ag",
    "outputId": "518a7e37-c330-4ac1-9d69-18d5229da1ab"
   },
   "outputs": [
    {
     "name": "stdout",
     "output_type": "stream",
     "text": [
      "[(23, 1), (90, 21), (82, 23), (4, 30), (4, 32)]\n"
     ]
    }
   ],
   "source": [
    "def oneth_element(x):\n",
    "    return x[1]\n",
    "\n",
    "# ordered_pairs = sorted(pairs, key = lambda x : x[1])\n",
    "# ordered_pairs = sorted(pairs, key = lambda x : oneth_element(x))\n",
    "ordered_pairs = sorted(pairs, key = oneth_element)\n",
    "\n",
    "print(ordered_pairs)"
   ]
  },
  {
   "cell_type": "markdown",
   "metadata": {
    "id": "6yq6NvG-o8ai"
   },
   "source": [
    "If we wanted the reverse order, we could specify the `reverse` argument for `sorted()`."
   ]
  },
  {
   "cell_type": "code",
   "execution_count": null,
   "metadata": {
    "colab": {
     "base_uri": "https://localhost:8080/",
     "height": 34
    },
    "executionInfo": {
     "elapsed": 399,
     "status": "ok",
     "timestamp": 1599836067131,
     "user": {
      "displayName": "Dr. Jake",
      "photoUrl": "",
      "userId": "10996578946780976051"
     },
     "user_tz": 240
    },
    "id": "9qpebVYko8ai",
    "outputId": "7e69fed2-2d23-4401-9942-e44323f4eb46"
   },
   "outputs": [
    {
     "name": "stdout",
     "output_type": "stream",
     "text": [
      "[(4, 32), (4, 30), (82, 23), (90, 21), (23, 1)]\n"
     ]
    }
   ],
   "source": [
    "reverse_order = sorted(pairs, key = lambda x : x[1], reverse = True)\n",
    "\n",
    "print(reverse_order)"
   ]
  },
  {
   "cell_type": "markdown",
   "metadata": {
    "id": "OAVjYPa9o8aj"
   },
   "source": [
    "#### 2.1.4.6 Exercise: lambda function data transformation for a sort\n",
    "Sort this list of books in descending order of year of publication (i.e. the more recently published books should come first) using a lambda function with `sorted()`."
   ]
  },
  {
   "cell_type": "code",
   "execution_count": null,
   "metadata": {
    "id": "dSuRs2Rro8ak"
   },
   "outputs": [],
   "source": [
    "books = [(\"A Tale of Two Cities\", \"Charles Dickens\", 1859), \n",
    "         (\"Crime and Punishment\", \"Fyodor Dostoyevski\", 1866),\n",
    "         (\"Heart of Darkness\", \"Joseph Conrad\", 1899), \n",
    "         (\"Brave New World\", \"Aldous Huxley\", 1932), \n",
    "         (\"The Stranger\", \"Albert Camus\", 1942)]\n",
    "\n",
    "## code goes here"
   ]
  },
  {
   "cell_type": "markdown",
   "metadata": {
    "id": "_Ycz8xr0o8al"
   },
   "source": [
    "## 2.2 Unordered data objects\n",
    "Ordered data object are extremely important in python programming for data science, but for many applications these are either impractical or inefficient. There are several unordered data types we'll use throughout the course and that you'll need in order to move forward in data science. These are discussed in detail with a focus on some useful methods here.\n",
    "\n",
    "### 2.2.1 Sets\n",
    "A set is another powerful data structure. Essentially, a set is a list where all the elements are unique and there are no indices (no ordering). This means that if you try to insert a value that is already in a set, it is not duplicated. In math, sets are written with curly braces; it's the same in Python."
   ]
  },
  {
   "cell_type": "code",
   "execution_count": null,
   "metadata": {
    "colab": {
     "base_uri": "https://localhost:8080/",
     "height": 34
    },
    "executionInfo": {
     "elapsed": 457,
     "status": "ok",
     "timestamp": 1599836075209,
     "user": {
      "displayName": "Dr. Jake",
      "photoUrl": "",
      "userId": "10996578946780976051"
     },
     "user_tz": 240
    },
    "id": "6qgg7P_Qo8al",
    "outputId": "60a63d81-8fc9-4d0a-ef1e-914d3cd77cb0"
   },
   "outputs": [
    {
     "name": "stdout",
     "output_type": "stream",
     "text": [
      "{'Alex', 'Joey', 'Mike', 'Jane', 'Diane', 'Jessie'}\n"
     ]
    }
   ],
   "source": [
    "names = {\"Joey\", \"Diane\", \"Mike\", \"Jessie\", \"Alex\", \"Jane\"}\n",
    "print(names)"
   ]
  },
  {
   "cell_type": "markdown",
   "metadata": {
    "id": "gyucaNZio8am"
   },
   "source": [
    "An important thing to remember is that empty sets can't be defined by simply writing two curly braces. They need to be defined using the `set()` function:"
   ]
  },
  {
   "cell_type": "code",
   "execution_count": null,
   "metadata": {
    "id": "r0JiTc-4o8am"
   },
   "outputs": [],
   "source": [
    "empty_set = set()"
   ]
  },
  {
   "cell_type": "markdown",
   "metadata": {
    "id": "iVHYjfxvo8ao"
   },
   "source": [
    "Similar to the `append()` method for lists, for a set we have an `add()` method."
   ]
  },
  {
   "cell_type": "code",
   "execution_count": null,
   "metadata": {
    "colab": {
     "base_uri": "https://localhost:8080/",
     "height": 34
    },
    "executionInfo": {
     "elapsed": 558,
     "status": "ok",
     "timestamp": 1599836078288,
     "user": {
      "displayName": "Dr. Jake",
      "photoUrl": "",
      "userId": "10996578946780976051"
     },
     "user_tz": 240
    },
    "id": "1OCgF0QJo8ao",
    "outputId": "646a0c6a-c7e4-4579-8825-839318ae1180"
   },
   "outputs": [
    {
     "name": "stdout",
     "output_type": "stream",
     "text": [
      "{'Alex', 'Joey', 'Mike', 'Mark', 'Jane', 'Diane', 'Jessie'}\n"
     ]
    }
   ],
   "source": [
    "names.add(\"Mark\")\n",
    "print(names)"
   ]
  },
  {
   "cell_type": "markdown",
   "metadata": {
    "id": "HxurHoaPo8aq"
   },
   "source": [
    "What happens when we try to add something that's already in the set?"
   ]
  },
  {
   "cell_type": "code",
   "execution_count": null,
   "metadata": {
    "colab": {
     "base_uri": "https://localhost:8080/",
     "height": 34
    },
    "executionInfo": {
     "elapsed": 697,
     "status": "ok",
     "timestamp": 1599836079307,
     "user": {
      "displayName": "Dr. Jake",
      "photoUrl": "",
      "userId": "10996578946780976051"
     },
     "user_tz": 240
    },
    "id": "31d5B6gRo8aq",
    "outputId": "9e618f91-43ba-4452-f0e7-cee9bf1842c3"
   },
   "outputs": [
    {
     "name": "stdout",
     "output_type": "stream",
     "text": [
      "{'Alex', 'Joey', 'Mike', 'Mark', 'Jane', 'Diane', 'Jessie'}\n"
     ]
    }
   ],
   "source": [
    "names.add(\"Diane\")\n",
    "print(names)"
   ]
  },
  {
   "cell_type": "markdown",
   "metadata": {
    "id": "yTkjQa0Ao8as"
   },
   "source": [
    "Perhaps unsurprisingly, `set()`'s have mathematical set operarion methods, like `.union()` and `.intersection()`. Let's see which of our names were names of the main characters on Full House:"
   ]
  },
  {
   "cell_type": "code",
   "execution_count": null,
   "metadata": {
    "colab": {
     "base_uri": "https://localhost:8080/",
     "height": 34
    },
    "executionInfo": {
     "elapsed": 672,
     "status": "ok",
     "timestamp": 1599836081156,
     "user": {
      "displayName": "Dr. Jake",
      "photoUrl": "",
      "userId": "10996578946780976051"
     },
     "user_tz": 240
    },
    "id": "i4dPxpOQo8as",
    "outputId": "fc0aeb21-15f2-42ae-fb61-57c69c6557b7"
   },
   "outputs": [
    {
     "name": "stdout",
     "output_type": "stream",
     "text": [
      "{'Jessie', 'Joey'}\n"
     ]
    }
   ],
   "source": [
    "print(names.intersection({\"Jessie\", \"D.J.\", \"Joey\", \"Danny\", \"Michelle\", \"Stephanie\"}))"
   ]
  },
  {
   "cell_type": "markdown",
   "metadata": {
    "id": "QYYaCcFKo8at"
   },
   "source": [
    "### 2.2.2 Dictionaries\n",
    "Dictionaries are an extremely important and fundamental Python data type&mdash;they are _associative arrays_, or data is organized into key-value pairs. \n",
    "\n",
    "#### 2.2.2.1 Basics\n",
    "They are defined with curly braces. For example, we might define a dictionary containing the phone numbers of a few people:"
   ]
  },
  {
   "cell_type": "code",
   "execution_count": 15,
   "metadata": {
    "colab": {
     "base_uri": "https://localhost:8080/",
     "height": 34
    },
    "executionInfo": {
     "elapsed": 528,
     "status": "ok",
     "timestamp": 1601328750334,
     "user": {
      "displayName": "Dr. Jake",
      "photoUrl": "",
      "userId": "10996578946780976051"
     },
     "user_tz": 240
    },
    "id": "sCoMc-Euo8at",
    "outputId": "7648b57a-6ed1-4a63-98bf-720f8771b036"
   },
   "outputs": [
    {
     "name": "stdout",
     "output_type": "stream",
     "text": [
      "{'John': 9867934, 'Diane': 3409344, 'Mike': 2340903, 'Jess': 8983993, 'Alex': 8920022, 'Jane': 6673391}\n"
     ]
    }
   ],
   "source": [
    "phone_numbers = {\"John\" : 9867934,\n",
    "            \"Diane\" : 3409344,\n",
    "            \"Mike\" : 2340903,\n",
    "            \"Jess\" : 8983993,\n",
    "            \"Alex\" : 8920022,\n",
    "            \"Jane\" : 6673391}\n",
    "\n",
    "print(phone_numbers)"
   ]
  },
  {
   "cell_type": "markdown",
   "metadata": {
    "id": "rJ-4gXdXo8au"
   },
   "source": [
    "#### 2.2.2.2 Access elements and iteration\n",
    "In this dictionary, the names are keys and the numbers are values. If we want to access a value associated with a particular key, we can use the key in square braces similar to how indices are used with lists and tuples:"
   ]
  },
  {
   "cell_type": "code",
   "execution_count": null,
   "metadata": {
    "colab": {
     "base_uri": "https://localhost:8080/",
     "height": 34
    },
    "executionInfo": {
     "elapsed": 470,
     "status": "ok",
     "timestamp": 1599836083442,
     "user": {
      "displayName": "Dr. Jake",
      "photoUrl": "",
      "userId": "10996578946780976051"
     },
     "user_tz": 240
    },
    "id": "lv5zpOm0o8av",
    "outputId": "a2cfac74-965e-46e9-ac6c-c46c61bfa374"
   },
   "outputs": [
    {
     "name": "stdout",
     "output_type": "stream",
     "text": [
      "8920022\n"
     ]
    }
   ],
   "source": [
    "print(phone_numbers[\"Alex\"])"
   ]
  },
  {
   "cell_type": "markdown",
   "metadata": {
    "id": "Wk0Xa1UTo8ax"
   },
   "source": [
    "In loops, we iterate over the keys of a dictionary:"
   ]
  },
  {
   "cell_type": "code",
   "execution_count": 18,
   "metadata": {
    "colab": {
     "base_uri": "https://localhost:8080/",
     "height": 121
    },
    "executionInfo": {
     "elapsed": 519,
     "status": "ok",
     "timestamp": 1601328805030,
     "user": {
      "displayName": "Dr. Jake",
      "photoUrl": "",
      "userId": "10996578946780976051"
     },
     "user_tz": 240
    },
    "id": "q-zqiccqo8ax",
    "outputId": "7641fec8-a3b4-47f6-e197-d3890209e406"
   },
   "outputs": [
    {
     "name": "stdout",
     "output_type": "stream",
     "text": [
      "John, Phone: 9867934\n",
      "Diane, Phone: 3409344\n",
      "Mike, Phone: 2340903\n",
      "Jess, Phone: 8983993\n",
      "Alex, Phone: 8920022\n",
      "Jane, Phone: 6673391\n"
     ]
    }
   ],
   "source": [
    "for name in phone_numbers: # It is also possible to iterate over both keys and values together, we would just write \"for name, number in phone_numbers:\"\n",
    "    print(name + \", Phone: \" + str(phone_numbers[name]))"
   ]
  },
  {
   "cell_type": "markdown",
   "metadata": {
    "id": "-I2lTQmmo8ay"
   },
   "source": [
    "#### 2.2.2.3 Complex definitions, nesting, and modification\n",
    "Dictionaries are often very useful when it comes to storing complex data. For example, let's create a dictionary to store information related to a book."
   ]
  },
  {
   "cell_type": "code",
   "execution_count": null,
   "metadata": {
    "id": "1FNLfKSEo8ay"
   },
   "outputs": [],
   "source": [
    "book = {\"title\" : \"A Tale of Two Cities\",\n",
    "       \"author\" : \"Charles Dickens\",\n",
    "       \"year\" : 1859}"
   ]
  },
  {
   "cell_type": "markdown",
   "metadata": {
    "id": "N8k0CPa6o8az"
   },
   "source": [
    "We can easily access the different values using their keys. Dictionaries can be nested, so we could create a dictionary of dictionaries to store a few different books and use a unique key, an ID, for each book."
   ]
  },
  {
   "cell_type": "code",
   "execution_count": null,
   "metadata": {
    "id": "pZgKu9B0o8a0"
   },
   "outputs": [],
   "source": [
    "books_dict = {0 : {\"title\" : \"A Tale of Two Cities\",\n",
    "                   \"author\" : \"Charles Dickens\",\n",
    "                   \"year\" : 1859},\n",
    "             1 : {\"title\" : \"Crime and Punishment\",\n",
    "                 \"author\" : \"Fyodor Dostoyevski\",\n",
    "                 \"year\" : 1866},\n",
    "             2 : {\"title\" : \"Heart of Darkness\",\n",
    "                 \"author\" : \"Joseph Conrad\",\n",
    "                 \"year\" : 1899},\n",
    "             3 : {\"title\" : \"Brave New World\",\n",
    "                 \"author\" : \"Aldous Huxley\",\n",
    "                 \"year\" : 1932},\n",
    "             4 : {\"title\" : \"The Stranger\",\n",
    "                 \"author\" : \"Albert Camus\",\n",
    "                 \"year\" : 1942}}"
   ]
  },
  {
   "cell_type": "markdown",
   "metadata": {
    "id": "9aeDrwdQo8a3"
   },
   "source": [
    "Now this makes accessing the data for a book's title very convenient:"
   ]
  },
  {
   "cell_type": "code",
   "execution_count": null,
   "metadata": {
    "colab": {
     "base_uri": "https://localhost:8080/",
     "height": 34
    },
    "executionInfo": {
     "elapsed": 705,
     "status": "ok",
     "timestamp": 1599836091031,
     "user": {
      "displayName": "Dr. Jake",
      "photoUrl": "",
      "userId": "10996578946780976051"
     },
     "user_tz": 240
    },
    "id": "DuDc-U01o8a3",
    "outputId": "dcd78fbe-5b5e-4c9b-f2b9-43d7738c2d43"
   },
   "outputs": [
    {
     "name": "stdout",
     "output_type": "stream",
     "text": [
      "Brave New World\n"
     ]
    }
   ],
   "source": [
    "print(books_dict[3][\"title\"])"
   ]
  },
  {
   "cell_type": "markdown",
   "metadata": {
    "id": "kqO--Wtto8a5"
   },
   "source": [
    "Adding new entries to a dictionary doesn't require something like an `append()` method. We can simply specify the key and assign it a value. Of course, that value can be another dictionary, too:"
   ]
  },
  {
   "cell_type": "code",
   "execution_count": null,
   "metadata": {
    "colab": {
     "base_uri": "https://localhost:8080/",
     "height": 225
    },
    "executionInfo": {
     "elapsed": 1000,
     "status": "ok",
     "timestamp": 1599836092101,
     "user": {
      "displayName": "Dr. Jake",
      "photoUrl": "",
      "userId": "10996578946780976051"
     },
     "user_tz": 240
    },
    "id": "xBfyVaIno8a5",
    "outputId": "74b35b80-3d59-44bc-d6e5-c5022b3ce0d8"
   },
   "outputs": [
    {
     "name": "stdout",
     "output_type": "stream",
     "text": [
      "{0: {'author': 'Charles Dickens',\n",
      "     'title': 'A Tale of Two Cities',\n",
      "     'year': 1859},\n",
      " 1: {'author': 'Fyodor Dostoyevski',\n",
      "     'title': 'Crime and Punishment',\n",
      "     'year': 1866},\n",
      " 2: {'author': 'Joseph Conrad', 'title': 'Heart of Darkness', 'year': 1899},\n",
      " 3: {'author': 'Aldous Huxley', 'title': 'Brave New World', 'year': 1932},\n",
      " 4: {'author': 'Albert Camus', 'title': 'The Stranger', 'year': 1942},\n",
      " 5: {'author': 'Ernest Hemingway',\n",
      "     'title': 'The Old Man and the Sea',\n",
      "     'year': 1952}}\n"
     ]
    }
   ],
   "source": [
    "from pprint import pprint\n",
    "books_dict[5] =  {\"title\" : \"The Old Man and the Sea\",\n",
    "                 \"author\" : \"Ernest Hemingway\",\n",
    "                 \"year\" : 1952}\n",
    "\n",
    "pprint(books_dict)"
   ]
  },
  {
   "cell_type": "markdown",
   "metadata": {
    "id": "26VqYmmTo8a6"
   },
   "source": [
    "#### 2.2.2.4 Exercise: interacting with dictionaries\n",
    "Write code that uses a loop to iterate over `books_dict` and create three separate lists of titles, authors, and years, populated by the correct values."
   ]
  },
  {
   "cell_type": "code",
   "execution_count": null,
   "metadata": {
    "colab": {
     "base_uri": "https://localhost:8080/",
     "height": 34
    },
    "executionInfo": {
     "elapsed": 583,
     "status": "ok",
     "timestamp": 1599836098396,
     "user": {
      "displayName": "Dr. Jake",
      "photoUrl": "",
      "userId": "10996578946780976051"
     },
     "user_tz": 240
    },
    "id": "GwLRwlnLo8a6",
    "outputId": "b5c43969-f4cf-4161-b84e-e48c6adbe0ac"
   },
   "outputs": [
    {
     "name": "stdout",
     "output_type": "stream",
     "text": [
      "[]\n"
     ]
    }
   ],
   "source": [
    "titles = []\n",
    "authors = []\n",
    "years = []\n",
    "\n",
    "# Remember, dictionaries iterate over keys by default!\n",
    "print(titles)"
   ]
  },
  {
   "cell_type": "markdown",
   "metadata": {
    "id": "TesLOrBho8a8"
   },
   "source": [
    "#### 2.2.2.5 Managing keys and values\n",
    "Since default iteration on dictionaries occurs over keys, we alread have some capacity for managing dictionary keys. However, to iterate over&mdash;or even make lists of&mdash;either there are useful built in methods:\n",
    "- `.keys()`: creates a generator of dictionary keys\n",
    "- `.values()`: creates a generator of dictionary values\n",
    "- `.items()`: creates a generator of key-value tuple pairs\n",
    "\n",
    "Built in syntax and dictionary methods are also essential for dictionary modification. Attempting to modify a value when a key does not exist raises an error! To avoide issues like this one can use the `.setdefault(key,default_value)` method, which only sets the value for `key` to the `default_value` if the `key` does not exist in the dictionary. Without `.setdefault()`, a more syntax-intensive approach to this issue entails infullness: the assertation `key in some_dictionary` results in a boolean value, just as with lists!\n",
    "\n",
    "#### 2.2.2.6 Exercise: Counting with a base Python dictionary\n",
    "Say we have a list of results of soccer games. There are three possibilities: win (W), loss (L), and draw (D). Count the number of wins, losses, and draws using the `counts` dictionary:"
   ]
  },
  {
   "cell_type": "code",
   "execution_count": null,
   "metadata": {
    "colab": {
     "base_uri": "https://localhost:8080/",
     "height": 34
    },
    "executionInfo": {
     "elapsed": 485,
     "status": "ok",
     "timestamp": 1599836100524,
     "user": {
      "displayName": "Dr. Jake",
      "photoUrl": "",
      "userId": "10996578946780976051"
     },
     "user_tz": 240
    },
    "id": "U3RuwArBo8a8",
    "outputId": "621b9162-e4ac-487a-825d-17c45f9ca5ba"
   },
   "outputs": [
    {
     "data": {
      "text/plain": [
       "{}"
      ]
     },
     "execution_count": 100,
     "metadata": {
      "tags": []
     },
     "output_type": "execute_result"
    }
   ],
   "source": [
    "results = [\"W\", \"W\", \"L\", \"D\", \"W\", \"L\", \"L\", \"L\", \"W\", \n",
    "           \"D\", \"W\", \"W\", \"D\", \"W\", \"D\", \"L\", \"W\", \"W\", \"L\", \"W\"]\n",
    "counts = {}\n",
    "## loop through results (below) and count the number of times each occurred.\n",
    "## using infullness: test to see a value needs to be assigned or modified\n",
    "## using `.setdefault()`: make sure a starting value is assumed, i.e., pre-assigned\n",
    "## code here\n",
    "counts"
   ]
  },
  {
   "cell_type": "markdown",
   "metadata": {
    "id": "eX-eN6tZo8a9"
   },
   "source": [
    "#### 2.2.2.7 Exercise: sorting a dictionary's keys by value\n",
    "As discussed, default iteration on a dictionary is by key. This means a default `sorted()` call on a dictionary will return a sorting of the dictionary's keys. Use this, and the `key=lambda x: expression(x)` syntax to sort the dictionary from the exercise in __Section 2.2.2.6__ to sort the keys (game result types) of the `counts` dictionary by value, from high to low (`reverse = True`), and use a loop to print out the top 2 most common game result types and their counts."
   ]
  },
  {
   "cell_type": "code",
   "execution_count": null,
   "metadata": {
    "id": "Oc8NzkGoo8a9"
   },
   "outputs": [],
   "source": [
    "## use a lambda function in the `key` argument of sorted()\n",
    "## code here\n"
   ]
  },
  {
   "cell_type": "markdown",
   "metadata": {
    "id": "1QCF2U_yo8a-"
   },
   "source": [
    "#### 2.2.2.8 Counters\n",
    "A counter is a special kind of dictionary data structure. Think of it as a dictionary where the keys are the things being counted and the associated values are by default the number 0. First, the counter data structure needs to be imported from the `collections` module."
   ]
  },
  {
   "cell_type": "code",
   "execution_count": null,
   "metadata": {
    "id": "TRpDSetmo8a-"
   },
   "outputs": [],
   "source": [
    "from collections import Counter"
   ]
  },
  {
   "cell_type": "markdown",
   "metadata": {
    "id": "l4o_zXmho8bB"
   },
   "source": [
    "We define a counter by using the `Counter()` function:"
   ]
  },
  {
   "cell_type": "code",
   "execution_count": null,
   "metadata": {
    "id": "ghik4nuUo8bB"
   },
   "outputs": [],
   "source": [
    "count = Counter()"
   ]
  },
  {
   "cell_type": "markdown",
   "metadata": {
    "id": "pKP8UfK4o8bC"
   },
   "source": [
    "Returning to the list of soccer game results, a counter is the perfect data structure for counting the different outcomes:"
   ]
  },
  {
   "cell_type": "code",
   "execution_count": null,
   "metadata": {
    "colab": {
     "base_uri": "https://localhost:8080/",
     "height": 34
    },
    "executionInfo": {
     "elapsed": 592,
     "status": "ok",
     "timestamp": 1599836106561,
     "user": {
      "displayName": "Dr. Jake",
      "photoUrl": "",
      "userId": "10996578946780976051"
     },
     "user_tz": 240
    },
    "id": "_R-YxD0Ho8bC",
    "outputId": "df6c64d7-2eb6-4737-b467-c4e38383a3d6"
   },
   "outputs": [
    {
     "name": "stdout",
     "output_type": "stream",
     "text": [
      "Counter({'W': 10, 'L': 6, 'D': 4})\n"
     ]
    }
   ],
   "source": [
    "results = [\"W\", \"W\", \"L\", \"D\", \"W\", \"L\", \"L\", \"L\", \"W\", \"D\", \"W\", \"W\", \"D\", \"W\", \"D\", \"L\", \"W\", \"W\", \"L\", \"W\"]\n",
    "\n",
    "for result in results:\n",
    "    count[result] += 1 # The += operator is a shortcut way to write count[result] = count[result] + 1\n",
    "    \n",
    "print(count)"
   ]
  },
  {
   "cell_type": "markdown",
   "metadata": {
    "id": "nf13Wu3bo8bE"
   },
   "source": [
    "As it turns out, counters have a built in sorting methods: `.most_common(n)`. Note: this function is a generator that produces `(<key>,<count)` tuples. Let's try:"
   ]
  },
  {
   "cell_type": "code",
   "execution_count": null,
   "metadata": {
    "colab": {
     "base_uri": "https://localhost:8080/",
     "height": 52
    },
    "executionInfo": {
     "elapsed": 552,
     "status": "ok",
     "timestamp": 1599836108698,
     "user": {
      "displayName": "Dr. Jake",
      "photoUrl": "",
      "userId": "10996578946780976051"
     },
     "user_tz": 240
    },
    "id": "CFtBdPAio8bE",
    "outputId": "645226c3-e57f-44be-f0fc-dbd828b2a893"
   },
   "outputs": [
    {
     "name": "stdout",
     "output_type": "stream",
     "text": [
      "W 10\n",
      "L 6\n"
     ]
    }
   ],
   "source": [
    "## unpack the key and count on the fly from the .most_common() generator's tuples\n",
    "for ky, ct in count.most_common(2):\n",
    "    print(ky, ct)"
   ]
  },
  {
   "cell_type": "markdown",
   "metadata": {
    "id": "D75fGUCno8bF"
   },
   "source": [
    "#### 2.2.2.9 Exercise: counters\n",
    "Count the results and calculate a point tally, where a win equals 3 points, a draw equals 1 point, and a loss equals 0 points."
   ]
  },
  {
   "cell_type": "code",
   "execution_count": null,
   "metadata": {
    "colab": {
     "base_uri": "https://localhost:8080/",
     "height": 34
    },
    "executionInfo": {
     "elapsed": 578,
     "status": "ok",
     "timestamp": 1599836111330,
     "user": {
      "displayName": "Dr. Jake",
      "photoUrl": "",
      "userId": "10996578946780976051"
     },
     "user_tz": 240
    },
    "id": "zFcWg9BMo8bF",
    "outputId": "8f574260-ad50-4c27-d790-7532e940dea4"
   },
   "outputs": [
    {
     "name": "stdout",
     "output_type": "stream",
     "text": [
      "0\n"
     ]
    }
   ],
   "source": [
    "results = [\"W\", \"W\", \"L\", \"D\", \"W\", \"L\", \"W\", \"D\", \"W\", \"L\", \"L\", \"W\", \"D\", \"W\", \"W\", \"L\", \"L\", \"W\", \"D\", \"W\", \"D\", \"L\", \"W\", \"W\", \"L\", \"W\"]\n",
    "result_counts = Counter()\n",
    "points = 0\n",
    "\n",
    "# Use a loop!\n",
    "print(points)"
   ]
  },
  {
   "cell_type": "markdown",
   "metadata": {
    "id": "VLYjHACVo8bH"
   },
   "source": [
    "#### 2.2.2.10 Default valued dictionaries\n",
    "A `defaultdict` is another special dictionary type. It is very similar to a dictionary, and allows user specification of a default value function. Aside from `Counter()`'s specialized methods, its basically just `defaultdict(int)`, i.e., a dictionary with the default value of an integer (0). You can set the data type of the values for a `defaultdict` at its definition. Here's one that defaults to a list:"
   ]
  },
  {
   "cell_type": "code",
   "execution_count": null,
   "metadata": {
    "colab": {
     "base_uri": "https://localhost:8080/",
     "height": 34
    },
    "executionInfo": {
     "elapsed": 472,
     "status": "ok",
     "timestamp": 1599836113058,
     "user": {
      "displayName": "Dr. Jake",
      "photoUrl": "",
      "userId": "10996578946780976051"
     },
     "user_tz": 240
    },
    "id": "1otbxCsEo8bH",
    "outputId": "3a0cfb79-5dec-487c-d7a0-a91ee28c4214"
   },
   "outputs": [
    {
     "name": "stdout",
     "output_type": "stream",
     "text": [
      "defaultdict(<class 'list'>, {})\n"
     ]
    }
   ],
   "source": [
    "from collections import defaultdict\n",
    "\n",
    "dict_of_lists = defaultdict(list)\n",
    "print(dict_of_lists)"
   ]
  },
  {
   "cell_type": "markdown",
   "metadata": {
    "id": "xuF2qAi1o8bH"
   },
   "source": [
    "Let's look at an example of how defaultdicts can be useful. Say, we have a list of tuples where each tuple contains the name of a player and the number of goals they scored in one match. We want to organize these numbers by players and create lists of their goal record in all matches. We could use a defaultdict to achieve this very simply:"
   ]
  },
  {
   "cell_type": "code",
   "execution_count": null,
   "metadata": {
    "colab": {
     "base_uri": "https://localhost:8080/",
     "height": 34
    },
    "executionInfo": {
     "elapsed": 294,
     "status": "ok",
     "timestamp": 1599836114285,
     "user": {
      "displayName": "Dr. Jake",
      "photoUrl": "",
      "userId": "10996578946780976051"
     },
     "user_tz": 240
    },
    "id": "wYXrWG39o8bI",
    "outputId": "7ad5faa0-6aa1-4aaf-ebb0-2f175234adb5"
   },
   "outputs": [
    {
     "name": "stdout",
     "output_type": "stream",
     "text": [
      "defaultdict(<class 'list'>, {'Ronaldo': [3, 1], 'Lukaku': [2, 2], 'Messi': [1], 'Kane': [2, 1, 2]})\n"
     ]
    }
   ],
   "source": [
    "goals = [(\"Ronaldo\", 3), (\"Lukaku\", 2), (\"Messi\", 1), \n",
    "         (\"Ronaldo\", 1), (\"Kane\", 2), (\"Lukaku\", 2), (\"Kane\", 1), (\"Kane\", 2)]\n",
    "\n",
    "goals_by_player = defaultdict(list)\n",
    "\n",
    "for player, goals in goals:\n",
    "    goals_by_player[player].append(goals)\n",
    "    \n",
    "print(goals_by_player)"
   ]
  },
  {
   "cell_type": "markdown",
   "metadata": {
    "id": "dkxeEFjUo8bJ"
   },
   "source": [
    "Deafultdicts can be nested, too. A really whacky way of defining nested defaultdicts is to do it recursively, by writing a function that creates a new defaultdict."
   ]
  },
  {
   "cell_type": "code",
   "execution_count": null,
   "metadata": {
    "id": "p2LRGHe5o8bJ"
   },
   "outputs": [],
   "source": [
    "def nested_dd():\n",
    "    return defaultdict(nested_dd)"
   ]
  },
  {
   "cell_type": "markdown",
   "metadata": {
    "id": "pWWFbqX7o8bT"
   },
   "source": [
    "This gives us a lot of power, since now we can define arbitrarily as many layers of nesting as we want in a single line!"
   ]
  },
  {
   "cell_type": "code",
   "execution_count": null,
   "metadata": {
    "colab": {
     "base_uri": "https://localhost:8080/",
     "height": 54
    },
    "executionInfo": {
     "elapsed": 1285,
     "status": "ok",
     "timestamp": 1599836118414,
     "user": {
      "displayName": "Dr. Jake",
      "photoUrl": "",
      "userId": "10996578946780976051"
     },
     "user_tz": 240
    },
    "id": "xmUeLS1mo8bT",
    "outputId": "e006810b-1319-424b-89ba-f137791940f3"
   },
   "outputs": [
    {
     "name": "stdout",
     "output_type": "stream",
     "text": [
      "defaultdict(<function nested_dd at 0x7fe5789a1a60>, {0: defaultdict(<function nested_dd at 0x7fe5789a1a60>, {1: defaultdict(<function nested_dd at 0x7fe5789a1a60>, {2: defaultdict(<function nested_dd at 0x7fe5789a1a60>, {3: 4})})})})\n"
     ]
    }
   ],
   "source": [
    "super_dict = nested_dd()\n",
    "\n",
    "super_dict[0][1][2][3] = 4\n",
    "\n",
    "print(super_dict)"
   ]
  },
  {
   "cell_type": "markdown",
   "metadata": {
    "id": "ozvpYxYHo8bV"
   },
   "source": [
    "We can convert (un-nested) defaultdicts to dicts by simply using the `dict()` function:"
   ]
  },
  {
   "cell_type": "code",
   "execution_count": null,
   "metadata": {
    "colab": {
     "base_uri": "https://localhost:8080/",
     "height": 34
    },
    "executionInfo": {
     "elapsed": 487,
     "status": "ok",
     "timestamp": 1599836120828,
     "user": {
      "displayName": "Dr. Jake",
      "photoUrl": "",
      "userId": "10996578946780976051"
     },
     "user_tz": 240
    },
    "id": "xmAFZ07Go8bV",
    "outputId": "3fdd1f5d-db63-4798-a83b-db7693fd9e48"
   },
   "outputs": [
    {
     "name": "stdout",
     "output_type": "stream",
     "text": [
      "{'Ronaldo': [3, 1], 'Lukaku': [2, 2], 'Messi': [1], 'Kane': [2, 1, 2]}\n"
     ]
    }
   ],
   "source": [
    "goals_by_player = dict(goals_by_player)\n",
    "print(goals_by_player)"
   ]
  }
 ],
 "metadata": {
  "colab": {
   "collapsed_sections": [
    "KixfBpICo8XZ",
    "YkyG9HoHo8X9",
    "HMQD7Os2o8YQ",
    "iAKZ_EWZo8YZ",
    "Sg5ET5TJo8Yc",
    "PVq-u4TTo8Yn",
    "p5wC2V3Vo8ZD",
    "sLovTWIwo8ZG",
    "2vi0bu9lo8ZQ",
    "enHrmd7eo8ZU",
    "B5fByCbGo8Z7",
    "6jpygocMo8aD",
    "CZn0dc3oo8aI",
    "8PdfOidfo8aT",
    "W7fNBe5Ro8aW",
    "OAVjYPa9o8aj",
    "-I2lTQmmo8ay",
    "26VqYmmTo8a6",
    "TesLOrBho8a8",
    "eX-eN6tZo8a9",
    "1QCF2U_yo8a-",
    "D75fGUCno8bF"
   ],
   "name": "data.ipynb",
   "provenance": []
  },
  "kernelspec": {
   "display_name": "Python 3",
   "language": "python",
   "name": "python3"
  },
  "language_info": {
   "codemirror_mode": {
    "name": "ipython",
    "version": 3
   },
   "file_extension": ".py",
   "mimetype": "text/x-python",
   "name": "python",
   "nbconvert_exporter": "python",
   "pygments_lexer": "ipython3",
   "version": "3.8.5"
  }
 },
 "nbformat": 4,
 "nbformat_minor": 4
}
