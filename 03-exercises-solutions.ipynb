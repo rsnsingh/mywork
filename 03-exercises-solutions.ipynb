{
 "cells": [
  {
   "cell_type": "markdown",
   "metadata": {
    "id": "rNlbNDn5tlEy"
   },
   "source": [
    "# DSCI 511: Data acquisition and pre-processing<br>Chapter 3: Acquiring Data from the Internet\n",
    "## Exercises\n",
    "Note: numberings refer to the main notes."
   ]
  },
  {
   "cell_type": "markdown",
   "metadata": {
    "id": "bogcafgstlE0"
   },
   "source": [
    "#### 3.1.2.3 Exercise: processing a JSON response\n",
    "Make a request to the SEPTA Arrivals API to get data on the next 10 trains to arrive at Suburban Station. Store this JSON-format data into a dictionary. Inspect the dictionary structure. Then, write code to create a list containing 10 dictionaries, one for each train. These new dictionaries should look like this:\n",
    "\n",
    "#### Discussion: figuring out what we got. \n",
    "Putting together/modifying the example URL from Section 3.1.2.2 was relatively straightforward, especially since Suburban Station is exhibited with its station ID directly in the docs. The harder part is probably figuring out how to extract the information out of the json response. As it turns out, we got 20 trains: 10 each going Northbound and Southbound! "
   ]
  },
  {
   "cell_type": "code",
   "execution_count": null,
   "metadata": {
    "id": "Ofccb2DctlE2"
   },
   "outputs": [],
   "source": [
    "import requests\n",
    "from pprint import pprint\n",
    "\n",
    "response = requests.get(\"http://www3.septa.org/hackathon/Arrivals/Suburban Station/10\")\n",
    "\n",
    "# print(response.json())"
   ]
  },
  {
   "cell_type": "code",
   "execution_count": null,
   "metadata": {
    "id": "esbbRTILtlE_",
    "outputId": "09f42f4d-b1c6-462c-d5b6-242172b6cb02"
   },
   "outputs": [
    {
     "name": "stdout",
     "output_type": "stream",
     "text": [
      "{'direction': 'S',\n",
      " 'line': 'Media/Elwyn',\n",
      " 'sched_time': '2018-08-22 17:31:01.000',\n",
      " 'status': 'On Time',\n",
      " 'track': '6'}\n"
     ]
    }
   ],
   "source": [
    "# example of train dictionary format\n",
    "train_dict = {\n",
    "    'direction': 'S',\n",
    "     'line': 'Media/Elwyn',\n",
    "     'sched_time': '2018-08-22 17:31:01.000',\n",
    "     'status': 'On Time',\n",
    "     'track': '6'\n",
    "}\n",
    "\n",
    "pprint(train_dict)"
   ]
  },
  {
   "cell_type": "code",
   "execution_count": null,
   "metadata": {
    "id": "InyK4gPatlFG",
    "outputId": "7c049fa9-2c86-437d-94a1-24a4ce6b6f8f",
    "scrolled": true
   },
   "outputs": [
    {
     "name": "stdout",
     "output_type": "stream",
     "text": [
      "[{'direction': 'N',\n",
      "  'line': 'Warminster',\n",
      "  'sched_time': '2018-10-16 19:04:00.000',\n",
      "  'status': '1 min',\n",
      "  'track': '1'},\n",
      " {'direction': 'N',\n",
      "  'line': 'Paoli/Thorndale',\n",
      "  'sched_time': '2018-10-16 19:19:00.000',\n",
      "  'status': '3 min',\n",
      "  'track': '1'},\n",
      " {'direction': 'N',\n",
      "  'line': 'Media/Elwyn',\n",
      "  'sched_time': '2018-10-16 19:21:00.000',\n",
      "  'status': '1 min',\n",
      "  'track': '2'},\n",
      " {'direction': 'N',\n",
      "  'line': 'Fox Chase',\n",
      "  'sched_time': '2018-10-16 19:22:00.000',\n",
      "  'status': 'On Time',\n",
      "  'track': '1'},\n",
      " {'direction': 'N',\n",
      "  'line': 'Trenton',\n",
      "  'sched_time': '2018-10-16 19:22:00.000',\n",
      "  'status': '8 min',\n",
      "  'track': '1'},\n",
      " {'direction': 'N',\n",
      "  'line': 'Cynwyd',\n",
      "  'sched_time': '2018-10-16 19:28:00.000',\n",
      "  'status': 'On Time',\n",
      "  'track': '6'},\n",
      " {'direction': 'N',\n",
      "  'line': 'Airport',\n",
      "  'sched_time': '2018-10-16 19:34:00.000',\n",
      "  'status': 'On Time',\n",
      "  'track': '2'},\n",
      " {'direction': 'N',\n",
      "  'line': 'Chestnut Hill West',\n",
      "  'sched_time': '2018-10-16 19:36:00.000',\n",
      "  'status': 'On Time',\n",
      "  'track': '1'},\n",
      " {'direction': 'N',\n",
      "  'line': 'Wilmington/Newark',\n",
      "  'sched_time': '2018-10-16 19:44:00.000',\n",
      "  'status': '1 min',\n",
      "  'track': '1'},\n",
      " {'direction': 'N',\n",
      "  'line': 'Paoli/Thorndale',\n",
      "  'sched_time': '2018-10-16 19:49:00.000',\n",
      "  'status': '2 min',\n",
      "  'track': '1'},\n",
      " {'direction': 'S',\n",
      "  'line': 'Lansdale/Doylestown',\n",
      "  'sched_time': '2018-10-16 19:09:00.000',\n",
      "  'status': '22 min',\n",
      "  'track': '4'},\n",
      " {'direction': 'S',\n",
      "  'line': 'Manayunk/Norristown',\n",
      "  'sched_time': '2018-10-16 19:10:00.000',\n",
      "  'status': 'On Time',\n",
      "  'track': '3'},\n",
      " {'direction': 'S',\n",
      "  'line': 'Cynwyd',\n",
      "  'sched_time': '2018-10-16 19:11:30.000',\n",
      "  'status': 'On Time',\n",
      "  'track': '6'},\n",
      " {'direction': 'S',\n",
      "  'line': 'Chestnut Hill West',\n",
      "  'sched_time': '2018-10-16 19:14:00.000',\n",
      "  'status': '5 min',\n",
      "  'track': '3'},\n",
      " {'direction': 'S',\n",
      "  'line': 'Trenton',\n",
      "  'sched_time': '2018-10-16 19:18:00.000',\n",
      "  'status': '1 min',\n",
      "  'track': '4'},\n",
      " {'direction': 'S',\n",
      "  'line': 'Warminster',\n",
      "  'sched_time': '2018-10-16 19:24:00.000',\n",
      "  'status': '9 min',\n",
      "  'track': '3'},\n",
      " {'direction': 'S',\n",
      "  'line': 'West Trenton',\n",
      "  'sched_time': '2018-10-16 19:27:00.000',\n",
      "  'status': '4 min',\n",
      "  'track': '4'},\n",
      " {'direction': 'S',\n",
      "  'line': 'Warminster',\n",
      "  'sched_time': '2018-10-16 19:39:00.000',\n",
      "  'status': 'On Time',\n",
      "  'track': '3'},\n",
      " {'direction': 'S',\n",
      "  'line': 'Lansdale/Doylestown',\n",
      "  'sched_time': '2018-10-16 19:44:00.000',\n",
      "  'status': '3 min',\n",
      "  'track': '4'},\n",
      " {'direction': 'S',\n",
      "  'line': 'Fox Chase',\n",
      "  'sched_time': '2018-10-16 19:48:00.000',\n",
      "  'status': 'On Time',\n",
      "  'track': '3'}]\n"
     ]
    }
   ],
   "source": [
    "data = response.json()\n",
    "top_keys = list(data.keys())\n",
    "# pprint(data[top_keys[0]][0][\"Northbound\"])\n",
    "\n",
    "trains = []\n",
    "for timestamp in data: ## timestamp is the sole key at the top level of response\n",
    "    for outbound_direction in data[timestamp]: ## each track direction gets its own dictionary\n",
    "        for direction in outbound_direction:\n",
    "            for train in outbound_direction[direction]:\n",
    "                trains.append({\n",
    "                    'direction': train['direction'],\n",
    "                    'line': train['line'],\n",
    "                    'sched_time': train['sched_time'],\n",
    "                    'status': train['status'],\n",
    "                    'track': train['track']\n",
    "                })\n",
    "\n",
    "pprint(trains)"
   ]
  },
  {
   "cell_type": "code",
   "execution_count": null,
   "metadata": {
    "id": "bezW0ONRtlFM",
    "outputId": "8b1c7ea8-c924-4041-a392-f2d8c500a61e",
    "scrolled": true
   },
   "outputs": [
    {
     "name": "stdout",
     "output_type": "stream",
     "text": [
      "20\n",
      "[{'direction': 'N',\n",
      "  'line': 'Warminster',\n",
      "  'sched_time': '2018-10-16 19:04:00.000',\n",
      "  'status': '1 min',\n",
      "  'track': '1'},\n",
      " {'direction': 'N',\n",
      "  'line': 'Paoli/Thorndale',\n",
      "  'sched_time': '2018-10-16 19:19:00.000',\n",
      "  'status': '3 min',\n",
      "  'track': '1'},\n",
      " {'direction': 'N',\n",
      "  'line': 'Media/Elwyn',\n",
      "  'sched_time': '2018-10-16 19:21:00.000',\n",
      "  'status': '1 min',\n",
      "  'track': '2'},\n",
      " {'direction': 'N',\n",
      "  'line': 'Fox Chase',\n",
      "  'sched_time': '2018-10-16 19:22:00.000',\n",
      "  'status': 'On Time',\n",
      "  'track': '1'},\n",
      " {'direction': 'N',\n",
      "  'line': 'Trenton',\n",
      "  'sched_time': '2018-10-16 19:22:00.000',\n",
      "  'status': '8 min',\n",
      "  'track': '1'},\n",
      " {'direction': 'N',\n",
      "  'line': 'Cynwyd',\n",
      "  'sched_time': '2018-10-16 19:28:00.000',\n",
      "  'status': 'On Time',\n",
      "  'track': '6'},\n",
      " {'direction': 'N',\n",
      "  'line': 'Airport',\n",
      "  'sched_time': '2018-10-16 19:34:00.000',\n",
      "  'status': 'On Time',\n",
      "  'track': '2'},\n",
      " {'direction': 'N',\n",
      "  'line': 'Chestnut Hill West',\n",
      "  'sched_time': '2018-10-16 19:36:00.000',\n",
      "  'status': 'On Time',\n",
      "  'track': '1'},\n",
      " {'direction': 'N',\n",
      "  'line': 'Wilmington/Newark',\n",
      "  'sched_time': '2018-10-16 19:44:00.000',\n",
      "  'status': '1 min',\n",
      "  'track': '1'},\n",
      " {'direction': 'N',\n",
      "  'line': 'Paoli/Thorndale',\n",
      "  'sched_time': '2018-10-16 19:49:00.000',\n",
      "  'status': '2 min',\n",
      "  'track': '1'},\n",
      " {'direction': 'S',\n",
      "  'line': 'Lansdale/Doylestown',\n",
      "  'sched_time': '2018-10-16 19:09:00.000',\n",
      "  'status': '22 min',\n",
      "  'track': '4'},\n",
      " {'direction': 'S',\n",
      "  'line': 'Manayunk/Norristown',\n",
      "  'sched_time': '2018-10-16 19:10:00.000',\n",
      "  'status': 'On Time',\n",
      "  'track': '3'},\n",
      " {'direction': 'S',\n",
      "  'line': 'Cynwyd',\n",
      "  'sched_time': '2018-10-16 19:11:30.000',\n",
      "  'status': 'On Time',\n",
      "  'track': '6'},\n",
      " {'direction': 'S',\n",
      "  'line': 'Chestnut Hill West',\n",
      "  'sched_time': '2018-10-16 19:14:00.000',\n",
      "  'status': '5 min',\n",
      "  'track': '3'},\n",
      " {'direction': 'S',\n",
      "  'line': 'Trenton',\n",
      "  'sched_time': '2018-10-16 19:18:00.000',\n",
      "  'status': '1 min',\n",
      "  'track': '4'},\n",
      " {'direction': 'S',\n",
      "  'line': 'Warminster',\n",
      "  'sched_time': '2018-10-16 19:24:00.000',\n",
      "  'status': '9 min',\n",
      "  'track': '3'},\n",
      " {'direction': 'S',\n",
      "  'line': 'West Trenton',\n",
      "  'sched_time': '2018-10-16 19:27:00.000',\n",
      "  'status': '4 min',\n",
      "  'track': '4'},\n",
      " {'direction': 'S',\n",
      "  'line': 'Warminster',\n",
      "  'sched_time': '2018-10-16 19:39:00.000',\n",
      "  'status': 'On Time',\n",
      "  'track': '3'},\n",
      " {'direction': 'S',\n",
      "  'line': 'Lansdale/Doylestown',\n",
      "  'sched_time': '2018-10-16 19:44:00.000',\n",
      "  'status': '3 min',\n",
      "  'track': '4'},\n",
      " {'direction': 'S',\n",
      "  'line': 'Fox Chase',\n",
      "  'sched_time': '2018-10-16 19:48:00.000',\n",
      "  'status': 'On Time',\n",
      "  'track': '3'}]\n"
     ]
    }
   ],
   "source": [
    "data = response.json()\n",
    "top_keys = list(data.keys())\n",
    "# pprint(data[top_keys[0]][0][\"Northbound\"])\n",
    "\n",
    "train_keys = ['direction', 'line', 'sched_time', 'status', 'track']\n",
    "\n",
    "trains = []\n",
    "for timestamp in data: ## timestamp is the sole key at the top level of response\n",
    "    for outbound_direction in data[timestamp]: ## each track direction gets its own dictionary\n",
    "        for direction in outbound_direction:\n",
    "            for train in outbound_direction[direction]:\n",
    "                trains.append({\n",
    "                    train_key: train[train_key]\n",
    "                    for train_key in train_keys\n",
    "                })\n",
    "print(len(trains))\n",
    "pprint(trains)"
   ]
  },
  {
   "cell_type": "markdown",
   "metadata": {
    "id": "Cg03JxhntlFS"
   },
   "source": [
    "#### Alternative solution (dictionary comprehensions)\n",
    "#### Discussion: "
   ]
  },
  {
   "cell_type": "code",
   "execution_count": null,
   "metadata": {
    "id": "mbSw_2s7tlFT"
   },
   "outputs": [],
   "source": [
    "# code goes here\n",
    "\n",
    "arrivals_response = requests.get(\"http://www3.septa.org/hackathon/Arrivals/Suburban Station/10\")\n",
    "arrivals_dict = arrivals_response.json()\n",
    "\n",
    "list(arrivals_dict.keys())\n",
    "\n",
    "master_key = list(arrivals_dict.keys())[0]\n",
    "northbound_trains = arrivals_dict[master_key][0]\n",
    "southbound_trains = arrivals_dict[master_key][1]\n",
    "trains = []\n",
    "for train in southbound_trains[\"Southbound\"]:\n",
    "    trains.append({\n",
    "        ky: train[ky]\n",
    "        for ky in train_dict\n",
    "    })\n",
    "trains"
   ]
  },
  {
   "cell_type": "markdown",
   "metadata": {
    "id": "pdpgcwCHtlFe"
   },
   "source": [
    "#### 3.2.1.1 Exercise: accessing a soccer schedule\n",
    "\n",
    "Make a request to the Sportradar Soccer schedule API to obtain the match schedule for Liverpool FC (team_id = sr:competitor:44). Then, from the obtained schedule, make a simple list of fixtures. Your output should be a list with strings as elements. The strings should be of the format \"HOME_TEAM vs AWAY_TEAM\".\n",
    "\n",
    "#### Discussion: sometimes it's easier to work with support data than logic\n",
    "This solution is a great example of when data can simplify code. If we had wanted to, we could have used `if/else` logic gates to make sure the home and away teams were always listed in the right order as we construct our fixtures. But creating the `fixture` object as a dictionary with two keys: `'home'` and `'away'` was strategic: using the _value_ of each `competitor`'s `'qualifier'` field (i.e., role as `'home'` and `'away'`) allowed us to just focus on routing each team to its appropriate position in the fixture _associatively_. "
   ]
  },
  {
   "cell_type": "code",
   "execution_count": null,
   "metadata": {
    "id": "Gxro2zkGtlFf",
    "outputId": "03c79340-8474-44c4-bbef-6c253b1ccc9f"
   },
   "outputs": [
    {
     "name": "stdout",
     "output_type": "stream",
     "text": [
      "['Huddersfield Town vs Liverpool FC',\n",
      " 'Liverpool FC vs FK Red Star Belgrade',\n",
      " 'Liverpool FC vs Cardiff City',\n",
      " 'Arsenal FC vs Liverpool FC',\n",
      " 'FK Red Star Belgrade vs Liverpool FC',\n",
      " 'Liverpool FC vs Fulham FC',\n",
      " 'Watford FC vs Liverpool FC',\n",
      " 'Paris Saint-Germain vs Liverpool FC',\n",
      " 'Liverpool FC vs Everton FC',\n",
      " 'Burnley FC vs Liverpool FC',\n",
      " 'AFC Bournemouth vs Liverpool FC',\n",
      " 'Liverpool FC vs SSC Napoli',\n",
      " 'Liverpool FC vs Manchester United',\n",
      " 'Wolverhampton Wanderers vs Liverpool FC',\n",
      " 'Liverpool FC vs Newcastle United',\n",
      " 'Liverpool FC vs Arsenal FC',\n",
      " 'Manchester City vs Liverpool FC',\n",
      " 'Brighton & Hove Albion FC vs Liverpool FC',\n",
      " 'Liverpool FC vs Crystal Palace',\n",
      " 'Liverpool FC vs Leicester City',\n",
      " 'West Ham United vs Liverpool FC',\n",
      " 'Liverpool FC vs AFC Bournemouth',\n",
      " 'Manchester United vs Liverpool FC',\n",
      " 'Liverpool FC vs Watford FC',\n",
      " 'Everton FC vs Liverpool FC',\n",
      " 'Liverpool FC vs Burnley FC',\n",
      " 'Fulham FC vs Liverpool FC',\n",
      " 'Liverpool FC vs Tottenham Hotspur',\n",
      " 'Southampton FC vs Liverpool FC',\n",
      " 'Liverpool FC vs Chelsea FC',\n",
      " 'Cardiff City vs Liverpool FC',\n",
      " 'Liverpool FC vs Huddersfield Town',\n",
      " 'Newcastle United vs Liverpool FC',\n",
      " 'Liverpool FC vs Wolverhampton Wanderers']\n"
     ]
    }
   ],
   "source": [
    "import requests\n",
    "\n",
    "# code goes here\n",
    "soccer_key = \"\"\n",
    "address = \"https://api.sportradar.us/soccer-xt3/eu/en/teams/sr:competitor:44/schedule.json?api_key=\" + soccer_key\n",
    "\n",
    "response = requests.get(address)\n",
    "\n",
    "data = response.json()\n",
    "\n",
    "fixtures = []\n",
    "for match in data['schedule']:\n",
    "    fixture = {\n",
    "        \"home\": \"\",\n",
    "        \"away\": \"\"\n",
    "    }\n",
    "    for competitor in match['competitors']:\n",
    "#         pprint(competitor)\n",
    "        fixture[competitor['qualifier']] = competitor['name']\n",
    "    \n",
    "    fixtures.append(\n",
    "        fixture['home']+\" vs \"+fixture['away']\n",
    "    )\n",
    "pprint(fixtures)"
   ]
  },
  {
   "cell_type": "markdown",
   "metadata": {
    "id": "xpaWugEqQv1P"
   },
   "source": [
    "#### Alternative Solution Discussion\n",
    "As it turns out, since the data appear to always be presented in home vs. away order in the list of competitors we can just use order to construct and print out the fixtures:"
   ]
  },
  {
   "cell_type": "code",
   "execution_count": null,
   "metadata": {
    "colab": {
     "base_uri": "https://localhost:8080/"
    },
    "executionInfo": {
     "elapsed": 927,
     "status": "ok",
     "timestamp": 1602078589828,
     "user": {
      "displayName": "Dr. Jake",
      "photoUrl": "",
      "userId": "10996578946780976051"
     },
     "user_tz": 240
    },
    "id": "_x-giG_ATcdn",
    "outputId": "a4467132-ed29-430f-8a6c-e01fcad79c06"
   },
   "outputs": [
    {
     "name": "stdout",
     "output_type": "stream",
     "text": [
      "Everton FC vs. Liverpool FC\n",
      "Ajax Amsterdam vs. Liverpool FC\n",
      "Liverpool FC vs. Sheffield United FC\n",
      "Liverpool FC vs. FC Midtjylland\n",
      "Liverpool FC vs. West Ham United FC\n",
      "Atalanta BC vs. Liverpool FC\n",
      "Manchester City FC vs. Liverpool FC\n",
      "Liverpool FC vs. Leicester City FC\n",
      "Liverpool FC vs. Atalanta BC\n",
      "Brighton & Hove Albion FC vs. Liverpool FC\n",
      "Liverpool FC vs. Ajax Amsterdam\n",
      "Liverpool FC vs. Wolverhampton Wanderers FC\n",
      "FC Midtjylland vs. Liverpool FC\n",
      "Fulham FC vs. Liverpool FC\n",
      "Liverpool FC vs. Tottenham Hotspur FC\n",
      "Crystal Palace FC vs. Liverpool FC\n",
      "Liverpool FC vs. West Bromwich Albion\n",
      "Newcastle United FC vs. Liverpool FC\n",
      "Southampton FC vs. Liverpool FC\n",
      "Liverpool FC vs. Burnley FC\n",
      "Liverpool FC vs. Manchester United FC\n",
      "Tottenham Hotspur FC vs. Liverpool FC\n",
      "West Ham United FC vs. Liverpool FC\n",
      "Liverpool FC vs. Brighton & Hove Albion FC\n",
      "Liverpool FC vs. Manchester City FC\n",
      "Leicester City FC vs. Liverpool FC\n",
      "Liverpool FC vs. Everton FC\n",
      "Sheffield United FC vs. Liverpool FC\n",
      "Liverpool FC vs. Fulham FC\n",
      "Wolverhampton Wanderers FC vs. Liverpool FC\n",
      "Liverpool FC vs. Chelsea FC\n",
      "Arsenal FC vs. Liverpool FC\n",
      "Liverpool FC vs. Aston Villa FC\n",
      "Leeds United vs. Liverpool FC\n",
      "Liverpool FC vs. Newcastle United FC\n",
      "Manchester United FC vs. Liverpool FC\n",
      "Liverpool FC vs. Southampton FC\n",
      "West Bromwich Albion vs. Liverpool FC\n",
      "Burnley FC vs. Liverpool FC\n",
      "Liverpool FC vs. Crystal Palace FC\n"
     ]
    }
   ],
   "source": [
    "import requests\n",
    "from pprint import pprint\n",
    "\n",
    "# code goes here\n",
    "key = \"\"\n",
    "URL = \"https://api.sportradar.us/soccer-xt3/eu/en/teams/sr:competitor:44/schedule.json?api_key=\" + key\n",
    "resp = requests.get(URL)\n",
    "data = resp.json()\n",
    "\n",
    "for game in data['schedule']:\n",
    "  teams = []\n",
    "  for competitor in game['competitors']:\n",
    "    teams.append(competitor['name'])\n",
    "  # print(teams[0] + \" vs. \" + teams[1])\n",
    "  print(\" vs. \".join(teams))\n",
    "  # break"
   ]
  },
  {
   "cell_type": "markdown",
   "metadata": {
    "id": "4_WoLO92tlFk"
   },
   "source": [
    "#### 3.3.3.1 Exercise: access some accidental haikus from Twitter's REST API\n",
    "Create your Twitter API keys and download the last 15 tweets by @accidental575 (the hilarious Accidental Haiku Bot).\n",
    "\n",
    "#### Discussion: just drop your keys in, and start accessing tweets\n",
    "Working with a client is _very_ convenient, but the only reason these things exist is because the access is so valued and controled. If you haven't, sign up for a developer account and create an app today to get working with Twitter's API. "
   ]
  },
  {
   "cell_type": "code",
   "execution_count": null,
   "metadata": {
    "id": "qjQxhw70tlFk"
   },
   "outputs": [],
   "source": [
    "from twython import Twython\n",
    "\n",
    "access_token = ''\n",
    "access_token_secret = ''\n",
    "consumer_key = ''\n",
    "consumer_secret = ''\n",
    "\n",
    "twitter = Twython(consumer_key, consumer_secret)\n",
    "\n",
    "haiku_twitter = twitter.get_user_timeline(screen_name = \"accidental575\")"
   ]
  },
  {
   "cell_type": "code",
   "execution_count": null,
   "metadata": {
    "id": "Wzy73D2ktlFp",
    "outputId": "0dae7f8f-7e0b-490a-84f2-532118ab5ae3"
   },
   "outputs": [
    {
     "name": "stdout",
     "output_type": "stream",
     "text": [
      "Just writing to let /\n",
      "everyone know I have a /\n",
      "new profile picture /\n",
      "#accidentalhaiku by @BHump_12 \n",
      "https://t.co/T2usPc5C0S\n",
      "\n",
      "freelance is great cause /\n",
      "sometimes you don’t wear pants for /\n",
      "an entire day /\n",
      "#accidentalhaiku by @mattgee \n",
      "https://t.co/y48pVrBc8D\n",
      "\n",
      "Tell me you love me /\n",
      "started playing at Starbucks /\n",
      "and I gasped out loud /\n",
      "#accidentalhaiku by @ashmj21 \n",
      "https://t.co/Rfml47ypDL\n",
      "\n",
      "My dad is singing /\n",
      "Disney hits with me in the /\n",
      "car! I’m so happy ❤️ /\n",
      "#accidentalhaiku by @MakaylaBickhart \n",
      "https://t.co/FmLlroSBVv\n",
      "\n",
      "Wow that’s a lot of /\n",
      "instructions on how to use /\n",
      "a public restroom! /\n",
      "#accidentalhaiku by @kbakies \n",
      "https://t.co/cE3OUt0Exh\n",
      "\n",
      "there are squirrels in /\n",
      "the Grand Canyon that carry /\n",
      "the bubonic plague /\n",
      "#accidentalhaiku by @luckyenoughlin1 \n",
      "https://t.co/bW8X9tBRDp\n",
      "\n",
      "apparently he /\n",
      "donated it to his own /\n",
      "foundation - #taxdodge /\n",
      "#accidentalhaiku by @woolkebb \n",
      "https://t.co/YNnXKnzul3\n",
      "\n",
      "Really Ain't Tryna /\n",
      "Go To Buffalo Wild Wings /\n",
      "But Imma Have To /\n",
      "#accidentalhaiku by @Im_So_Leah \n",
      "https://t.co/MJTVF79CvP\n",
      "\n",
      "I need a beach day, /\n",
      "to nap on the sand and scarf /\n",
      "down margaritas /\n",
      "#accidentalhaiku by @candicenicolexo \n",
      "https://t.co/2tQXVDmRn2\n",
      "\n",
      "If You’re Constantly /\n",
      "Overthinking Everything, /\n",
      "Try This To Chill Out /\n",
      "#accidentalhaiku by @YikesAlready \n",
      "https://t.co/0nWBUor38p\n",
      "\n",
      "I think I over /\n",
      "garlicked my chicken. Is that /\n",
      "even possible? /\n",
      "#accidentalhaiku by @lonita \n",
      "https://t.co/fi0V3QC7Bq\n",
      "\n",
      "I know. If you don’t /\n",
      "know, you gotta be in the /\n",
      "know to know, ya know? /\n",
      "#accidentalhaiku by @mylespeters42 \n",
      "https://t.co/jCri4rMbKP\n",
      "\n",
      "I'm just going to /\n",
      "go over here and rage-puke /\n",
      "for a few hours. /\n",
      "#accidentalhaiku by @HillaryWarnedUs \n",
      "https://t.co/s87jyJYGhs\n",
      "\n",
      "Trump keeps trying to /\n",
      "hide and change the facts!  Sorry /\n",
      "trumpwad, facts matter! /\n",
      "#accidentalhaiku by… https://t.co/Rshu7qaRSe\n",
      "\n",
      "Ion care how good /\n",
      "life get I will forever /\n",
      "eat off paper plates 😭 /\n",
      "#accidentalhaiku by @LoveableQua_ \n",
      "https://t.co/59DHdao7lX\n",
      "\n"
     ]
    }
   ],
   "source": [
    "for tweet in haiku_twitter[:15]:\n",
    "    print(tweet['text']+\"\\n\")"
   ]
  },
  {
   "cell_type": "markdown",
   "metadata": {
    "id": "0k9lmofLs-LJ"
   },
   "source": [
    "## Additional In-depth Exercises\n",
    "### A. Building Twitter reply chains\n",
    "Since Twitter provides no direct functionality for downloading reply chains, alternative strategies are needed. Some good suggestions can be found here on github:\n",
    "\n",
    "- https://github.com/alok/thread-twitter/blob/master/thread_tweets.py\n",
    "- https://gist.github.com/edsu/54e6f7d63df3866a87a15aed17b51eaf\n",
    "\n",
    "and the latter provides some excellent explanation for this development need:\n",
    "\n",
    "> Twitter's API doesn't allow you to get replies to a particular tweet. Strange\n",
    "but true. But you can use Twitter's Search API to search for tweets that are\n",
    "directed at a particular user, and then search through the results to see if \n",
    "any are replies to a given tweet. You probably are also interested in the\n",
    "replies to any replies as well, so the process is recursive. The big caveat \n",
    "here is that the search API only returns results for the last 7 days. So \n",
    "you'll want to run this sooner rather than later.\n",
    "\n",
    "Apply these techniques using Twython, by searching over source-user mentions from either of the following endpoints:\n",
    "\n",
    "- https://developer.twitter.com/en/docs/tweets/search/overview/standard\n",
    "- https://developer.twitter.com/en/docs/tweets/timelines/api-reference/get-statuses-mentions_timeline\n",
    "\n",
    "to exhibit how replies to a given message are obtained. To continue, store the tweets one tweet per line in a 'json lines' file, and organize the thread's Tweet IDs in their natural, hierarchical graph/network structure by utilizing dictionaries and json serialization."
   ]
  },
  {
   "cell_type": "code",
   "execution_count": null,
   "metadata": {
    "id": "HLqwcVn9s-LJ"
   },
   "outputs": [],
   "source": [
    "from twython import Twython\n",
    "\n",
    "access_token = ''\n",
    "access_token_secret = ''\n",
    "consumer_key = ''\n",
    "consumer_secret = ''\n",
    "\n",
    "twitter = Twython(consumer_key, consumer_secret)\n",
    "screen_name = 'drexeluniv'"
   ]
  },
  {
   "cell_type": "markdown",
   "metadata": {
    "id": "_T6g5LaKs-LO"
   },
   "source": [
    "#### Looking at mentions\n",
    "What we're doing with the `twitter.search()` method is observing all tweets in the standard rest API' s sample that 'mention' a user, i.e., by tweeting with an `@<screen_name>` in their tweet text.\n",
    "\n",
    "Reviewing the output, since the first batch of mentiones doesn't have one that 'targets' our tweet `id` in the `in_reply_to_status_id` field we'll have to figure out how to get the next 'page'/batch of tweets."
   ]
  },
  {
   "cell_type": "code",
   "execution_count": null,
   "metadata": {
    "id": "0rlDWHcbs-LO"
   },
   "outputs": [],
   "source": [
    "results = twitter.search(q = \"@\" + screen_name, count = 100)"
   ]
  },
  {
   "cell_type": "code",
   "execution_count": null,
   "metadata": {
    "id": "gCUisgeqs-LT",
    "outputId": "62f2a914-240c-43f5-8079-d245543e59e5"
   },
   "outputs": [
    {
     "name": "stdout",
     "output_type": "stream",
     "text": [
      "100\n"
     ]
    }
   ],
   "source": [
    "print(len(results['statuses']))"
   ]
  },
  {
   "cell_type": "code",
   "execution_count": null,
   "metadata": {
    "id": "Kn4UqZ1ds-LW"
   },
   "outputs": [],
   "source": [
    "tweet_id = 1250762697865678849\n",
    "for tweet in results['statuses']:\n",
    "    if tweet['in_reply_to_status_id'] == tweet_id:\n",
    "        pprint(tweet)\n",
    "        break"
   ]
  },
  {
   "cell_type": "markdown",
   "metadata": {
    "id": "x-a8PTC-s-Lb"
   },
   "source": [
    "#### Batch size\n",
    "The batches are of size 100, and the API documentation doesn't seem to indicate how many 'pages' of results might be available from the search. We just know that we have access to 450 requests in a 15-minute window (see: https://developer.twitter.com/en/docs/tweets/search/api-reference/get-search-tweets), and that we can use the `since_id` and `max_id` parameters to retrieve 'pages' of search results after and before (inclusive), separately. \n",
    "\n",
    "So then, why isn't the `max_id` the same tweet `id` as `results['statuses'][-1]['id']`. Well, there are perhaps two things going on, and some lack of explanability. First, while the search results aren't a 'timeline', they are pagenated so this blog post (by Twitter's team) is really helpful:\n",
    "\n",
    "- https://developer.twitter.com/en/docs/tweets/timelines/guides/working-with-timelines\n",
    "\n",
    "The important aspect is that `max_id` is inclusive to the call, i.e., that the response starts with the tweet having that `id`. But Twitter has worked out a (strange, perhaps) solution to this, explain in the above post:\n",
    "\n",
    "> While one redundant Tweet is not terribly inefficient, it is still possible to optimize max_id requests to address this problem if your platform is capable of working with 64-bit integers. Environments where a Tweet ID cannot be represented as an integer with 64 bits of precision (such as JavaScript) should skip this step. Subtract 1 from the lowest Tweet ID returned from the previous request and use this for the value of max_id. It does not matter if this adjusted max_id is a valid Tweet ID, or if it corresponds with a Tweet posted by a different user - the value is just used to decide which Tweets to filter. When adjusted in this manner, it is possible to page through a timeline without receiving redundant Tweets\n",
    "\n",
    "i.e., <b>we should technically be using one less from the numerically smallest tweet id in the batch!</b>\n",
    "\n",
    "Unfortunately, we can no longer see our target in this next batch (as of 4/22), and have to proceed to the `next_next_batch`. "
   ]
  },
  {
   "cell_type": "code",
   "execution_count": null,
   "metadata": {
    "id": "r2ALV6Pqs-Lb",
    "outputId": "898d1b08-ebcb-4d71-cc91-327ede7abbb4"
   },
   "outputs": [
    {
     "name": "stdout",
     "output_type": "stream",
     "text": [
      "{'completed_in': 0.109,\n",
      " 'count': 100,\n",
      " 'max_id': 1252974332487311365,\n",
      " 'max_id_str': '1252974332487311365',\n",
      " 'next_results': '?max_id=1252240101012320255&q=%40drexeluniv&count=100&include_entities=1',\n",
      " 'query': '%40drexeluniv',\n",
      " 'refresh_url': '?since_id=1252974332487311365&q=%40drexeluniv&include_entities=1',\n",
      " 'since_id': 0,\n",
      " 'since_id_str': '0'}\n",
      "1252240101012320255\n"
     ]
    }
   ],
   "source": [
    "from pprint import pprint\n",
    "pprint(results['search_metadata'])\n",
    "print(results['search_metadata']['next_results'][8:27])"
   ]
  },
  {
   "cell_type": "code",
   "execution_count": null,
   "metadata": {
    "id": "itlUMKo5s-Lg",
    "outputId": "94f30486-4c7c-4df9-920a-fc45d59515ec"
   },
   "outputs": [
    {
     "name": "stdout",
     "output_type": "stream",
     "text": [
      "1252240101012320256\n"
     ]
    }
   ],
   "source": [
    "pprint(results['statuses'][-1]['id'])"
   ]
  },
  {
   "cell_type": "code",
   "execution_count": null,
   "metadata": {
    "id": "MMsLUVm0s-Lk",
    "outputId": "91fd4035-0926-4e23-8d1e-901ca0a6bd10"
   },
   "outputs": [
    {
     "name": "stdout",
     "output_type": "stream",
     "text": [
      "1252240101012320255\n"
     ]
    }
   ],
   "source": [
    "max_id = min([tweet['id'] for tweet in results['statuses']]) - 1\n",
    "print(max_id)"
   ]
  },
  {
   "cell_type": "code",
   "execution_count": null,
   "metadata": {
    "id": "wFDAYSNZs-Lo"
   },
   "outputs": [],
   "source": [
    "next_results = twitter.search(q = \"@\" + screen_name, count = 100, \n",
    "                              max_id = max_id)"
   ]
  },
  {
   "cell_type": "code",
   "execution_count": null,
   "metadata": {
    "id": "HWbcG8nKs-Lr",
    "outputId": "34877efd-fca6-4b99-af76-31256f1b5c5b"
   },
   "outputs": [
    {
     "name": "stdout",
     "output_type": "stream",
     "text": [
      "100\n"
     ]
    }
   ],
   "source": [
    "print(len(next_results['statuses']))"
   ]
  },
  {
   "cell_type": "code",
   "execution_count": null,
   "metadata": {
    "id": "QkiXtJqes-Lu"
   },
   "outputs": [],
   "source": [
    "tweet_id = 1250762697865678849\n",
    "for tweet in next_results['statuses']:\n",
    "    if tweet['in_reply_to_status_id'] == tweet_id:\n",
    "        pprint(tweet)\n",
    "        break"
   ]
  },
  {
   "cell_type": "code",
   "execution_count": null,
   "metadata": {
    "id": "PHIxoWVos-Ly",
    "outputId": "2190c250-fced-420e-d044-7dd5ca731ec2"
   },
   "outputs": [
    {
     "name": "stdout",
     "output_type": "stream",
     "text": [
      "100\n"
     ]
    }
   ],
   "source": [
    "max_id = min([tweet['id'] for tweet in next_results['statuses']]) - 1\n",
    "next_next_results = twitter.search(q = \"@\" + screen_name, count = 100, \n",
    "                              max_id = max_id)\n",
    "print(len(next_results['statuses']))"
   ]
  },
  {
   "cell_type": "code",
   "execution_count": null,
   "metadata": {
    "id": "Gs4tiO1Ps-L0",
    "outputId": "f9db69ee-3092-4143-e373-aac6599522a5",
    "scrolled": true
   },
   "outputs": [
    {
     "name": "stdout",
     "output_type": "stream",
     "text": [
      "{'contributors': None,\n",
      " 'coordinates': None,\n",
      " 'created_at': 'Thu Apr 16 13:00:58 +0000 2020',\n",
      " 'entities': {'hashtags': [],\n",
      "              'symbols': [],\n",
      "              'urls': [{'display_url': 'twitter.com/i/web/status/1…',\n",
      "                        'expanded_url': 'https://twitter.com/i/web/status/1250771163753652225',\n",
      "                        'indices': [117, 140],\n",
      "                        'url': 'https://t.co/yu0izRs4Xp'}],\n",
      "              'user_mentions': [{'id': 17809006,\n",
      "                                 'id_str': '17809006',\n",
      "                                 'indices': [0, 11],\n",
      "                                 'name': 'Drexel University',\n",
      "                                 'screen_name': 'DrexelUniv'},\n",
      "                                {'id': 15599047,\n",
      "                                 'id_str': '15599047',\n",
      "                                 'indices': [12, 18],\n",
      "                                 'name': 'LeBow College',\n",
      "                                 'screen_name': 'LeBow'},\n",
      "                                {'id': 146472715,\n",
      "                                 'id_str': '146472715',\n",
      "                                 'indices': [19, 28],\n",
      "                                 'name': 'Drexel LeBow MBA/MS',\n",
      "                                 'screen_name': 'LeBowMBA'}]},\n",
      " 'favorite_count': 1,\n",
      " 'favorited': False,\n",
      " 'geo': None,\n",
      " 'id': 1250771163753652225,\n",
      " 'id_str': '1250771163753652225',\n",
      " 'in_reply_to_screen_name': 'DrexelUniv',\n",
      " 'in_reply_to_status_id': 1250762697865678849,\n",
      " 'in_reply_to_status_id_str': '1250762697865678849',\n",
      " 'in_reply_to_user_id': 17809006,\n",
      " 'in_reply_to_user_id_str': '17809006',\n",
      " 'is_quote_status': False,\n",
      " 'lang': 'en',\n",
      " 'metadata': {'iso_language_code': 'en', 'result_type': 'recent'},\n",
      " 'place': None,\n",
      " 'retweet_count': 0,\n",
      " 'retweeted': False,\n",
      " 'source': '<a href=\"http://twitter.com/download/iphone\" '\n",
      "           'rel=\"nofollow\">Twitter for iPhone</a>',\n",
      " 'text': '@DrexelUniv @LeBow @LeBowMBA Only thing I’m missing is the $1212 '\n",
      "         'dollars you’re charging per credit hour for classe… '\n",
      "         'https://t.co/yu0izRs4Xp',\n",
      " 'truncated': True,\n",
      " 'user': {'contributors_enabled': False,\n",
      "          'created_at': 'Sun Jul 17 21:42:35 +0000 2011',\n",
      "          'default_profile': False,\n",
      "          'default_profile_image': False,\n",
      "          'description': '“word of advice, don’t swing and miss... especially '\n",
      "                         'not your second time” -Tathan Martell',\n",
      "          'entities': {'description': {'urls': []}},\n",
      "          'favourites_count': 11153,\n",
      "          'follow_request_sent': None,\n",
      "          'followers_count': 435,\n",
      "          'following': None,\n",
      "          'friends_count': 536,\n",
      "          'geo_enabled': True,\n",
      "          'has_extended_profile': False,\n",
      "          'id': 337341854,\n",
      "          'id_str': '337341854',\n",
      "          'is_translation_enabled': False,\n",
      "          'is_translator': False,\n",
      "          'lang': None,\n",
      "          'listed_count': 1,\n",
      "          'location': 'Dresher, Pennsylvania',\n",
      "          'name': 'CDC Official',\n",
      "          'notifications': None,\n",
      "          'profile_background_color': 'FFFFFF',\n",
      "          'profile_background_image_url': 'http://abs.twimg.com/images/themes/theme14/bg.gif',\n",
      "          'profile_background_image_url_https': 'https://abs.twimg.com/images/themes/theme14/bg.gif',\n",
      "          'profile_background_tile': True,\n",
      "          'profile_banner_url': 'https://pbs.twimg.com/profile_banners/337341854/1565475222',\n",
      "          'profile_image_url': 'http://pbs.twimg.com/profile_images/1219076608893636610/hxucXj09_normal.jpg',\n",
      "          'profile_image_url_https': 'https://pbs.twimg.com/profile_images/1219076608893636610/hxucXj09_normal.jpg',\n",
      "          'profile_link_color': 'FF8400',\n",
      "          'profile_sidebar_border_color': 'FFFFFF',\n",
      "          'profile_sidebar_fill_color': 'DDEEF6',\n",
      "          'profile_text_color': '333333',\n",
      "          'profile_use_background_image': True,\n",
      "          'protected': False,\n",
      "          'screen_name': 'hashtag_chris',\n",
      "          'statuses_count': 10214,\n",
      "          'time_zone': None,\n",
      "          'translator_type': 'none',\n",
      "          'url': None,\n",
      "          'utc_offset': None,\n",
      "          'verified': False}}\n"
     ]
    }
   ],
   "source": [
    "tweet_id = 1250762697865678849\n",
    "for tweet in next_next_results['statuses']:\n",
    "    if tweet['in_reply_to_status_id'] == tweet_id:\n",
    "        pprint(tweet)\n",
    "        break"
   ]
  },
  {
   "cell_type": "markdown",
   "metadata": {
    "id": "4EQF1pAJs-L3"
   },
   "source": [
    "#### What about the mention timeline feature?\n",
    "Reviewing this approach to process mentions more efficiently, it unfortunately appears that the feature is only available to authenticated users, i.e., we can only see our own mentions timeline, or, if someone logs into our 'application'. So, we'll have to stick to the search feature for now, regardless."
   ]
  },
  {
   "cell_type": "code",
   "execution_count": null,
   "metadata": {
    "id": "brpDNVE1s-L4",
    "outputId": "262fea10-5119-4877-df7c-3725fba63e08",
    "scrolled": true
   },
   "outputs": [
    {
     "ename": "TwythonError",
     "evalue": "Twitter API returned a 403 (Forbidden), Your credentials do not allow access to this resource",
     "output_type": "error",
     "traceback": [
      "\u001b[0;31m---------------------------------------------------------------------------\u001b[0m",
      "\u001b[0;31mTwythonError\u001b[0m                              Traceback (most recent call last)",
      "\u001b[0;32m<ipython-input-20-a1c7949cec7d>\u001b[0m in \u001b[0;36m<module>\u001b[0;34m\u001b[0m\n\u001b[0;32m----> 1\u001b[0;31m \u001b[0mmentions_timeline_results\u001b[0m \u001b[0;34m=\u001b[0m \u001b[0mtwitter\u001b[0m\u001b[0;34m.\u001b[0m\u001b[0mget_mentions_timeline\u001b[0m\u001b[0;34m(\u001b[0m\u001b[0mname\u001b[0m \u001b[0;34m=\u001b[0m \u001b[0mscreen_name\u001b[0m\u001b[0;34m,\u001b[0m \u001b[0mcount\u001b[0m \u001b[0;34m=\u001b[0m \u001b[0;36m200\u001b[0m\u001b[0;34m)\u001b[0m\u001b[0;34m\u001b[0m\u001b[0;34m\u001b[0m\u001b[0m\n\u001b[0m",
      "\u001b[0;32m/usr/local/lib/python3.7/site-packages/twython/endpoints.py\u001b[0m in \u001b[0;36mget_mentions_timeline\u001b[0;34m(self, **params)\u001b[0m\n\u001b[1;32m     38\u001b[0m \u001b[0;34m\u001b[0m\u001b[0m\n\u001b[1;32m     39\u001b[0m         \"\"\"\n\u001b[0;32m---> 40\u001b[0;31m         \u001b[0;32mreturn\u001b[0m \u001b[0mself\u001b[0m\u001b[0;34m.\u001b[0m\u001b[0mget\u001b[0m\u001b[0;34m(\u001b[0m\u001b[0;34m'statuses/mentions_timeline'\u001b[0m\u001b[0;34m,\u001b[0m \u001b[0mparams\u001b[0m\u001b[0;34m=\u001b[0m\u001b[0mparams\u001b[0m\u001b[0;34m)\u001b[0m\u001b[0;34m\u001b[0m\u001b[0;34m\u001b[0m\u001b[0m\n\u001b[0m\u001b[1;32m     41\u001b[0m     \u001b[0mget_mentions_timeline\u001b[0m\u001b[0;34m.\u001b[0m\u001b[0miter_mode\u001b[0m \u001b[0;34m=\u001b[0m \u001b[0;34m'id'\u001b[0m\u001b[0;34m\u001b[0m\u001b[0;34m\u001b[0m\u001b[0m\n\u001b[1;32m     42\u001b[0m \u001b[0;34m\u001b[0m\u001b[0m\n",
      "\u001b[0;32m/usr/local/lib/python3.7/site-packages/twython/api.py\u001b[0m in \u001b[0;36mget\u001b[0;34m(self, endpoint, params, version)\u001b[0m\n\u001b[1;32m    276\u001b[0m     \u001b[0;32mdef\u001b[0m \u001b[0mget\u001b[0m\u001b[0;34m(\u001b[0m\u001b[0mself\u001b[0m\u001b[0;34m,\u001b[0m \u001b[0mendpoint\u001b[0m\u001b[0;34m,\u001b[0m \u001b[0mparams\u001b[0m\u001b[0;34m=\u001b[0m\u001b[0;32mNone\u001b[0m\u001b[0;34m,\u001b[0m \u001b[0mversion\u001b[0m\u001b[0;34m=\u001b[0m\u001b[0;34m'1.1'\u001b[0m\u001b[0;34m)\u001b[0m\u001b[0;34m:\u001b[0m\u001b[0;34m\u001b[0m\u001b[0;34m\u001b[0m\u001b[0m\n\u001b[1;32m    277\u001b[0m         \u001b[0;34m\"\"\"Shortcut for GET requests via :class:`request`\"\"\"\u001b[0m\u001b[0;34m\u001b[0m\u001b[0;34m\u001b[0m\u001b[0m\n\u001b[0;32m--> 278\u001b[0;31m         \u001b[0;32mreturn\u001b[0m \u001b[0mself\u001b[0m\u001b[0;34m.\u001b[0m\u001b[0mrequest\u001b[0m\u001b[0;34m(\u001b[0m\u001b[0mendpoint\u001b[0m\u001b[0;34m,\u001b[0m \u001b[0mparams\u001b[0m\u001b[0;34m=\u001b[0m\u001b[0mparams\u001b[0m\u001b[0;34m,\u001b[0m \u001b[0mversion\u001b[0m\u001b[0;34m=\u001b[0m\u001b[0mversion\u001b[0m\u001b[0;34m)\u001b[0m\u001b[0;34m\u001b[0m\u001b[0;34m\u001b[0m\u001b[0m\n\u001b[0m\u001b[1;32m    279\u001b[0m \u001b[0;34m\u001b[0m\u001b[0m\n\u001b[1;32m    280\u001b[0m     \u001b[0;32mdef\u001b[0m \u001b[0mpost\u001b[0m\u001b[0;34m(\u001b[0m\u001b[0mself\u001b[0m\u001b[0;34m,\u001b[0m \u001b[0mendpoint\u001b[0m\u001b[0;34m,\u001b[0m \u001b[0mparams\u001b[0m\u001b[0;34m=\u001b[0m\u001b[0;32mNone\u001b[0m\u001b[0;34m,\u001b[0m \u001b[0mversion\u001b[0m\u001b[0;34m=\u001b[0m\u001b[0;34m'1.1'\u001b[0m\u001b[0;34m,\u001b[0m \u001b[0mjson_encoded\u001b[0m\u001b[0;34m=\u001b[0m\u001b[0;32mFalse\u001b[0m\u001b[0;34m)\u001b[0m\u001b[0;34m:\u001b[0m\u001b[0;34m\u001b[0m\u001b[0;34m\u001b[0m\u001b[0m\n",
      "\u001b[0;32m/usr/local/lib/python3.7/site-packages/twython/api.py\u001b[0m in \u001b[0;36mrequest\u001b[0;34m(self, endpoint, method, params, version, json_encoded)\u001b[0m\n\u001b[1;32m    270\u001b[0m \u001b[0;34m\u001b[0m\u001b[0m\n\u001b[1;32m    271\u001b[0m         content = self._request(url, method=method, params=params,\n\u001b[0;32m--> 272\u001b[0;31m                                 api_call=url, json_encoded=json_encoded)\n\u001b[0m\u001b[1;32m    273\u001b[0m \u001b[0;34m\u001b[0m\u001b[0m\n\u001b[1;32m    274\u001b[0m         \u001b[0;32mreturn\u001b[0m \u001b[0mcontent\u001b[0m\u001b[0;34m\u001b[0m\u001b[0;34m\u001b[0m\u001b[0m\n",
      "\u001b[0;32m/usr/local/lib/python3.7/site-packages/twython/api.py\u001b[0m in \u001b[0;36m_request\u001b[0;34m(self, url, method, params, api_call, json_encoded)\u001b[0m\n\u001b[1;32m    202\u001b[0m                 \u001b[0merror_message\u001b[0m\u001b[0;34m,\u001b[0m\u001b[0;34m\u001b[0m\u001b[0;34m\u001b[0m\u001b[0m\n\u001b[1;32m    203\u001b[0m                 \u001b[0merror_code\u001b[0m\u001b[0;34m=\u001b[0m\u001b[0mresponse\u001b[0m\u001b[0;34m.\u001b[0m\u001b[0mstatus_code\u001b[0m\u001b[0;34m,\u001b[0m\u001b[0;34m\u001b[0m\u001b[0;34m\u001b[0m\u001b[0m\n\u001b[0;32m--> 204\u001b[0;31m                 retry_after=response.headers.get('X-Rate-Limit-Reset'))\n\u001b[0m\u001b[1;32m    205\u001b[0m         \u001b[0mcontent\u001b[0m \u001b[0;34m=\u001b[0m \u001b[0;34m''\u001b[0m\u001b[0;34m\u001b[0m\u001b[0;34m\u001b[0m\u001b[0m\n\u001b[1;32m    206\u001b[0m         \u001b[0;32mtry\u001b[0m\u001b[0;34m:\u001b[0m\u001b[0;34m\u001b[0m\u001b[0;34m\u001b[0m\u001b[0m\n",
      "\u001b[0;31mTwythonError\u001b[0m: Twitter API returned a 403 (Forbidden), Your credentials do not allow access to this resource"
     ]
    }
   ],
   "source": [
    "mentions_timeline_results = twitter.get_mentions_timeline(name = screen_name, count = 200)"
   ]
  },
  {
   "cell_type": "markdown",
   "metadata": {
    "id": "A84QfWYLs-L8"
   },
   "source": [
    "#### Building out the necessary functions\n",
    "The basic process of finding mentions of a target tweet (as above) can be thought of as 'leaf/branch discovery', mining out the new branches in the thread. So now that we have our technique (scroll through mentions and find any targeting our tweet), we just need to build a stack/queue of 'replying' mentions in the thread, and re-apply our mentions filtering algorithm until the stack/queue is exhausted.\n",
    "\n",
    "So, we need functions for these purposes."
   ]
  },
  {
   "cell_type": "markdown",
   "metadata": {
    "id": "gZJa_wlJs-L8"
   },
   "source": [
    "#### `get_mentions()`\n",
    "This first function simply requests up to five batches of mentions. The number of batches in this function is truly a parameter of the implementation, and ideally a different stopping mechanism or incremental application would be ideal, and as a result directions for future development. As it turns out, this process is very call-intensive, so optimize the calls will be essential over time."
   ]
  },
  {
   "cell_type": "code",
   "execution_count": null,
   "metadata": {
    "id": "yfq1VPjzs-L8"
   },
   "outputs": [],
   "source": [
    "def get_mentions(screen_name = 'drexeluniv'):\n",
    "    mentions = dict()\n",
    "    results = twitter.search(q = \"@\" + screen_name, count = 100, tweet_mode='extended')\n",
    "    call_count = 1\n",
    "    while results['statuses'] and call_count < 5:\n",
    "        for tweet in results['statuses']:\n",
    "            mentions[tweet['id']] = tweet\n",
    "        max_id = min([tweet['id'] for tweet in results['statuses']]) - 1\n",
    "        next_results = twitter.search(q = \"@\" + screen_name, count = 100, \n",
    "                                      tweet_mode='extended', max_id = max_id)\n",
    "        results = next_results\n",
    "        call_count += 1\n",
    "    return mentions"
   ]
  },
  {
   "cell_type": "markdown",
   "metadata": {
    "id": "huThtgAIs-MA"
   },
   "source": [
    "#### `filter_mentions()`\n",
    "This function's job is to look through a batch of mentions and keep any which target tweets in a designated set. The reasoning for this is to move towards a batch implementation, assuming that users will often repeatedly mention (reply to) each other. However, this aspect of the function is not presently fully utilized and would be a direction for development."
   ]
  },
  {
   "cell_type": "code",
   "execution_count": null,
   "metadata": {
    "id": "ffGN7bh-s-MA"
   },
   "outputs": [],
   "source": [
    "def filter_mentions(mentions, screen_name = '', targets = set()):\n",
    "    filtered = {}\n",
    "    for tid in mentions:\n",
    "        if 'in_reply_to_screen_name' in mentions[tid]:\n",
    "            if ((screen_name and (mentions[tid]['in_reply_to_screen_name'] == screen_name)) or\n",
    "                (not screen_name and (mentions[tid]['in_reply_to_status_id'] in targets))):\n",
    "                filtered[tid] = mentions[tid]\n",
    "    return filtered"
   ]
  },
  {
   "cell_type": "markdown",
   "metadata": {
    "id": "WpiYElMRs-MD"
   },
   "source": [
    "#### `get_threads()`\n",
    "This is the control function which manages the mentions acquisiton and filtration process. Most importantly, the function manages the `target_users` queue (first in first out) of users to have their mentions filtered for replies. \n",
    "\n",
    "This simply implementation really just relys on the `target_users` object's boolean value in a `while` loop, and managing the state of <i>both</i> of the `target_users` and `targets` object, the latter of which associates the target tweet `id`s to the mentioning users names, i.e., so we can filter their mentions for any subsequent replies.\n",
    "\n",
    "This queue implementation is simple, and differs from the inspirational github gist:\n",
    "\n",
    "- https://gist.github.com/edsu/54e6f7d63df3866a87a15aed17b51eaf\n",
    "\n",
    "which uses recusion. So in addition to the other development directions, another important task will be reviewing the efficiency of a recursive implementation, and its convenience with respect to effectively managing rate limits."
   ]
  },
  {
   "cell_type": "code",
   "execution_count": null,
   "metadata": {
    "id": "PqFRCtLfs-ME"
   },
   "outputs": [],
   "source": [
    "from collections import defaultdict\n",
    "\n",
    "def get_threads(tid = 1250762697865678849, screen_name = 'drexeluniv'):\n",
    "    \n",
    "    mentions = {screen_name: get_mentions(screen_name)}\n",
    "    tweets = filter_mentions(mentions[screen_name], targets = set([tid]))\n",
    "    \n",
    "    tweets_to_get = {tweets[tid]['in_reply_to_status_id'] for tid in tweets}\n",
    "    ##\n",
    "    targets = defaultdict(set)\n",
    "    for tid in tweets:\n",
    "        targets[tweets[tid]['user']['screen_name']].add(tid)\n",
    "    \n",
    "    target_users = list(targets.keys())\n",
    "    print(len(mentions), len(tweets), len(target_users))\n",
    "    while target_users:\n",
    "        target_screen_name = target_users.pop(0)\n",
    "        if target_screen_name not in mentions:\n",
    "            mentions[target_screen_name] = get_mentions(target_screen_name)\n",
    "        new_tweets = filter_mentions(mentions[target_screen_name], \n",
    "                                     targets = targets[target_screen_name])\n",
    "        del(targets[target_screen_name])\n",
    "        for tid in new_tweets:\n",
    "            targets[new_tweets[tid]['user']['screen_name']].add(tid)\n",
    "            tweets[tid] = new_tweets[tid]\n",
    "            target_users.append(new_tweets[tid]['user']['screen_name'])\n",
    "        print(len(mentions), len(tweets), len(target_users))\n",
    "        \n",
    "    return(tweets, mentions)   "
   ]
  },
  {
   "cell_type": "markdown",
   "metadata": {
    "id": "pV-kIIdls-MG"
   },
   "source": [
    "#### Intrepreting our results\n",
    "In our code we're still printing out the `len()` of the `mentions`, `tweets`,and `target_users` objects. As it runs, we can see the numbers of tracked users (keys by `user` `id` in `mentions`) going up, along with the number of objects in `tweets` (keyed by tweet `id`) in the thread.\n",
    "\n",
    "Reviewing the full texts, we can see the tweets are indeed those that we started with in our example."
   ]
  },
  {
   "cell_type": "code",
   "execution_count": null,
   "metadata": {
    "id": "eBrDUd7Ms-MH",
    "outputId": "5561cda3-4ab9-4e39-f504-38f0adea4815"
   },
   "outputs": [
    {
     "name": "stdout",
     "output_type": "stream",
     "text": [
      "1 1 1\n",
      "2 2 1\n",
      "3 3 1\n",
      "3 4 1\n",
      "3 6 2\n",
      "3 6 1\n",
      "3 6 0\n"
     ]
    }
   ],
   "source": [
    "tweets, mentions = get_threads(tid = 1250762697865678849, screen_name = 'drexeluniv')"
   ]
  },
  {
   "cell_type": "code",
   "execution_count": null,
   "metadata": {
    "id": "mMleEnDjs-MK",
    "outputId": "909ed5d9-5fce-413a-9138-9f9ed234ca83"
   },
   "outputs": [
    {
     "data": {
      "text/plain": [
       "['@DrexelUniv @LeBow @LeBowMBA Only thing I’m missing is the $1212 dollars you’re charging per credit hour for classes that have lost all their value because labs are closed',\n",
       " '@hashtag_chris @DrexelUniv @LeBow @LeBowMBA You do realize that Drexel and thousands of other schools didn’t want this at all, but had to adapt in a short time for it. Suck it up.',\n",
       " '@therealmaart @DrexelUniv @LeBow @LeBowMBA Hey guys I found the guy who doesn’t have any student loans and mommy and daddy pays their entire tuition!',\n",
       " '@hashtag_chris @DrexelUniv @LeBow @LeBowMBA Nope, exact opposite. I’m paying it all myself. Stay woke bro.',\n",
       " '@therealmaart @DrexelUniv @LeBow @LeBowMBA https://t.co/q36UvC1FSO',\n",
       " '@therealmaart @DrexelUniv @LeBow @LeBowMBA So you like getting charged the same amount for a lesser product? Your argument is dumber than your haircut.']"
      ]
     },
     "execution_count": 33,
     "metadata": {
      "tags": []
     },
     "output_type": "execute_result"
    }
   ],
   "source": [
    "[tweets[tid]['full_text'] for tid in tweets]"
   ]
  },
  {
   "cell_type": "markdown",
   "metadata": {
    "id": "nFOCnCb8s-MN"
   },
   "source": [
    "#### So what's next?\n",
    "To emphasize from above mentioned directions, we will really have to focus on optimizing our calls to fall inside of our rate limit. To see our limit, here some basic utility using the `datetime` module (which we'll begin to utilize in future chapters) to make our 'reset time', i.e., the end of the current 15-minute window in a human-readable format (as opposed to unix time).\n",
    "\n",
    "From this example (and an additional debug set of ~5 calls), we've used around 10 calls to populate a thread of seven tweets. This is expensive!"
   ]
  },
  {
   "cell_type": "code",
   "execution_count": null,
   "metadata": {
    "id": "7XDRWlM7s-MO",
    "outputId": "b34a8eb8-8082-487c-9e47-c07f4aa7e51e"
   },
   "outputs": [
    {
     "name": "stdout",
     "output_type": "stream",
     "text": [
      "['450', '436', None, '1587569318']\n",
      "2020-04-22 15:28:38\n"
     ]
    }
   ],
   "source": [
    "from datetime import datetime as dt\n",
    "headers = [twitter.get_lastfunction_header(x) for x in \n",
    "           ['x-rate-limit-limit', 'x-rate-limit-remaining', \n",
    "            'x-rate-limit-class', 'x-rate-limit-reset']]\n",
    "print(headers)\n",
    "\n",
    "print(dt.utcfromtimestamp(int(headers[-1])).strftime('%Y-%m-%d %H:%M:%S'))"
   ]
  },
  {
   "cell_type": "markdown",
   "metadata": {
    "id": "Y1mbmUNcs-MQ"
   },
   "source": [
    "### B. Explore Reddit's pushshift api:\n",
    "Reddit's API's aren't quite as clear and comprehensive as Twitters and as result, the best archive I've seen of complete historical Reddit data is hosted by a third party:\n",
    "\n",
    "- https://github.com/pushshift/api\n",
    "- https://pushshift.io/api-parameters/\n",
    "\n",
    "Let's plan as above to explore this (unauthenticated) API, focused with the intention of mining out comment threads. \n",
    "\n",
    "Of particular use to us will be the referenced call to Get all Comment IDs for a particular Submission:\n",
    "\n",
    "- https://github.com/pushshift/api#get-all-comment-ids-for-a-particular-submission\n",
    "\n",
    "in addition to the endpoint which will allow us to get all comments from a comma-separated list of ids:\n",
    "\n",
    "- https://github.com/pushshift/api#getting-comments-based-on-id\n",
    "\n",
    "Let's work from here, considering the following submission (post) id: `j1dynm`.\n",
    "\n",
    "Note: we should take extra care to determine if these submission ids are complete, or just the direct replies to the original submission. If they're only these 'top level' replies, then we'll have to approach via the same methods as the Twitter API, recursively or iteratively searching for replies to individual comment objects. If not, then we're in excellent shape to begin requesting the comment objects. Regardless, we may have to adhere to the API's `size` parameter which accepts values $\\leq500$, so we should be a little bit cautious here."
   ]
  },
  {
   "cell_type": "markdown",
   "metadata": {
    "id": "24Q4Pcf0VwEf"
   },
   "source": [
    "#### Discussion\n",
    "Substituting the provided submission id (`j1dynm`) into the `/submission/comment_ids/` endpoint, we receive a fairly-simply constructed list of comment ids:"
   ]
  },
  {
   "cell_type": "code",
   "execution_count": null,
   "metadata": {
    "id": "NXtDuh9mDPKt"
   },
   "outputs": [],
   "source": [
    "url = \"https://api.pushshift.io/reddit/submission/comment_ids/j1dynm\"\n",
    "resp = requests.get(url)\n",
    "ids = resp.json()"
   ]
  },
  {
   "cell_type": "code",
   "execution_count": null,
   "metadata": {
    "colab": {
     "base_uri": "https://localhost:8080/",
     "height": 208
    },
    "executionInfo": {
     "elapsed": 165,
     "status": "ok",
     "timestamp": 1601939958919,
     "user": {
      "displayName": "Dr. Jake",
      "photoUrl": "",
      "userId": "10996578946780976051"
     },
     "user_tz": 240
    },
    "id": "LrRK_k16DmkV",
    "outputId": "d4af86cf-5b71-4722-9707-5bf071da0d34"
   },
   "outputs": [
    {
     "data": {
      "text/plain": [
       "(5231,\n",
       " ['g6yjzut',\n",
       "  'g6yk9gi',\n",
       "  'g6ykhxs',\n",
       "  'g6ylfml',\n",
       "  'g6ylry5',\n",
       "  'g6ylwv8',\n",
       "  'g6ymza0',\n",
       "  'g6yo2be',\n",
       "  'g6yongq',\n",
       "  'g6yp07d'])"
      ]
     },
     "execution_count": 80,
     "metadata": {
      "tags": []
     },
     "output_type": "execute_result"
    }
   ],
   "source": [
    "len(ids['data']), ids['data'][:10]"
   ]
  },
  {
   "cell_type": "markdown",
   "metadata": {
    "id": "rJfKOAZtWRaP"
   },
   "source": [
    "Yikes, it looks like this submission has over 5,000 comments. So, can we use the `comment/search?ids=` endpoint with a comma-separated string of ids? "
   ]
  },
  {
   "cell_type": "code",
   "execution_count": null,
   "metadata": {
    "colab": {
     "base_uri": "https://localhost:8080/",
     "height": 53
    },
    "executionInfo": {
     "elapsed": 359,
     "status": "ok",
     "timestamp": 1601940933563,
     "user": {
      "displayName": "Dr. Jake",
      "photoUrl": "",
      "userId": "10996578946780976051"
     },
     "user_tz": 240
    },
    "id": "9Fw7GYObHRcO",
    "outputId": "95454abe-3e04-41bb-cbd3-af00d71d2a24"
   },
   "outputs": [
    {
     "data": {
      "application/vnd.google.colaboratory.intrinsic+json": {
       "type": "string"
      },
      "text/plain": [
       "'<html>\\r\\n<head><title>414 Request-URI Too Large</title></head>\\r\\n<body>\\r\\n<center><h1>414 Request-URI Too Large</h1></center>\\r\\n<hr><center>cloudflare</center>\\r\\n</body>\\r\\n</html>\\r\\n'"
      ]
     },
     "execution_count": 91,
     "metadata": {
      "tags": []
     },
     "output_type": "execute_result"
    }
   ],
   "source": [
    "url = \"https://api.pushshift.io/reddit/comment/search?ids=\" + ','.join(ids['data'])\n",
    "requests.get(url).text"
   ]
  },
  {
   "cell_type": "markdown",
   "metadata": {
    "id": "ZwCDFS36W0bZ"
   },
   "source": [
    "So unfortunately this quantity of comments is too much for a single call! But it's not the API which has denied our request for too many comments (>500), but rather that the URI (URL) is too large! \n",
    "\n",
    "However, we can batch the requests! Since 500 does appear to be the size limit on other endpoints we'll use batches of that size. The mecahnics of this downloader utilize `batch_size` as a fixed parameter and list slices on the `ids` from our first API call to operate the multiple requests needed to collect the full set of comments:"
   ]
  },
  {
   "cell_type": "code",
   "execution_count": null,
   "metadata": {
    "colab": {
     "base_uri": "https://localhost:8080/",
     "height": 34
    },
    "executionInfo": {
     "elapsed": 53541,
     "status": "ok",
     "timestamp": 1601942085339,
     "user": {
      "displayName": "Dr. Jake",
      "photoUrl": "",
      "userId": "10996578946780976051"
     },
     "user_tz": 240
    },
    "id": "KnSBFegBFVkp",
    "outputId": "43d897de-3ac5-4874-c144-9128b81342e1"
   },
   "outputs": [
    {
     "data": {
      "text/plain": [
       "5231"
      ]
     },
     "execution_count": 99,
     "metadata": {
      "tags": []
     },
     "output_type": "execute_result"
    }
   ],
   "source": [
    "all_comments = []\n",
    "batch_size = 500\n",
    "for batch_num in range(len(ids['data'])//batch_size):\n",
    "  url = \"https://api.pushshift.io/reddit/comment/search?ids=\" + ','.join(ids['data'][batch_size*batch_num:batch_size*(batch_num + 1)])\n",
    "  resp = requests.get(url)\n",
    "  comments = resp.json()\n",
    "  all_comments.extend(comments['data'])\n",
    "\n",
    "if len(all_comments) != len(ids['data']):\n",
    "  url = \"https://api.pushshift.io/reddit/comment/search?ids=\" + ','.join(ids['data'][len(all_comments):])\n",
    "  resp = requests.get(url)\n",
    "  comments = resp.json()\n",
    "  all_comments.extend(comments['data'])\n",
    "\n",
    "len(all_comments)"
   ]
  },
  {
   "cell_type": "markdown",
   "metadata": {
    "id": "-hUQKu1C09Kc"
   },
   "source": [
    "### C. Investigate the ProPublica API\n",
    "\n",
    "As an additional exercise we'll investigate the availability of congressional data from ProPublica's API:\n",
    "\n",
    "- https://www.propublica.org/datastore/api/propublica-congress-api\n",
    "\n",
    "You'll have to request an api key, which you can do via the link above. To pass our key through the api, we'll have to use a header, in a format like:\n",
    "\n",
    "```\n",
    "requests.get(URL, headers={'X-API-Key': key})\n",
    "```\n",
    "\n",
    "As a target, let's see if we can find the transcript of the recent congressional hearing from the House Committee on the Judiciary:\n",
    "\n",
    "- https://www.congress.gov/event/116th-congress/house-event/110883\n",
    "- https://docs.house.gov/Committee/Calendar/ByEvent.aspx?EventID=110883\n",
    "- https://docs.house.gov/Committee/Calendar/ByDay.aspx?DayID=07292020\n",
    "\n",
    "We can start by looking for our committee on the list provided by the following endpoint:\n",
    "\n",
    "- https://projects.propublica.org/api-docs/congress-api/committees/#lists-of-committees\n",
    "\n",
    "From this we'll be able to determine our specific committee's id, and then use the endpoint for hearing from a specific committee:\n",
    "\n",
    "- https://projects.propublica.org/api-docs/congress-api/committees/#get-hearings-for-a-specific-committee\n",
    "\n",
    "If it turns out our hearing isn't listed, we might be able to check and see how up to date the data are, by looking at what hearings are 'recent':\n",
    "\n",
    "- https://projects.propublica.org/api-docs/congress-api/committees/#get-recent-committee-hearings\n",
    "\n",
    "#### Discussion\n",
    "Taking a look at the committees, we can see that the committee of interest is keyed by `'id': 'HSJU'`."
   ]
  },
  {
   "cell_type": "code",
   "execution_count": null,
   "metadata": {
    "colab": {
     "base_uri": "https://localhost:8080/",
     "height": 1000
    },
    "executionInfo": {
     "elapsed": 1080,
     "status": "ok",
     "timestamp": 1601923203762,
     "user": {
      "displayName": "Dr. Jake",
      "photoUrl": "",
      "userId": "10996578946780976051"
     },
     "user_tz": 240
    },
    "id": "M-RZWfie1GtY",
    "outputId": "40668758-7bab-4ff7-9307-f3570d7b0bc6"
   },
   "outputs": [
    {
     "data": {
      "text/plain": [
       "{'copyright': 'Copyright (c) 2020 Pro Publica Inc. All Rights Reserved.',\n",
       " 'results': [{'chamber': 'House',\n",
       "   'committees': [{'api_uri': 'https://api.propublica.org/congress/v1/116/house/committees/HSHA.json',\n",
       "     'chair': 'Zoe Lofgren',\n",
       "     'chair_id': 'L000397',\n",
       "     'chair_party': 'D',\n",
       "     'chair_state': 'CA',\n",
       "     'chair_uri': 'https://api.propublica.org/congress/v1/members/L000397.json',\n",
       "     'chamber': 'House',\n",
       "     'id': 'HSHA',\n",
       "     'name': 'Committee on Administration',\n",
       "     'ranking_member_id': 'D000619',\n",
       "     'subcommittees': [{'api_uri': 'https://api.propublica.org/congress/v1/116/house/committees/HSHA/subcommittees/HSHA01.json',\n",
       "       'id': 'HSHA01',\n",
       "       'name': 'Elections'},\n",
       "      {'api_uri': 'https://api.propublica.org/congress/v1/116/house/committees/HSHA/subcommittees/HSHA08.json',\n",
       "       'id': 'HSHA08',\n",
       "       'name': 'Elections'}],\n",
       "     'url': 'https://cha.house.gov/'},\n",
       "    {'api_uri': 'https://api.propublica.org/congress/v1/116/house/committees/HSAG.json',\n",
       "     'chair': 'Collin C. Peterson',\n",
       "     'chair_id': 'P000258',\n",
       "     'chair_party': 'D',\n",
       "     'chair_state': 'MN',\n",
       "     'chair_uri': 'https://api.propublica.org/congress/v1/members/P000258.json',\n",
       "     'chamber': 'House',\n",
       "     'id': 'HSAG',\n",
       "     'name': 'Committee on Agriculture',\n",
       "     'ranking_member_id': 'C001062',\n",
       "     'subcommittees': [{'api_uri': 'https://api.propublica.org/congress/v1/116/house/committees/HSAG/subcommittees/HSAG03.json',\n",
       "       'id': 'HSAG03',\n",
       "       'name': 'Nutrition, Oversight, and Department Operations'},\n",
       "      {'api_uri': 'https://api.propublica.org/congress/v1/116/house/committees/HSAG/subcommittees/HSAG16.json',\n",
       "       'id': 'HSAG16',\n",
       "       'name': 'General Farm Commodities and Risk Management'},\n",
       "      {'api_uri': 'https://api.propublica.org/congress/v1/116/house/committees/HSAG/subcommittees/HSAG15.json',\n",
       "       'id': 'HSAG15',\n",
       "       'name': 'Conservation and Forestry'},\n",
       "      {'api_uri': 'https://api.propublica.org/congress/v1/116/house/committees/HSAG/subcommittees/HSAG22.json',\n",
       "       'id': 'HSAG22',\n",
       "       'name': 'Commodity Exchanges, Energy, and Credit'},\n",
       "      {'api_uri': 'https://api.propublica.org/congress/v1/116/house/committees/HSAG/subcommittees/HSAG29.json',\n",
       "       'id': 'HSAG29',\n",
       "       'name': 'Livestock and Foreign Agriculture'},\n",
       "      {'api_uri': 'https://api.propublica.org/congress/v1/116/house/committees/HSAG/subcommittees/HSAG14.json',\n",
       "       'id': 'HSAG14',\n",
       "       'name': 'Biotechnology, Horticulture, and Research'}],\n",
       "     'url': 'https://agriculture.house.gov/'},\n",
       "    {'api_uri': 'https://api.propublica.org/congress/v1/116/house/committees/HSAP.json',\n",
       "     'chair': 'Nita M. Lowey',\n",
       "     'chair_id': 'L000480',\n",
       "     'chair_party': 'D',\n",
       "     'chair_state': 'NY',\n",
       "     'chair_uri': 'https://api.propublica.org/congress/v1/members/L000480.json',\n",
       "     'chamber': 'House',\n",
       "     'id': 'HSAP',\n",
       "     'name': 'Committee on Appropriations',\n",
       "     'ranking_member_id': 'G000377',\n",
       "     'subcommittees': [{'api_uri': 'https://api.propublica.org/congress/v1/116/house/committees/HSAP/subcommittees/HSAP01.json',\n",
       "       'id': 'HSAP01',\n",
       "       'name': 'Agriculture, Rural Development, Food and Drug Administration, and Related Agencies'},\n",
       "      {'api_uri': 'https://api.propublica.org/congress/v1/116/house/committees/HSAP/subcommittees/HSAP19.json',\n",
       "       'id': 'HSAP19',\n",
       "       'name': 'Commerce, Justice, Science, and Related Agencies'},\n",
       "      {'api_uri': 'https://api.propublica.org/congress/v1/116/house/committees/HSAP/subcommittees/HSAP02.json',\n",
       "       'id': 'HSAP02',\n",
       "       'name': 'Defense'},\n",
       "      {'api_uri': 'https://api.propublica.org/congress/v1/116/house/committees/HSAP/subcommittees/HSAP10.json',\n",
       "       'id': 'HSAP10',\n",
       "       'name': 'Energy and Water Development, and Related Agencies'},\n",
       "      {'api_uri': 'https://api.propublica.org/congress/v1/116/house/committees/HSAP/subcommittees/HSAP23.json',\n",
       "       'id': 'HSAP23',\n",
       "       'name': 'Financial Services and General Government'},\n",
       "      {'api_uri': 'https://api.propublica.org/congress/v1/116/house/committees/HSAP/subcommittees/HSAP15.json',\n",
       "       'id': 'HSAP15',\n",
       "       'name': 'Homeland Security'},\n",
       "      {'api_uri': 'https://api.propublica.org/congress/v1/116/house/committees/HSAP/subcommittees/HSAP06.json',\n",
       "       'id': 'HSAP06',\n",
       "       'name': 'Interior, Environment, and Related Agencies'},\n",
       "      {'api_uri': 'https://api.propublica.org/congress/v1/116/house/committees/HSAP/subcommittees/HSAP07.json',\n",
       "       'id': 'HSAP07',\n",
       "       'name': 'Labor, Health and Human Services, Education, and Related Agencies'},\n",
       "      {'api_uri': 'https://api.propublica.org/congress/v1/116/house/committees/HSAP/subcommittees/HSAP24.json',\n",
       "       'id': 'HSAP24',\n",
       "       'name': 'Legislative Branch'},\n",
       "      {'api_uri': 'https://api.propublica.org/congress/v1/116/house/committees/HSAP/subcommittees/HSAP18.json',\n",
       "       'id': 'HSAP18',\n",
       "       'name': 'Military Construction, Veterans Affairs, and Related Agencies'},\n",
       "      {'api_uri': 'https://api.propublica.org/congress/v1/116/house/committees/HSAP/subcommittees/HSAP04.json',\n",
       "       'id': 'HSAP04',\n",
       "       'name': 'State, Foreign Operations, and Related Programs'},\n",
       "      {'api_uri': 'https://api.propublica.org/congress/v1/116/house/committees/HSAP/subcommittees/HSAP20.json',\n",
       "       'id': 'HSAP20',\n",
       "       'name': 'Transportation, and Housing and Urban Development, and Related Agencies'}],\n",
       "     'url': 'https://appropriations.house.gov/'},\n",
       "    {'api_uri': 'https://api.propublica.org/congress/v1/116/house/committees/HSAS.json',\n",
       "     'chair': 'Adam Smith',\n",
       "     'chair_id': 'S000510',\n",
       "     'chair_party': 'D',\n",
       "     'chair_state': 'WA',\n",
       "     'chair_uri': 'https://api.propublica.org/congress/v1/members/S000510.json',\n",
       "     'chamber': 'House',\n",
       "     'id': 'HSAS',\n",
       "     'name': 'Committee on Armed Services',\n",
       "     'ranking_member_id': 'T000238',\n",
       "     'subcommittees': [{'api_uri': 'https://api.propublica.org/congress/v1/116/house/committees/HSAS/subcommittees/HSAS25.json',\n",
       "       'id': 'HSAS25',\n",
       "       'name': 'Tactical Air and Land Forces'},\n",
       "      {'api_uri': 'https://api.propublica.org/congress/v1/116/house/committees/HSAS/subcommittees/HSAS02.json',\n",
       "       'id': 'HSAS02',\n",
       "       'name': 'Military Personnel'},\n",
       "      {'api_uri': 'https://api.propublica.org/congress/v1/116/house/committees/HSAS/subcommittees/HSAS03.json',\n",
       "       'id': 'HSAS03',\n",
       "       'name': 'Readiness'},\n",
       "      {'api_uri': 'https://api.propublica.org/congress/v1/116/house/committees/HSAS/subcommittees/HSAS28.json',\n",
       "       'id': 'HSAS28',\n",
       "       'name': 'Seapower and Projection Forces'},\n",
       "      {'api_uri': 'https://api.propublica.org/congress/v1/116/house/committees/HSAS/subcommittees/HSAS29.json',\n",
       "       'id': 'HSAS29',\n",
       "       'name': 'Strategic Forces'},\n",
       "      {'api_uri': 'https://api.propublica.org/congress/v1/116/house/committees/HSAS/subcommittees/HSAS26.json',\n",
       "       'id': 'HSAS26',\n",
       "       'name': 'Intelligence and Emerging Threats and Capabilities'}],\n",
       "     'url': 'https://armedservices.house.gov/'},\n",
       "    {'api_uri': 'https://api.propublica.org/congress/v1/116/house/committees/HSED.json',\n",
       "     'chair': 'Robert C. Scott',\n",
       "     'chair_id': 'S000185',\n",
       "     'chair_party': 'D',\n",
       "     'chair_state': 'VA',\n",
       "     'chair_uri': 'https://api.propublica.org/congress/v1/members/S000185.json',\n",
       "     'chamber': 'House',\n",
       "     'id': 'HSED',\n",
       "     'name': 'Committee on Education and Labor',\n",
       "     'ranking_member_id': 'F000450',\n",
       "     'subcommittees': [{'api_uri': 'https://api.propublica.org/congress/v1/116/house/committees/HSED/subcommittees/HSED14.json',\n",
       "       'id': 'HSED14',\n",
       "       'name': 'Early Childhood, Elementary, and Secondary Education'},\n",
       "      {'api_uri': 'https://api.propublica.org/congress/v1/116/house/committees/HSED/subcommittees/HSED02.json',\n",
       "       'id': 'HSED02',\n",
       "       'name': 'Health, Employment, Labor, and Pensions'},\n",
       "      {'api_uri': 'https://api.propublica.org/congress/v1/116/house/committees/HSED/subcommittees/HSED13.json',\n",
       "       'id': 'HSED13',\n",
       "       'name': 'Higher Education and Workforce Investment'},\n",
       "      {'api_uri': 'https://api.propublica.org/congress/v1/116/house/committees/HSED/subcommittees/HSED10.json',\n",
       "       'id': 'HSED10',\n",
       "       'name': 'Workforce Protections'},\n",
       "      {'api_uri': 'https://api.propublica.org/congress/v1/116/house/committees/HSED/subcommittees/HSED07.json',\n",
       "       'id': 'HSED07',\n",
       "       'name': 'Civil Rights and Human Services'}],\n",
       "     'url': 'https://edlabor.house.gov/'},\n",
       "    {'api_uri': 'https://api.propublica.org/congress/v1/116/house/committees/HSIF.json',\n",
       "     'chair': 'Frank Pallone',\n",
       "     'chair_id': 'P000034',\n",
       "     'chair_party': 'D',\n",
       "     'chair_state': 'NJ',\n",
       "     'chair_uri': 'https://api.propublica.org/congress/v1/members/P000034.json',\n",
       "     'chamber': 'House',\n",
       "     'id': 'HSIF',\n",
       "     'name': 'Committee on Energy and Commerce',\n",
       "     'ranking_member_id': 'W000791',\n",
       "     'subcommittees': [{'api_uri': 'https://api.propublica.org/congress/v1/116/house/committees/HSIF/subcommittees/HSIF17.json',\n",
       "       'id': 'HSIF17',\n",
       "       'name': 'Consumer Protection and Commerce'},\n",
       "      {'api_uri': 'https://api.propublica.org/congress/v1/116/house/committees/HSIF/subcommittees/HSIF16.json',\n",
       "       'id': 'HSIF16',\n",
       "       'name': 'Communications and Technology'},\n",
       "      {'api_uri': 'https://api.propublica.org/congress/v1/116/house/committees/HSIF/subcommittees/HSIF03.json',\n",
       "       'id': 'HSIF03',\n",
       "       'name': 'Energy'},\n",
       "      {'api_uri': 'https://api.propublica.org/congress/v1/116/house/committees/HSIF/subcommittees/HSIF14.json',\n",
       "       'id': 'HSIF14',\n",
       "       'name': 'Health'},\n",
       "      {'api_uri': 'https://api.propublica.org/congress/v1/116/house/committees/HSIF/subcommittees/HSIF02.json',\n",
       "       'id': 'HSIF02',\n",
       "       'name': 'Oversight and Investigations'},\n",
       "      {'api_uri': 'https://api.propublica.org/congress/v1/116/house/committees/HSIF/subcommittees/HSIF18.json',\n",
       "       'id': 'HSIF18',\n",
       "       'name': 'Environment and Climate Change'}],\n",
       "     'url': 'https://energycommerce.house.gov/'},\n",
       "    {'api_uri': 'https://api.propublica.org/congress/v1/116/house/committees/HSSO.json',\n",
       "     'chair': 'Ted Deutch',\n",
       "     'chair_id': 'D000610',\n",
       "     'chair_party': 'D',\n",
       "     'chair_state': 'FL',\n",
       "     'chair_uri': 'https://api.propublica.org/congress/v1/members/D000610.json',\n",
       "     'chamber': 'House',\n",
       "     'id': 'HSSO',\n",
       "     'name': 'Committee on Ethics',\n",
       "     'ranking_member_id': 'M001158',\n",
       "     'subcommittees': [],\n",
       "     'url': 'https://ethics.house.gov/'},\n",
       "    {'api_uri': 'https://api.propublica.org/congress/v1/116/house/committees/HSBA.json',\n",
       "     'chair': 'Maxine Waters',\n",
       "     'chair_id': 'W000187',\n",
       "     'chair_party': 'D',\n",
       "     'chair_state': 'CA',\n",
       "     'chair_uri': 'https://api.propublica.org/congress/v1/members/W000187.json',\n",
       "     'chamber': 'House',\n",
       "     'id': 'HSBA',\n",
       "     'name': 'Committee on Financial Services',\n",
       "     'ranking_member_id': 'M001156',\n",
       "     'subcommittees': [{'api_uri': 'https://api.propublica.org/congress/v1/116/house/committees/HSBA/subcommittees/HSBA16.json',\n",
       "       'id': 'HSBA16',\n",
       "       'name': 'Investor Protection, Entrepreneurship, and Capital Markets'},\n",
       "      {'api_uri': 'https://api.propublica.org/congress/v1/116/house/committees/HSBA/subcommittees/HSBA15.json',\n",
       "       'id': 'HSBA15',\n",
       "       'name': 'Consumer Protection and Financial Institutions'},\n",
       "      {'api_uri': 'https://api.propublica.org/congress/v1/116/house/committees/HSBA/subcommittees/HSBA04.json',\n",
       "       'id': 'HSBA04',\n",
       "       'name': 'Housing, Community Development, and Insurance'},\n",
       "      {'api_uri': 'https://api.propublica.org/congress/v1/116/house/committees/HSBA/subcommittees/HSBA09.json',\n",
       "       'id': 'HSBA09',\n",
       "       'name': 'Oversight and Investigations'},\n",
       "      {'api_uri': 'https://api.propublica.org/congress/v1/116/house/committees/HSBA/subcommittees/HSBA01.json',\n",
       "       'id': 'HSBA01',\n",
       "       'name': 'National Security, International Development, and Monetary Policy'},\n",
       "      {'api_uri': 'https://api.propublica.org/congress/v1/116/house/committees/HSBA/subcommittees/HSBA13.json',\n",
       "       'id': 'HSBA13',\n",
       "       'name': 'Diversity and Inclusion'}],\n",
       "     'url': 'https://financialservices.house.gov/'},\n",
       "    {'api_uri': 'https://api.propublica.org/congress/v1/116/house/committees/HSFA.json',\n",
       "     'chair': 'Eliot L. Engel',\n",
       "     'chair_id': 'E000179',\n",
       "     'chair_party': 'D',\n",
       "     'chair_state': 'NY',\n",
       "     'chair_uri': 'https://api.propublica.org/congress/v1/members/E000179.json',\n",
       "     'chamber': 'House',\n",
       "     'id': 'HSFA',\n",
       "     'name': 'Committee on Foreign Affairs',\n",
       "     'ranking_member_id': 'M001157',\n",
       "     'subcommittees': [{'api_uri': 'https://api.propublica.org/congress/v1/116/house/committees/HSFA/subcommittees/HSFA16.json',\n",
       "       'id': 'HSFA16',\n",
       "       'name': 'Africa, Global Health, Global Human Rights, and International Organizations'},\n",
       "      {'api_uri': 'https://api.propublica.org/congress/v1/116/house/committees/HSFA/subcommittees/HSFA05.json',\n",
       "       'id': 'HSFA05',\n",
       "       'name': 'Asia, the Pacific, and Nonproliferation'},\n",
       "      {'api_uri': 'https://api.propublica.org/congress/v1/116/house/committees/HSFA/subcommittees/HSFA14.json',\n",
       "       'id': 'HSFA14',\n",
       "       'name': 'Europe, Eurasia, Energy, and the Environment'},\n",
       "      {'api_uri': 'https://api.propublica.org/congress/v1/116/house/committees/HSFA/subcommittees/HSFA17.json',\n",
       "       'id': 'HSFA17',\n",
       "       'name': 'Oversight and Investigations'},\n",
       "      {'api_uri': 'https://api.propublica.org/congress/v1/116/house/committees/HSFA/subcommittees/HSFA13.json',\n",
       "       'id': 'HSFA13',\n",
       "       'name': 'Middle East, North Africa, and International Terrorism'},\n",
       "      {'api_uri': 'https://api.propublica.org/congress/v1/116/house/committees/HSFA/subcommittees/HSFA07.json',\n",
       "       'id': 'HSFA07',\n",
       "       'name': 'Western Hemisphere, Civilian Security, and Trade'}],\n",
       "     'url': 'https://foreignaffairs.house.gov/'},\n",
       "    {'api_uri': 'https://api.propublica.org/congress/v1/116/house/committees/HSHM.json',\n",
       "     'chair': 'Bennie Thompson',\n",
       "     'chair_id': 'T000193',\n",
       "     'chair_party': 'D',\n",
       "     'chair_state': 'MS',\n",
       "     'chair_uri': 'https://api.propublica.org/congress/v1/members/T000193.json',\n",
       "     'chamber': 'House',\n",
       "     'id': 'HSHM',\n",
       "     'name': 'Committee on Homeland Security',\n",
       "     'ranking_member_id': 'R000575',\n",
       "     'subcommittees': [{'api_uri': 'https://api.propublica.org/congress/v1/116/house/committees/HSHM/subcommittees/HSHM11.json',\n",
       "       'id': 'HSHM11',\n",
       "       'name': 'Border Security, Facilitation, and Operations'},\n",
       "      {'api_uri': 'https://api.propublica.org/congress/v1/116/house/committees/HSHM/subcommittees/HSHM12.json',\n",
       "       'id': 'HSHM12',\n",
       "       'name': 'Emergency Preparedness, Response, and Recovery'},\n",
       "      {'api_uri': 'https://api.propublica.org/congress/v1/116/house/committees/HSHM/subcommittees/HSHM08.json',\n",
       "       'id': 'HSHM08',\n",
       "       'name': 'Cybersecurity, Infrastructure Protection, and Innovation'},\n",
       "      {'api_uri': 'https://api.propublica.org/congress/v1/116/house/committees/HSHM/subcommittees/HSHM05.json',\n",
       "       'id': 'HSHM05',\n",
       "       'name': 'Intelligence and Counterterrorism'},\n",
       "      {'api_uri': 'https://api.propublica.org/congress/v1/116/house/committees/HSHM/subcommittees/HSHM09.json',\n",
       "       'id': 'HSHM09',\n",
       "       'name': 'Oversight, Management, and Accountability'},\n",
       "      {'api_uri': 'https://api.propublica.org/congress/v1/116/house/committees/HSHM/subcommittees/HSHM07.json',\n",
       "       'id': 'HSHM07',\n",
       "       'name': 'Transportation and Maritime Security'}],\n",
       "     'url': 'https://homeland.house.gov/'},\n",
       "    {'api_uri': 'https://api.propublica.org/congress/v1/116/house/committees/HSII.json',\n",
       "     'chair': 'Raúl M. Grijalva',\n",
       "     'chair_id': 'G000551',\n",
       "     'chair_party': 'D',\n",
       "     'chair_state': 'AZ',\n",
       "     'chair_uri': 'https://api.propublica.org/congress/v1/members/G000551.json',\n",
       "     'chamber': 'House',\n",
       "     'id': 'HSII',\n",
       "     'name': 'Committee on Natural Resources',\n",
       "     'ranking_member_id': 'B001250',\n",
       "     'subcommittees': [{'api_uri': 'https://api.propublica.org/congress/v1/116/house/committees/HSII/subcommittees/HSII06.json',\n",
       "       'id': 'HSII06',\n",
       "       'name': 'Energy and Mineral Resources'},\n",
       "      {'api_uri': 'https://api.propublica.org/congress/v1/116/house/committees/HSII/subcommittees/HSII22.json',\n",
       "       'id': 'HSII22',\n",
       "       'name': 'Fisheries, Wildlife, Oceans and Insular Affairs'},\n",
       "      {'api_uri': 'https://api.propublica.org/congress/v1/116/house/committees/HSII/subcommittees/HSII10.json',\n",
       "       'id': 'HSII10',\n",
       "       'name': 'National Parks, Forests, and Public Lands'},\n",
       "      {'api_uri': 'https://api.propublica.org/congress/v1/116/house/committees/HSII/subcommittees/HSII13.json',\n",
       "       'id': 'HSII13',\n",
       "       'name': 'Water, Oceans, and Wildlife'},\n",
       "      {'api_uri': 'https://api.propublica.org/congress/v1/116/house/committees/HSII/subcommittees/HSII15.json',\n",
       "       'id': 'HSII15',\n",
       "       'name': 'Oversight and Investigations'},\n",
       "      {'api_uri': 'https://api.propublica.org/congress/v1/116/house/committees/HSII/subcommittees/HSII24.json',\n",
       "       'id': 'HSII24',\n",
       "       'name': 'Indigenous Peoples of the United States'}],\n",
       "     'url': 'https://naturalresources.house.gov/'},\n",
       "    {'api_uri': 'https://api.propublica.org/congress/v1/116/house/committees/HSGO.json',\n",
       "     'chair': 'Elijah E. Cummings',\n",
       "     'chair_id': 'C000984',\n",
       "     'chair_party': 'D',\n",
       "     'chair_state': 'MD',\n",
       "     'chair_uri': 'https://api.propublica.org/congress/v1/members/C000984.json',\n",
       "     'chamber': 'House',\n",
       "     'id': 'HSGO',\n",
       "     'name': 'Committee on Oversight and Reform',\n",
       "     'ranking_member_id': 'J000289',\n",
       "     'subcommittees': [{'api_uri': 'https://api.propublica.org/congress/v1/116/house/committees/HSGO/subcommittees/HSGO25.json',\n",
       "       'id': 'HSGO25',\n",
       "       'name': 'Information Technology'},\n",
       "      {'api_uri': 'https://api.propublica.org/congress/v1/116/house/committees/HSGO/subcommittees/HSGO24.json',\n",
       "       'id': 'HSGO24',\n",
       "       'name': 'Government Operations'},\n",
       "      {'api_uri': 'https://api.propublica.org/congress/v1/116/house/committees/HSGO/subcommittees/HSGO06.json',\n",
       "       'id': 'HSGO06',\n",
       "       'name': 'National Security'},\n",
       "      {'api_uri': 'https://api.propublica.org/congress/v1/116/house/committees/HSGO/subcommittees/HSGO28.json',\n",
       "       'id': 'HSGO28',\n",
       "       'name': 'Environment'},\n",
       "      {'api_uri': 'https://api.propublica.org/congress/v1/116/house/committees/HSGO/subcommittees/HSGO27.json',\n",
       "       'id': 'HSGO27',\n",
       "       'name': 'Healthcare, Benefits, and Administrative Rules'},\n",
       "      {'api_uri': 'https://api.propublica.org/congress/v1/116/house/committees/HSGO/subcommittees/HSGO29.json',\n",
       "       'id': 'HSGO29',\n",
       "       'name': 'Intergovernmental Affairs'},\n",
       "      {'api_uri': 'https://api.propublica.org/congress/v1/116/house/committees/HSGO/subcommittees/HSGO02.json',\n",
       "       'id': 'HSGO02',\n",
       "       'name': 'Civil Rights and Civil Liberties'},\n",
       "      {'api_uri': 'https://api.propublica.org/congress/v1/116/house/committees/HSGO/subcommittees/HSGO05.json',\n",
       "       'id': 'HSGO05',\n",
       "       'name': 'Economic and Consumer Policy'}],\n",
       "     'url': 'https://oversight.house.gov/'},\n",
       "    {'api_uri': 'https://api.propublica.org/congress/v1/116/house/committees/HSRU.json',\n",
       "     'chair': 'Jim McGovern',\n",
       "     'chair_id': 'M000312',\n",
       "     'chair_party': 'D',\n",
       "     'chair_state': 'MA',\n",
       "     'chair_uri': 'https://api.propublica.org/congress/v1/members/M000312.json',\n",
       "     'chamber': 'House',\n",
       "     'id': 'HSRU',\n",
       "     'name': 'Committee on Rules',\n",
       "     'ranking_member_id': 'C001053',\n",
       "     'subcommittees': [{'api_uri': 'https://api.propublica.org/congress/v1/116/house/committees/HSRU/subcommittees/HSRU02.json',\n",
       "       'id': 'HSRU02',\n",
       "       'name': 'Legislative and Budget Process'},\n",
       "      {'api_uri': 'https://api.propublica.org/congress/v1/116/house/committees/HSRU/subcommittees/HSRU04.json',\n",
       "       'id': 'HSRU04',\n",
       "       'name': 'Rules and Organization of the House'},\n",
       "      {'api_uri': 'https://api.propublica.org/congress/v1/116/house/committees/HSRU/subcommittees/HSRU05.json',\n",
       "       'id': 'HSRU05',\n",
       "       'name': 'Expedited Procedures'}],\n",
       "     'url': 'https://rules.house.gov/'},\n",
       "    {'api_uri': 'https://api.propublica.org/congress/v1/116/house/committees/HSSY.json',\n",
       "     'chair': 'Eddie Bernice Johnson',\n",
       "     'chair_id': 'J000126',\n",
       "     'chair_party': 'D',\n",
       "     'chair_state': 'TX',\n",
       "     'chair_uri': 'https://api.propublica.org/congress/v1/members/J000126.json',\n",
       "     'chamber': 'House',\n",
       "     'id': 'HSSY',\n",
       "     'name': 'Committee on Science, Space, and Technology',\n",
       "     'ranking_member_id': 'L000491',\n",
       "     'subcommittees': [{'api_uri': 'https://api.propublica.org/congress/v1/116/house/committees/HSSY/subcommittees/HSSY20.json',\n",
       "       'id': 'HSSY20',\n",
       "       'name': 'Energy'},\n",
       "      {'api_uri': 'https://api.propublica.org/congress/v1/116/house/committees/HSSY/subcommittees/HSSY21.json',\n",
       "       'id': 'HSSY21',\n",
       "       'name': 'Investigations and Oversight'},\n",
       "      {'api_uri': 'https://api.propublica.org/congress/v1/116/house/committees/HSSY/subcommittees/HSSY16.json',\n",
       "       'id': 'HSSY16',\n",
       "       'name': 'Space and Aeronautics'},\n",
       "      {'api_uri': 'https://api.propublica.org/congress/v1/116/house/committees/HSSY/subcommittees/HSSY15.json',\n",
       "       'id': 'HSSY15',\n",
       "       'name': 'Research and Technology'},\n",
       "      {'api_uri': 'https://api.propublica.org/congress/v1/116/house/committees/HSSY/subcommittees/HSSY18.json',\n",
       "       'id': 'HSSY18',\n",
       "       'name': 'Environment'}],\n",
       "     'url': 'https://science.house.gov/'},\n",
       "    {'api_uri': 'https://api.propublica.org/congress/v1/116/house/committees/HSSM.json',\n",
       "     'chair': 'Nydia M. Velázquez',\n",
       "     'chair_id': 'V000081',\n",
       "     'chair_party': 'D',\n",
       "     'chair_state': 'NY',\n",
       "     'chair_uri': 'https://api.propublica.org/congress/v1/members/V000081.json',\n",
       "     'chamber': 'House',\n",
       "     'id': 'HSSM',\n",
       "     'name': 'Committee on Small Business',\n",
       "     'ranking_member_id': 'C000266',\n",
       "     'subcommittees': [{'api_uri': 'https://api.propublica.org/congress/v1/116/house/committees/HSSM/subcommittees/HSSM23.json',\n",
       "       'id': 'HSSM23',\n",
       "       'name': 'Contracting and Infrastructure'},\n",
       "      {'api_uri': 'https://api.propublica.org/congress/v1/116/house/committees/HSSM/subcommittees/HSSM24.json',\n",
       "       'id': 'HSSM24',\n",
       "       'name': 'Investigations, Oversight and Regulations'},\n",
       "      {'api_uri': 'https://api.propublica.org/congress/v1/116/house/committees/HSSM/subcommittees/HSSM25.json',\n",
       "       'id': 'HSSM25',\n",
       "       'name': 'Rural Development, Agriculture, Trade and Entrepreneurship'},\n",
       "      {'api_uri': 'https://api.propublica.org/congress/v1/116/house/committees/HSSM/subcommittees/HSSM27.json',\n",
       "       'id': 'HSSM27',\n",
       "       'name': 'Economic Growth, Tax and Capital Access'},\n",
       "      {'api_uri': 'https://api.propublica.org/congress/v1/116/house/committees/HSSM/subcommittees/HSSM26.json',\n",
       "       'id': 'HSSM26',\n",
       "       'name': 'Innovation and Workforce Development'}],\n",
       "     'url': 'https://smallbusiness.house.gov/'},\n",
       "    {'api_uri': 'https://api.propublica.org/congress/v1/116/house/committees/HSBU.json',\n",
       "     'chair': 'John Yarmuth',\n",
       "     'chair_id': 'Y000062',\n",
       "     'chair_party': 'D',\n",
       "     'chair_state': 'KY',\n",
       "     'chair_uri': 'https://api.propublica.org/congress/v1/members/Y000062.json',\n",
       "     'chamber': 'House',\n",
       "     'id': 'HSBU',\n",
       "     'name': 'Committee on the Budget',\n",
       "     'ranking_member_id': 'W000809',\n",
       "     'subcommittees': [],\n",
       "     'url': 'https://budget.house.gov/'},\n",
       "    {'api_uri': 'https://api.propublica.org/congress/v1/116/house/committees/HSJU.json',\n",
       "     'chair': 'Jerrold Nadler',\n",
       "     'chair_id': 'N000002',\n",
       "     'chair_party': 'D',\n",
       "     'chair_state': 'NY',\n",
       "     'chair_uri': 'https://api.propublica.org/congress/v1/members/N000002.json',\n",
       "     'chamber': 'House',\n",
       "     'id': 'HSJU',\n",
       "     'name': 'Committee on the Judiciary',\n",
       "     'ranking_member_id': 'C001093',\n",
       "     'subcommittees': [{'api_uri': 'https://api.propublica.org/congress/v1/116/house/committees/HSJU/subcommittees/HSJU10.json',\n",
       "       'id': 'HSJU10',\n",
       "       'name': 'Constitution, Civil Rights, and Civil Liberties'},\n",
       "      {'api_uri': 'https://api.propublica.org/congress/v1/116/house/committees/HSJU/subcommittees/HSJU03.json',\n",
       "       'id': 'HSJU03',\n",
       "       'name': 'Courts, Intellectual Property, and the Internet'},\n",
       "      {'api_uri': 'https://api.propublica.org/congress/v1/116/house/committees/HSJU/subcommittees/HSJU08.json',\n",
       "       'id': 'HSJU08',\n",
       "       'name': 'Crime, Terrorism and Homeland Security'},\n",
       "      {'api_uri': 'https://api.propublica.org/congress/v1/116/house/committees/HSJU/subcommittees/HSJU01.json',\n",
       "       'id': 'HSJU01',\n",
       "       'name': 'Immigration and Citizenship'},\n",
       "      {'api_uri': 'https://api.propublica.org/congress/v1/116/house/committees/HSJU/subcommittees/HSJU05.json',\n",
       "       'id': 'HSJU05',\n",
       "       'name': 'Antitrust, Commercial and Administrative Law'}],\n",
       "     'url': 'https://judiciary.house.gov/'},\n",
       "    {'api_uri': 'https://api.propublica.org/congress/v1/116/house/committees/HSPW.json',\n",
       "     'chair': 'Peter A. DeFazio',\n",
       "     'chair_id': 'D000191',\n",
       "     'chair_party': 'D',\n",
       "     'chair_state': 'OR',\n",
       "     'chair_uri': 'https://api.propublica.org/congress/v1/members/D000191.json',\n",
       "     'chamber': 'House',\n",
       "     'id': 'HSPW',\n",
       "     'name': 'Committee on Transportation and Infrastructure',\n",
       "     'ranking_member_id': 'G000546',\n",
       "     'subcommittees': [{'api_uri': 'https://api.propublica.org/congress/v1/116/house/committees/HSPW/subcommittees/HSPW05.json',\n",
       "       'id': 'HSPW05',\n",
       "       'name': 'Aviation'},\n",
       "      {'api_uri': 'https://api.propublica.org/congress/v1/116/house/committees/HSPW/subcommittees/HSPW07.json',\n",
       "       'id': 'HSPW07',\n",
       "       'name': 'Coast Guard and Maritime Transportation'},\n",
       "      {'api_uri': 'https://api.propublica.org/congress/v1/116/house/committees/HSPW/subcommittees/HSPW13.json',\n",
       "       'id': 'HSPW13',\n",
       "       'name': 'Economic Development, Public Buildings, and Emergency Management'},\n",
       "      {'api_uri': 'https://api.propublica.org/congress/v1/116/house/committees/HSPW/subcommittees/HSPW12.json',\n",
       "       'id': 'HSPW12',\n",
       "       'name': 'Highways and Transit'},\n",
       "      {'api_uri': 'https://api.propublica.org/congress/v1/116/house/committees/HSPW/subcommittees/HSPW14.json',\n",
       "       'id': 'HSPW14',\n",
       "       'name': 'Railroads, Pipelines, and Hazardous Materials'},\n",
       "      {'api_uri': 'https://api.propublica.org/congress/v1/116/house/committees/HSPW/subcommittees/HSPW02.json',\n",
       "       'id': 'HSPW02',\n",
       "       'name': 'Water Resources and Environment'}],\n",
       "     'url': 'https://transportation.house.gov/'},\n",
       "    {'api_uri': 'https://api.propublica.org/congress/v1/116/house/committees/HSVR.json',\n",
       "     'chair': 'Mark Takano',\n",
       "     'chair_id': 'T000472',\n",
       "     'chair_party': 'D',\n",
       "     'chair_state': 'CA',\n",
       "     'chair_uri': 'https://api.propublica.org/congress/v1/members/T000472.json',\n",
       "     'chamber': 'House',\n",
       "     'id': 'HSVR',\n",
       "     'name': \"Committee on Veterans' Affairs\",\n",
       "     'ranking_member_id': 'R000582',\n",
       "     'subcommittees': [{'api_uri': 'https://api.propublica.org/congress/v1/116/house/committees/HSVR/subcommittees/HSVR09.json',\n",
       "       'id': 'HSVR09',\n",
       "       'name': 'Disability Assistance and Memorial Affairs'},\n",
       "      {'api_uri': 'https://api.propublica.org/congress/v1/116/house/committees/HSVR/subcommittees/HSVR10.json',\n",
       "       'id': 'HSVR10',\n",
       "       'name': 'Economic Opportunity'},\n",
       "      {'api_uri': 'https://api.propublica.org/congress/v1/116/house/committees/HSVR/subcommittees/HSVR03.json',\n",
       "       'id': 'HSVR03',\n",
       "       'name': 'Health'},\n",
       "      {'api_uri': 'https://api.propublica.org/congress/v1/116/house/committees/HSVR/subcommittees/HSVR08.json',\n",
       "       'id': 'HSVR08',\n",
       "       'name': 'Oversight and Investigations'},\n",
       "      {'api_uri': 'https://api.propublica.org/congress/v1/116/house/committees/HSVR/subcommittees/HSVR11.json',\n",
       "       'id': 'HSVR11',\n",
       "       'name': 'Technology Modernization'}],\n",
       "     'url': 'https://veterans.house.gov/'},\n",
       "    {'api_uri': 'https://api.propublica.org/congress/v1/116/house/committees/HSWM.json',\n",
       "     'chair': 'Richard E. Neal',\n",
       "     'chair_id': 'N000015',\n",
       "     'chair_party': 'D',\n",
       "     'chair_state': 'MA',\n",
       "     'chair_uri': 'https://api.propublica.org/congress/v1/members/N000015.json',\n",
       "     'chamber': 'House',\n",
       "     'id': 'HSWM',\n",
       "     'name': 'Committee on Ways and Means',\n",
       "     'ranking_member_id': 'B000755',\n",
       "     'subcommittees': [{'api_uri': 'https://api.propublica.org/congress/v1/116/house/committees/HSWM/subcommittees/HSWM02.json',\n",
       "       'id': 'HSWM02',\n",
       "       'name': 'Health'},\n",
       "      {'api_uri': 'https://api.propublica.org/congress/v1/116/house/committees/HSWM/subcommittees/HSWM03.json',\n",
       "       'id': 'HSWM03',\n",
       "       'name': 'Worker and Family Support'},\n",
       "      {'api_uri': 'https://api.propublica.org/congress/v1/116/house/committees/HSWM/subcommittees/HSWM06.json',\n",
       "       'id': 'HSWM06',\n",
       "       'name': 'Oversight'},\n",
       "      {'api_uri': 'https://api.propublica.org/congress/v1/116/house/committees/HSWM/subcommittees/HSWM05.json',\n",
       "       'id': 'HSWM05',\n",
       "       'name': 'Select Revenue Measures'},\n",
       "      {'api_uri': 'https://api.propublica.org/congress/v1/116/house/committees/HSWM/subcommittees/HSWM01.json',\n",
       "       'id': 'HSWM01',\n",
       "       'name': 'Social Security'},\n",
       "      {'api_uri': 'https://api.propublica.org/congress/v1/116/house/committees/HSWM/subcommittees/HSWM04.json',\n",
       "       'id': 'HSWM04',\n",
       "       'name': 'Trade'}],\n",
       "     'url': 'https://waysandmeans.house.gov/'},\n",
       "    {'api_uri': 'https://api.propublica.org/congress/v1/116/house/committees/HSIG.json',\n",
       "     'chair': 'Adam B. Schiff',\n",
       "     'chair_id': 'S001150',\n",
       "     'chair_party': 'D',\n",
       "     'chair_state': 'CA',\n",
       "     'chair_uri': 'https://api.propublica.org/congress/v1/members/S001150.json',\n",
       "     'chamber': 'House',\n",
       "     'id': 'HSIG',\n",
       "     'name': 'Permanent Select Committee on Intelligence',\n",
       "     'ranking_member_id': 'N000181',\n",
       "     'subcommittees': [{'api_uri': 'https://api.propublica.org/congress/v1/116/house/committees/HSIG/subcommittees/HSIG06.json',\n",
       "       'id': 'HSIG06',\n",
       "       'name': 'Defense Intelligence and Warfighter Support'},\n",
       "      {'api_uri': 'https://api.propublica.org/congress/v1/116/house/committees/HSIG/subcommittees/HSIG09.json',\n",
       "       'id': 'HSIG09',\n",
       "       'name': 'Oversight and Investigations'},\n",
       "      {'api_uri': 'https://api.propublica.org/congress/v1/116/house/committees/HSIG/subcommittees/HSIG05.json',\n",
       "       'id': 'HSIG05',\n",
       "       'name': 'Counterterrorism, Counterintelligence, and Counterproliferation'},\n",
       "      {'api_uri': 'https://api.propublica.org/congress/v1/116/house/committees/HSIG/subcommittees/HSIG08.json',\n",
       "       'id': 'HSIG08',\n",
       "       'name': 'Intelligence Modernization and Readiness'},\n",
       "      {'api_uri': 'https://api.propublica.org/congress/v1/116/house/committees/HSIG/subcommittees/HSIG04.json',\n",
       "       'id': 'HSIG04',\n",
       "       'name': 'Department of Defense Intelligence and Overhead Architecture'},\n",
       "      {'api_uri': 'https://api.propublica.org/congress/v1/116/house/committees/HSIG/subcommittees/HSIG03.json',\n",
       "       'id': 'HSIG03',\n",
       "       'name': 'Emerging Threats'},\n",
       "      {'api_uri': 'https://api.propublica.org/congress/v1/116/house/committees/HSIG/subcommittees/HSIG02.json',\n",
       "       'id': 'HSIG02',\n",
       "       'name': 'National Security Agency and Cybersecurity'},\n",
       "      {'api_uri': 'https://api.propublica.org/congress/v1/116/house/committees/HSIG/subcommittees/HSIG01.json',\n",
       "       'id': 'HSIG01',\n",
       "       'name': 'Central Intelligence Agency'},\n",
       "      {'api_uri': 'https://api.propublica.org/congress/v1/116/house/committees/HSIG/subcommittees/HSIG10.json',\n",
       "       'id': 'HSIG10',\n",
       "       'name': 'Strategic Technologies and Advanced Research'}],\n",
       "     'url': 'https://intelligence.house.gov/'},\n",
       "    {'api_uri': 'https://api.propublica.org/congress/v1/116/house/committees/HSCN.json',\n",
       "     'chair': 'Kathy Castor',\n",
       "     'chair_id': 'C001066',\n",
       "     'chair_party': 'D',\n",
       "     'chair_state': 'FL',\n",
       "     'chair_uri': 'https://api.propublica.org/congress/v1/members/C001066.json',\n",
       "     'chamber': 'House',\n",
       "     'id': 'HSCN',\n",
       "     'name': 'Select Committee on the Climate Crisis',\n",
       "     'ranking_member_id': 'G000577',\n",
       "     'subcommittees': [],\n",
       "     'url': 'https://climatecrisis.house.gov/'},\n",
       "    {'api_uri': 'https://api.propublica.org/congress/v1/116/house/committees/HSMH.json',\n",
       "     'chair': 'Derek Kilmer',\n",
       "     'chair_id': 'K000381',\n",
       "     'chair_party': 'D',\n",
       "     'chair_state': 'WA',\n",
       "     'chair_uri': 'https://api.propublica.org/congress/v1/members/K000381.json',\n",
       "     'chamber': 'House',\n",
       "     'id': 'HSMH',\n",
       "     'name': 'Select Committee on the Modernization of Congress',\n",
       "     'ranking_member_id': 'G000560',\n",
       "     'subcommittees': [],\n",
       "     'url': 'https://modernizecongress.house.gov/'}],\n",
       "   'congress': '116',\n",
       "   'num_results': 23}],\n",
       " 'status': 'OK'}"
      ]
     },
     "execution_count": 4,
     "metadata": {
      "tags": []
     },
     "output_type": "execute_result"
    }
   ],
   "source": [
    "import requests\n",
    "\n",
    "committees_URL = \"https://api.propublica.org/congress/v1/116/house/committees.json\"\n",
    "\n",
    "key = \"\"\n",
    "result = requests.get(committees_URL, headers={'X-API-Key': key})\n",
    "\n",
    "committees = result.json()\n",
    "committees"
   ]
  },
  {
   "cell_type": "markdown",
   "metadata": {
    "id": "h3XQg6CATo5e"
   },
   "source": [
    "Looking at the specific committee hearings, it unfortunately appears that the most up to date information is from `2019-02-14`, i.e., the hearing of interest is not listed! Unfortunately, searching through the returned object confirms this. Moreover, we can see from the returned object's values\n",
    "\n",
    "```\n",
    "'num_results': 9\n",
    "'offset': 0\n",
    "```\n",
    "\n",
    "that the search for result in the committee only resulted in the nine we see, i.e., that there also aren't any older ones!"
   ]
  },
  {
   "cell_type": "code",
   "execution_count": null,
   "metadata": {
    "colab": {
     "base_uri": "https://localhost:8080/",
     "height": 1000
    },
    "executionInfo": {
     "elapsed": 881,
     "status": "ok",
     "timestamp": 1601927493843,
     "user": {
      "displayName": "Dr. Jake",
      "photoUrl": "",
      "userId": "10996578946780976051"
     },
     "user_tz": 240
    },
    "id": "8DrbuUFvDdCz",
    "outputId": "4d8d85f9-5f20-4fd7-a5d2-2b5df5c9f069"
   },
   "outputs": [
    {
     "data": {
      "text/plain": [
       "{'copyright': 'Copyright (c) 2020 Pro Publica Inc. All Rights Reserved.',\n",
       " 'results': [{'congress': '116',\n",
       "   'hearings': [{'api_uri': 'https://api.propublica.org/congress/v1/116/house/committees/HSJU.json',\n",
       "     'bill_ids': [],\n",
       "     'chamber': 'House',\n",
       "     'committee': 'Committee on the Judiciary',\n",
       "     'committee_code': 'HSJU',\n",
       "     'date': '2019-02-14',\n",
       "     'description': 'The State of Competition in the Wireless Market: Examining the Impact of the Proposed Merger of T-Mobile and Sprint on Consumers, Workers, and the Internet',\n",
       "     'location': 'RHOB 2141',\n",
       "     'meeting_type': 'Hearing',\n",
       "     'time': '10:00:00',\n",
       "     'url': 'https://docs.house.gov/Committee/Calendar/ByEvent.aspx?EventID=108892'},\n",
       "    {'api_uri': 'https://api.propublica.org/congress/v1/116/house/committees/HSJU.json',\n",
       "     'bill_ids': [],\n",
       "     'chamber': 'House',\n",
       "     'committee': 'Committee on the Judiciary',\n",
       "     'committee_code': 'HSJU',\n",
       "     'date': '2019-02-13',\n",
       "     'description': 'H.R. 8 and H.R. 1112',\n",
       "     'location': 'RHOB 2141',\n",
       "     'meeting_type': 'Markup',\n",
       "     'time': '10:00:00',\n",
       "     'url': 'https://docs.house.gov/Committee/Calendar/ByEvent.aspx?EventID=108912'},\n",
       "    {'api_uri': 'https://api.propublica.org/congress/v1/116/house/committees/HSJU.json',\n",
       "     'bill_ids': [],\n",
       "     'chamber': 'House',\n",
       "     'committee': 'Committee on the Judiciary',\n",
       "     'committee_code': 'HSJU',\n",
       "     'date': '2019-02-12',\n",
       "     'description': 'Oversight of the Trump Administrations Family Separation Policy',\n",
       "     'location': 'RHOB 2141',\n",
       "     'meeting_type': 'Hearing',\n",
       "     'time': '10:00:00',\n",
       "     'url': 'https://docs.house.gov/Committee/Calendar/ByEvent.aspx?EventID=108872'},\n",
       "    {'api_uri': 'https://api.propublica.org/congress/v1/116/house/committees/HSJU.json',\n",
       "     'bill_ids': [],\n",
       "     'chamber': 'House',\n",
       "     'committee': 'Committee on the Judiciary',\n",
       "     'committee_code': 'HSJU',\n",
       "     'date': '2019-02-08',\n",
       "     'description': 'Oversight of the U.S. Department of Justice',\n",
       "     'location': 'RHOB 2141',\n",
       "     'meeting_type': 'Hearing',\n",
       "     'time': '09:30:00',\n",
       "     'url': 'https://docs.house.gov/Committee/Calendar/ByEvent.aspx?EventID=108848'},\n",
       "    {'api_uri': 'https://api.propublica.org/congress/v1/116/house/committees/HSJU.json',\n",
       "     'bill_ids': ['hr948-116'],\n",
       "     'chamber': 'House',\n",
       "     'committee': 'Committee on the Judiciary',\n",
       "     'committee_code': 'HSJU',\n",
       "     'date': '2019-02-07',\n",
       "     'description': 'Resolution authorizing issuance of a subpoena to Acting Attorney General Matthew G. Whitaker to secure his appearance and testimony at the hearing of the Committee regarding oversight of the U.S. Department of Justice; and H.R. 948, the &quot;No Oil Producing and Exporting Cartels Act of 2019&quot; or &quot;NOPEC&quot;.',\n",
       "     'location': 'RHOB 2141',\n",
       "     'meeting_type': 'Markup',\n",
       "     'time': '10:00:00',\n",
       "     'url': 'https://docs.house.gov/Committee/Calendar/ByEvent.aspx?EventID=108875'},\n",
       "    {'api_uri': 'https://api.propublica.org/congress/v1/116/house/committees/HSJU.json',\n",
       "     'bill_ids': [],\n",
       "     'chamber': 'House',\n",
       "     'committee': 'Committee on the Judiciary',\n",
       "     'committee_code': 'HSJU',\n",
       "     'date': '2019-02-06',\n",
       "     'description': 'Preventing Gun Violence: A Call to Action',\n",
       "     'location': 'RHOB 2141',\n",
       "     'meeting_type': 'Meeting',\n",
       "     'time': '10:00:00',\n",
       "     'url': 'https://docs.house.gov/Committee/Calendar/ByEvent.aspx?EventID=108834'},\n",
       "    {'api_uri': 'https://api.propublica.org/congress/v1/116/house/committees/HSJU.json',\n",
       "     'bill_ids': [],\n",
       "     'chamber': 'House',\n",
       "     'committee': 'Committee on the Judiciary',\n",
       "     'committee_code': 'HSJU',\n",
       "     'date': '2019-02-06',\n",
       "     'description': 'Preventing Gun Violence: A Call to Action',\n",
       "     'location': 'RHOB 2141',\n",
       "     'meeting_type': 'Hearing',\n",
       "     'time': '10:00:00',\n",
       "     'url': 'https://docs.house.gov/Committee/Calendar/ByEvent.aspx?EventID=108838'},\n",
       "    {'api_uri': 'https://api.propublica.org/congress/v1/116/house/committees/HSJU.json',\n",
       "     'bill_ids': ['hr1-116'],\n",
       "     'chamber': 'House',\n",
       "     'committee': 'Committee on the Judiciary',\n",
       "     'committee_code': 'HSJU',\n",
       "     'date': '2019-01-29',\n",
       "     'description': 'H.R. 1, the &quot;For the People Act of 2019&quot;',\n",
       "     'location': 'RHOB 2141',\n",
       "     'meeting_type': 'Hearing',\n",
       "     'time': '10:00:00',\n",
       "     'url': 'https://docs.house.gov/Committee/Calendar/ByEvent.aspx?EventID=108824'},\n",
       "    {'api_uri': 'https://api.propublica.org/congress/v1/116/house/committees/HSJU.json',\n",
       "     'bill_ids': [],\n",
       "     'chamber': 'House',\n",
       "     'committee': 'Committee on the Judiciary',\n",
       "     'committee_code': 'HSJU',\n",
       "     'date': '2019-01-24',\n",
       "     'description': 'Committee Organizational Meeting',\n",
       "     'location': '',\n",
       "     'meeting_type': 'Meeting',\n",
       "     'time': '10:00:00',\n",
       "     'url': 'https://docs.house.gov/Committee/Calendar/ByEvent.aspx?EventID=108818'}],\n",
       "   'num_results': 9,\n",
       "   'offset': 0}],\n",
       " 'status': 'OK'}"
      ]
     },
     "execution_count": 23,
     "metadata": {
      "tags": []
     },
     "output_type": "execute_result"
    }
   ],
   "source": [
    "comm_id = \"HSJU\"\n",
    "hearings_URL = \"https://api.propublica.org/congress/v1/116/house/committees/\" + comm_id + \"/hearings.json\"\n",
    "\n",
    "result = requests.get(hearings_URL, headers={'X-API-Key': key})\n",
    "\n",
    "hearings = result.json()\n",
    "hearings"
   ]
  },
  {
   "cell_type": "markdown",
   "metadata": {
    "id": "mKS8ICteW1a6"
   },
   "source": [
    "One last thing we can do is look at all recent hearings to see if there are some 'recent' data that just weren't indexed in their database.\n",
    "\n",
    "Looking at the record from the same time period, we can see that 12pm ET on `2020-7-29` is passed over. So our hearing is not present at all, even though more recent ones are present! This then seems to indicate that ProPublica's data are not in fact sufficiently up to date, and only updated in targeted areas of the congressional record. To find more current records and certain records of interest we'll either have to wait for better features and more data, or build bespoke data collection from sources like `congress.gov`."
   ]
  },
  {
   "cell_type": "code",
   "execution_count": null,
   "metadata": {
    "colab": {
     "base_uri": "https://localhost:8080/",
     "height": 419
    },
    "executionInfo": {
     "elapsed": 373,
     "status": "ok",
     "timestamp": 1601927926970,
     "user": {
      "displayName": "Dr. Jake",
      "photoUrl": "",
      "userId": "10996578946780976051"
     },
     "user_tz": 240
    },
    "id": "xhdGazyILPzm",
    "outputId": "677ea11b-19c0-403a-aa94-e8128c9b161b"
   },
   "outputs": [
    {
     "data": {
      "text/plain": [
       "[{'api_uri': 'https://api.propublica.org/congress/v1/116/senate/committees/SSVA.json',\n",
       "  'bill_ids': [],\n",
       "  'chamber': 'Senate',\n",
       "  'committee': 'Committee on Veterans&#39; Affairs',\n",
       "  'committee_code': 'SSVA',\n",
       "  'date': '2020-07-29',\n",
       "  'description': 'Hearings to examine VA telehealth during and beyond COVID-19, focusing on challenges and opportunities in rural America.',\n",
       "  'location': 'SD-G50',\n",
       "  'meeting_type': '',\n",
       "  'time': '14:00:00',\n",
       "  'url': ''},\n",
       " {'api_uri': 'https://api.propublica.org/congress/v1/116/senate/committees/SSFI.json',\n",
       "  'bill_ids': [],\n",
       "  'chamber': 'Senate',\n",
       "  'committee': 'Committee on Finance',\n",
       "  'committee_code': 'SSFI',\n",
       "  'date': '2020-07-29',\n",
       "  'description': 'Hearings to examine WTO reform, focusing on making global rules work for global challenges.',\n",
       "  'location': 'SD-215',\n",
       "  'meeting_type': '',\n",
       "  'time': '10:15:00',\n",
       "  'url': ''}]"
      ]
     },
     "execution_count": 50,
     "metadata": {
      "tags": []
     },
     "output_type": "execute_result"
    }
   ],
   "source": [
    "recent_hearings_URL = \"https://api.propublica.org/congress/v1/116/committees/hearings.json?&offset=119\"\n",
    "\n",
    "result = requests.get(recent_hearings_URL, headers={'X-API-Key': key})\n",
    "\n",
    "recent_hearings = result.json()\n",
    "recent_hearings['results'][0]['hearings'][0:2]"
   ]
  },
  {
   "cell_type": "code",
   "execution_count": null,
   "metadata": {
    "id": "owbJ9xklT8mb"
   },
   "outputs": [],
   "source": []
  }
 ],
 "metadata": {
  "colab": {
   "collapsed_sections": [],
   "name": "exercises-solutions.ipynb",
   "provenance": []
  },
  "kernelspec": {
   "display_name": "Python 3",
   "language": "python",
   "name": "python3"
  },
  "language_info": {
   "codemirror_mode": {
    "name": "ipython",
    "version": 3
   },
   "file_extension": ".py",
   "mimetype": "text/x-python",
   "name": "python",
   "nbconvert_exporter": "python",
   "pygments_lexer": "ipython3",
   "version": "3.8.5"
  }
 },
 "nbformat": 4,
 "nbformat_minor": 4
}
