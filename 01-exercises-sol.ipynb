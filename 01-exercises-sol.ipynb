{
 "cells": [
  {
   "cell_type": "markdown",
   "metadata": {
    "colab_type": "text",
    "id": "NXdvvep3n8GN"
   },
   "source": [
    "# DSCI 511: Data acquisition and pre-processing<br>Chapter 1: Introduction, process, and getting started with data\n",
    "## Exercises\n",
    "Note: numberings refer to the main notes."
   ]
  },
  {
   "cell_type": "markdown",
   "metadata": {
    "colab_type": "text",
    "id": "d0_YJVl1n8GP"
   },
   "source": [
    "#### 1.4.2.3 Exercise: Loading data from a JSON file\n",
    "Load the example JSON file (`colors.json`) containing some data about colors. Use Python's `json` module to load the file ([source](https://github.com/corysimmons/colors.json/blob/master/colors.json)), and use the name of a color, e.g., `name = 'magenta'` as a _key_ to the dictionary (more on these in Chapter 2) result, e.g., `result[name]` to see the RGB intensities that mix to make the color."
   ]
  },
  {
   "cell_type": "code",
   "execution_count": 2,
   "metadata": {
    "colab": {
     "base_uri": "https://localhost:8080/",
     "height": 34
    },
    "colab_type": "code",
    "executionInfo": {
     "elapsed": 303,
     "status": "ok",
     "timestamp": 1600729815017,
     "user": {
      "displayName": "Dr. Jake",
      "photoUrl": "",
      "userId": "10996578946780976051"
     },
     "user_tz": 240
    },
    "id": "cTv-N4S7n8GS",
    "outputId": "bcbabe25-eb8f-4e8e-8a99-af0b2b8e7da5"
   },
   "outputs": [
    {
     "name": "stdout",
     "output_type": "stream",
     "text": [
      "[255, 0, 255, 1]\n"
     ]
    }
   ],
   "source": [
    "## code here\n",
    "import json\n",
    "with open('./data/colors.json','r') as fh:\n",
    "    colors=json.load(fh)\n",
    "print(colors['magenta'])"
   ]
  },
  {
   "cell_type": "markdown",
   "metadata": {
    "colab_type": "text",
    "id": "TufvjtHKn8Ge"
   },
   "source": [
    "#### 1.4.2.5 Exercise: XML\n",
    "Load an [example XML file](https://gist.github.com/sghael/2930380) of colors (`colors.xml`) and extract a single color of your choosing from the result."
   ]
  },
  {
   "cell_type": "code",
   "execution_count": 16,
   "metadata": {
    "colab": {},
    "colab_type": "code",
    "id": "yuIEBRuzn8Gh"
   },
   "outputs": [
    {
     "name": "stdout",
     "output_type": "stream",
     "text": [
      "#FF00FF\n"
     ]
    }
   ],
   "source": [
    "## code here\n",
    "import xmltodict\n",
    "\n",
    "with open('./data/colors.xml','rb') as fh:\n",
    "    xml_data = fh.read()\n",
    "dict_xml = xmltodict.parse(xml_data)\n",
    "# print(dict_xml['resources']['color'])\n",
    "colors = {i['@name']:i['#text'] for i in dict_xml['resources']['color'] }\n",
    "### you can do this without list comprehension as well as below\n",
    "# for i in dict_xml['resources']['color']:\n",
    "#     colors[i['@name']] = i['#text']\n",
    "print(colors['magenta'])"
   ]
  },
  {
   "cell_type": "markdown",
   "metadata": {
    "colab_type": "text",
    "id": "zVw4Lz7Un8Gt"
   },
   "source": [
    "#### 1.4.2.7 Exercise: load a csv with a header\n",
    "Use the `csv.reader()` function to the load the `APPL.csv` stock prices spreadsheet. Print the first 10 rows and infer what the columns mean from the header. Note: Stock history for APPL were retrieved from [Yahoo](https://finance.yahoo.com/quote/AAPL/history?p=AAPL). How would you utilize the header information separately in a data structure to ease access to columns?"
   ]
  },
  {
   "cell_type": "code",
   "execution_count": 20,
   "metadata": {
    "colab": {},
    "colab_type": "code",
    "id": "VQ7VYm8Gn8Gu"
   },
   "outputs": [
    {
     "name": "stdout",
     "output_type": "stream",
     "text": [
      "[['Date', 'Open', 'High', 'Low', 'Close', 'Volume', 'Adj Close'], ['2016-07-13', '97.410004', '97.669998', '96.839996', '96.870003', '25892200', '95.442123'], ['2016-07-12', '97.169998', '97.699997', '97.120003', '97.419998', '24167500', '95.984011'], ['2016-07-11', '96.75', '97.650002', '96.730003', '96.980003', '23794900', '95.550502'], ['2016-07-08', '96.489998', '96.889999', '96.050003', '96.68', '28912100', '95.254921'], ['2016-07-07', '95.699997', '96.50', '95.620003', '95.940002', '25139600', '94.525831'], ['2016-07-06', '94.599998', '95.660004', '94.370003', '95.529999', '30949100', '94.12187'], ['2016-07-05', '95.389999', '95.400002', '94.459999', '94.989998', '27705200', '93.589829'], ['2016-07-01', '95.489998', '96.470001', '95.330002', '95.889999', '26026500', '94.476565'], ['2016-06-30', '94.440002', '95.769997', '94.300003', '95.599998', '35836400', '94.190838']]\n"
     ]
    }
   ],
   "source": [
    "## code here\n",
    "import csv\n",
    "# the reader function can take a \"delimiter\" argument for files that are separated by other characters instead of a comma.\n",
    "# this particular CSV file doesn't have a header, but some files might. We'd need the \"header\" argument for reading those files.\n",
    "APPL_reader = csv.reader(open(\"data/APPL.csv\", \"r\")) \n",
    "APPL = list(APPL_reader)\n",
    "\n",
    "# print the first ten colors\n",
    "print(APPL[:10])\n"
   ]
  },
  {
   "cell_type": "markdown",
   "metadata": {
    "colab_type": "text",
    "id": "54y4P3-_stsP"
   },
   "source": [
    "## Additional In-depth Exercises\n",
    "### A. Set up Google Collaboratory on your browser and connect Google Drive\n",
    "\n",
    "\n",
    "1. Create a Gmail/Google account\n",
    "2. Log into Google Drive\n",
    "3. Create a Directory for your Collaboratory (Jupyter) notebooks\n",
    "4. Navigate the drop-down menu: new > more > connect more apps\n",
    "5. Search of Collaboratory app and Google-authorize its installation (make Colab the default app for files it can open)\n",
    "6. To create a new notebook, navigate the drop-down menu: new>more>Google Collaboratory\n",
    "7. To upload/open an existing notebook, navigate the drop-down menu:  \n",
    "  - new > File Upload or \n",
    "  - new > Folder Upload\n"
   ]
  },
  {
   "cell_type": "markdown",
   "metadata": {
    "colab_type": "text",
    "id": "SA0xQg_xP8g5"
   },
   "source": [
    "### B. Set up Google Collaboratory on you browser and connect Google Drive\n",
    "\n",
    "1. To work with data, you'll have to have a copy in your own drive:\n",
    "  ```\n",
    "  from google.colab import drive\n",
    "  drive.mount('/content/gdrive')\n",
    "  ```\n",
    "2. when executing for the first time, follow google's dialogue to connect the Google Drive File Stream (don't forget to copy the provided code into the colab notebook where you're working)\n",
    "3. load your data, read from: `/content/gdrive/My Drive/path/to/data`"
   ]
  },
  {
   "cell_type": "markdown",
   "metadata": {
    "colab_type": "text",
    "id": "Y3iSzoEG0jU-"
   },
   "source": [
    "### C. Find some data and load it into your Google Drive/Colab"
   ]
  },
  {
   "cell_type": "code",
   "execution_count": null,
   "metadata": {
    "colab": {},
    "colab_type": "code",
    "id": "FmSh33VpsuYu"
   },
   "outputs": [],
   "source": []
  }
 ],
 "metadata": {
  "colab": {
   "collapsed_sections": [],
   "name": "exercises.ipynb",
   "provenance": []
  },
  "kernelspec": {
   "display_name": "Python 3 (ipykernel)",
   "language": "python",
   "name": "python3"
  },
  "language_info": {
   "codemirror_mode": {
    "name": "ipython",
    "version": 3
   },
   "file_extension": ".py",
   "mimetype": "text/x-python",
   "name": "python",
   "nbconvert_exporter": "python",
   "pygments_lexer": "ipython3",
   "version": "3.9.12"
  }
 },
 "nbformat": 4,
 "nbformat_minor": 4
}
